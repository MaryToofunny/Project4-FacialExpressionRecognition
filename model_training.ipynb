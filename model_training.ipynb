{
 "cells": [
  {
   "cell_type": "markdown",
   "metadata": {},
   "source": [
    "# Model Training"
   ]
  },
  {
   "cell_type": "code",
   "execution_count": 1,
   "metadata": {
    "scrolled": true
   },
   "outputs": [],
   "source": [
    "# Import our dependencies\n",
    "%matplotlib inline\n",
    "from sklearn.model_selection import train_test_split\n",
    "from sklearn.preprocessing import StandardScaler, MinMaxScaler, OneHotEncoder\n",
    "import pandas as pd\n",
    "import matplotlib.pyplot as plt\n",
    "import numpy as np"
   ]
  },
  {
   "cell_type": "markdown",
   "metadata": {},
   "source": [
    "## Keras Specific Dependencies"
   ]
  },
  {
   "cell_type": "code",
   "execution_count": 2,
   "metadata": {},
   "outputs": [
    {
     "name": "stderr",
     "output_type": "stream",
     "text": [
      "2023-04-17 15:11:25.349207: I tensorflow/core/platform/cpu_feature_guard.cc:193] This TensorFlow binary is optimized with oneAPI Deep Neural Network Library (oneDNN) to use the following CPU instructions in performance-critical operations:  AVX2 FMA\n",
      "To enable them in other operations, rebuild TensorFlow with the appropriate compiler flags.\n"
     ]
    }
   ],
   "source": [
    "from tensorflow import keras\n",
    "from keras.utils import to_categorical\n",
    "from keras.models import Sequential\n",
    "from keras.layers import Dense, Convolution2D, MaxPool2D, Flatten"
   ]
  },
  {
   "cell_type": "markdown",
   "metadata": {},
   "source": [
    "## Loading, Checking, and Splitting our Prepocessed Data"
   ]
  },
  {
   "cell_type": "code",
   "execution_count": 3,
   "metadata": {},
   "outputs": [
    {
     "data": {
      "text/html": [
       "<div>\n",
       "<style scoped>\n",
       "    .dataframe tbody tr th:only-of-type {\n",
       "        vertical-align: middle;\n",
       "    }\n",
       "\n",
       "    .dataframe tbody tr th {\n",
       "        vertical-align: top;\n",
       "    }\n",
       "\n",
       "    .dataframe thead th {\n",
       "        text-align: right;\n",
       "    }\n",
       "</style>\n",
       "<table border=\"1\" class=\"dataframe\">\n",
       "  <thead>\n",
       "    <tr style=\"text-align: right;\">\n",
       "      <th></th>\n",
       "      <th>0</th>\n",
       "      <th>1</th>\n",
       "      <th>2</th>\n",
       "      <th>3</th>\n",
       "      <th>4</th>\n",
       "      <th>5</th>\n",
       "      <th>6</th>\n",
       "      <th>7</th>\n",
       "      <th>8</th>\n",
       "      <th>9</th>\n",
       "      <th>...</th>\n",
       "      <th>2296</th>\n",
       "      <th>2297</th>\n",
       "      <th>2298</th>\n",
       "      <th>2299</th>\n",
       "      <th>2300</th>\n",
       "      <th>2301</th>\n",
       "      <th>2302</th>\n",
       "      <th>2303</th>\n",
       "      <th>Labels</th>\n",
       "      <th>Emotions</th>\n",
       "    </tr>\n",
       "  </thead>\n",
       "  <tbody>\n",
       "    <tr>\n",
       "      <th>0</th>\n",
       "      <td>59</td>\n",
       "      <td>71</td>\n",
       "      <td>89</td>\n",
       "      <td>118</td>\n",
       "      <td>139</td>\n",
       "      <td>160</td>\n",
       "      <td>183</td>\n",
       "      <td>222</td>\n",
       "      <td>212</td>\n",
       "      <td>148</td>\n",
       "      <td>...</td>\n",
       "      <td>0</td>\n",
       "      <td>0</td>\n",
       "      <td>0</td>\n",
       "      <td>0</td>\n",
       "      <td>0</td>\n",
       "      <td>0</td>\n",
       "      <td>1</td>\n",
       "      <td>0</td>\n",
       "      <td>1</td>\n",
       "      <td>Sad</td>\n",
       "    </tr>\n",
       "    <tr>\n",
       "      <th>1</th>\n",
       "      <td>90</td>\n",
       "      <td>97</td>\n",
       "      <td>105</td>\n",
       "      <td>42</td>\n",
       "      <td>41</td>\n",
       "      <td>41</td>\n",
       "      <td>37</td>\n",
       "      <td>40</td>\n",
       "      <td>36</td>\n",
       "      <td>55</td>\n",
       "      <td>...</td>\n",
       "      <td>42</td>\n",
       "      <td>48</td>\n",
       "      <td>83</td>\n",
       "      <td>107</td>\n",
       "      <td>105</td>\n",
       "      <td>77</td>\n",
       "      <td>51</td>\n",
       "      <td>32</td>\n",
       "      <td>1</td>\n",
       "      <td>Sad</td>\n",
       "    </tr>\n",
       "    <tr>\n",
       "      <th>2</th>\n",
       "      <td>219</td>\n",
       "      <td>221</td>\n",
       "      <td>222</td>\n",
       "      <td>224</td>\n",
       "      <td>225</td>\n",
       "      <td>226</td>\n",
       "      <td>227</td>\n",
       "      <td>229</td>\n",
       "      <td>230</td>\n",
       "      <td>231</td>\n",
       "      <td>...</td>\n",
       "      <td>17</td>\n",
       "      <td>8</td>\n",
       "      <td>3</td>\n",
       "      <td>31</td>\n",
       "      <td>46</td>\n",
       "      <td>38</td>\n",
       "      <td>59</td>\n",
       "      <td>74</td>\n",
       "      <td>1</td>\n",
       "      <td>Sad</td>\n",
       "    </tr>\n",
       "    <tr>\n",
       "      <th>3</th>\n",
       "      <td>51</td>\n",
       "      <td>51</td>\n",
       "      <td>53</td>\n",
       "      <td>50</td>\n",
       "      <td>47</td>\n",
       "      <td>44</td>\n",
       "      <td>41</td>\n",
       "      <td>40</td>\n",
       "      <td>37</td>\n",
       "      <td>37</td>\n",
       "      <td>...</td>\n",
       "      <td>26</td>\n",
       "      <td>59</td>\n",
       "      <td>65</td>\n",
       "      <td>66</td>\n",
       "      <td>64</td>\n",
       "      <td>62</td>\n",
       "      <td>60</td>\n",
       "      <td>56</td>\n",
       "      <td>0</td>\n",
       "      <td>Happy</td>\n",
       "    </tr>\n",
       "    <tr>\n",
       "      <th>4</th>\n",
       "      <td>91</td>\n",
       "      <td>118</td>\n",
       "      <td>124</td>\n",
       "      <td>101</td>\n",
       "      <td>97</td>\n",
       "      <td>130</td>\n",
       "      <td>149</td>\n",
       "      <td>147</td>\n",
       "      <td>144</td>\n",
       "      <td>137</td>\n",
       "      <td>...</td>\n",
       "      <td>202</td>\n",
       "      <td>210</td>\n",
       "      <td>202</td>\n",
       "      <td>120</td>\n",
       "      <td>106</td>\n",
       "      <td>106</td>\n",
       "      <td>101</td>\n",
       "      <td>94</td>\n",
       "      <td>0</td>\n",
       "      <td>Happy</td>\n",
       "    </tr>\n",
       "  </tbody>\n",
       "</table>\n",
       "<p>5 rows × 2306 columns</p>\n",
       "</div>"
      ],
      "text/plain": [
       "     0    1    2    3    4    5    6    7    8    9  ...  2296  2297  2298  \\\n",
       "0   59   71   89  118  139  160  183  222  212  148  ...     0     0     0   \n",
       "1   90   97  105   42   41   41   37   40   36   55  ...    42    48    83   \n",
       "2  219  221  222  224  225  226  227  229  230  231  ...    17     8     3   \n",
       "3   51   51   53   50   47   44   41   40   37   37  ...    26    59    65   \n",
       "4   91  118  124  101   97  130  149  147  144  137  ...   202   210   202   \n",
       "\n",
       "   2299  2300  2301  2302  2303  Labels  Emotions  \n",
       "0     0     0     0     1     0       1       Sad  \n",
       "1   107   105    77    51    32       1       Sad  \n",
       "2    31    46    38    59    74       1       Sad  \n",
       "3    66    64    62    60    56       0     Happy  \n",
       "4   120   106   106   101    94       0     Happy  \n",
       "\n",
       "[5 rows x 2306 columns]"
      ]
     },
     "execution_count": 3,
     "metadata": {},
     "output_type": "execute_result"
    }
   ],
   "source": [
    "# Load the cleaned and reduced dataframe\n",
    "data = pd.read_csv(\"resources/data_reduced.csv\", header=0, delimiter=\",\")\n",
    "data.head()"
   ]
  },
  {
   "cell_type": "code",
   "execution_count": 4,
   "metadata": {},
   "outputs": [
    {
     "name": "stdout",
     "output_type": "stream",
     "text": [
      "Image Data Shape: (10252, 2304)\n",
      "Image Labels Shape: (10252,)\n"
     ]
    },
    {
     "name": "stderr",
     "output_type": "stream",
     "text": [
      "/Users/terryschoch/opt/anaconda3/envs/PythonData/lib/python3.7/site-packages/ipykernel_launcher.py:2: FutureWarning: In a future version of pandas all arguments of DataFrame.drop except for the argument 'labels' will be keyword-only\n",
      "  \n"
     ]
    }
   ],
   "source": [
    "# Split our preprocessed data into our features and target arrays\n",
    "X = data.drop(['Labels', 'Emotions'],1).values\n",
    "y = data['Labels'].values\n",
    "\n",
    "# Verify the shape of our features (X) dataset and labels (y) datasets, ensuring the images are flattened (48 x 48 = 2304)\n",
    "print(\"Image Data Shape:\", X.shape)\n",
    "print(\"Image Labels Shape:\", y.shape)"
   ]
  },
  {
   "cell_type": "code",
   "execution_count": 5,
   "metadata": {},
   "outputs": [
    {
     "data": {
      "image/png": "[encoded data removed]",
      "text/plain": [
       "<Figure size 640x480 with 1 Axes>"
      ]
     },
     "metadata": {},
     "output_type": "display_data"
    }
   ],
   "source": [
    "# Image Check: Create a copy of our data_cleaned dataframe with just the image features and convert a row to an array and resize to a 3 dimensional image in order to display via plt.show function\n",
    "image_data_df = data.copy()\n",
    "image_data_df.drop(image_data_df.columns[[2304, 2305]], axis=1, inplace=True)\n",
    "arr = image_data_df.iloc[4].to_numpy()\n",
    "arr = np.resize(arr, (48, 48))\n",
    "plt.imshow(arr)\n",
    "plt.show()"
   ]
  },
  {
   "cell_type": "code",
   "execution_count": 6,
   "metadata": {
    "scrolled": true
   },
   "outputs": [
    {
     "name": "stdout",
     "output_type": "stream",
     "text": [
      "Training Data Info\n",
      "Training Data Shape: (7689, 2304)\n",
      "Training Data Shape: (7689,)\n",
      "Test Data Info\n",
      "Training Data Shape: (2563, 2304)\n",
      "Training Data Shape: (2563,)\n"
     ]
    }
   ],
   "source": [
    "# Split the preprocessed data into a training and testing dataset\n",
    "X_train, X_test, y_train, y_test = train_test_split(X, \n",
    "                                                    y,\n",
    "                                                    random_state=1,\n",
    "                                                    stratify=y)\n",
    "\n",
    "# Check the shape of our split data\n",
    "print(\"Training Data Info\")\n",
    "print(\"Training Data Shape:\", X_train.shape)\n",
    "print(\"Training Data Shape:\", y_train.shape)\n",
    "\n",
    "print(\"Test Data Info\")\n",
    "print(\"Training Data Shape:\", X_test.shape)\n",
    "print(\"Training Data Shape:\", y_test.shape)"
   ]
  },
  {
   "cell_type": "markdown",
   "metadata": {},
   "source": [
    "### Scaling and Normalization \n",
    "**We use Sklearn's MinMaxScaler to normalize our data between 0 and 1**"
   ]
  },
  {
   "cell_type": "code",
   "execution_count": 7,
   "metadata": {},
   "outputs": [],
   "source": [
    "# Normalize the training data to be between 0 and 1\n",
    "scaler = MinMaxScaler().fit(X_train)\n",
    "\n",
    "X_train = scaler.transform(X_train)\n",
    "X_test = scaler.transform(X_test)"
   ]
  },
  {
   "cell_type": "markdown",
   "metadata": {},
   "source": [
    "### One-Hot Encoding\n",
    "\n",
    "**We need to one-hot encode our integer labels using the `to_categorical` helper function**"
   ]
  },
  {
   "cell_type": "code",
   "execution_count": 8,
   "metadata": {},
   "outputs": [
    {
     "data": {
      "text/plain": [
       "array([0, 0, 0, 0, 1, 1, 0, 0, 0, 0, 1, 1, 0, 0, 0, 1, 1, 1, 0, 1])"
      ]
     },
     "execution_count": 8,
     "metadata": {},
     "output_type": "execute_result"
    }
   ],
   "source": [
    "# Our Training and Testing labels are integer encoded from 0 to 1. Look at the first 20 training labels.\n",
    "y_train[:20]"
   ]
  },
  {
   "cell_type": "code",
   "execution_count": 9,
   "metadata": {},
   "outputs": [
    {
     "data": {
      "text/plain": [
       "array([1., 0.], dtype=float32)"
      ]
     },
     "execution_count": 9,
     "metadata": {},
     "output_type": "execute_result"
    }
   ],
   "source": [
    "# We need to convert our target labels (expected values) to categorical data\n",
    "face_classes = 2\n",
    "y_train = to_categorical(y_train, face_classes)\n",
    "y_test = to_categorical(y_test, face_classes)\n",
    "# Our first row label [0] of `0` is one-hot encoded as `1,0`\n",
    "y_train[0]"
   ]
  },
  {
   "cell_type": "markdown",
   "metadata": {},
   "source": [
    "## Building our Model\n",
    "\n",
    "**In this example, we are going to build a Deep Multi-Layer Perceptron model with 3 hidden layers.**"
   ]
  },
  {
   "cell_type": "code",
   "execution_count": 10,
   "metadata": {},
   "outputs": [
    {
     "name": "stderr",
     "output_type": "stream",
     "text": [
      "2023-04-17 15:11:37.191174: I tensorflow/core/platform/cpu_feature_guard.cc:193] This TensorFlow binary is optimized with oneAPI Deep Neural Network Library (oneDNN) to use the following CPU instructions in performance-critical operations:  AVX2 FMA\n",
      "To enable them in other operations, rebuild TensorFlow with the appropriate compiler flags.\n"
     ]
    }
   ],
   "source": [
    "# Create an empty sequential model\n",
    "model = Sequential()"
   ]
  },
  {
   "cell_type": "code",
   "execution_count": 11,
   "metadata": {},
   "outputs": [
    {
     "name": "stdout",
     "output_type": "stream",
     "text": [
      "Model: \"sequential\"\n",
      "_________________________________________________________________\n",
      " Layer (type)                Output Shape              Param #   \n",
      "=================================================================\n",
      " dense (Dense)               (None, 400)               922000    \n",
      "                                                                 \n",
      " dense_1 (Dense)             (None, 200)               80200     \n",
      "                                                                 \n",
      " dense_2 (Dense)             (None, 50)                10050     \n",
      "                                                                 \n",
      " dense_3 (Dense)             (None, 2)                 102       \n",
      "                                                                 \n",
      "=================================================================\n",
      "Total params: 1,012,352\n",
      "Trainable params: 1,012,352\n",
      "Non-trainable params: 0\n",
      "_________________________________________________________________\n"
     ]
    }
   ],
   "source": [
    "# Add the first layer where the input dimensions are the 784 pixel values\n",
    "# We can also choose our activation function. `relu` is a common\n",
    "model.add(Dense(units=400, input_dim=2304, activation=\"relu\"))\n",
    "\n",
    "# Add a second hidden layer\n",
    "model.add(Dense(units=200, activation=\"relu\"))\n",
    "\n",
    "# Add a third hidden layer\n",
    "model.add(Dense(units=50, activation=\"relu\"))\n",
    "\n",
    "# Add our final output layer where the number of nodes \n",
    "# corresponds to the number of y labels\n",
    "model.add(Dense(face_classes, activation=\"softmax\"))\n",
    "\n",
    "# We can summarize our model\n",
    "model.summary()"
   ]
  },
  {
   "cell_type": "markdown",
   "metadata": {},
   "source": [
    "## Compile and Train our Model\n",
    "\n",
    "Now that we have our model architecture defined, we must compile the model using a loss function and optimizer. We can also specify additional training metrics such as accuracy."
   ]
  },
  {
   "cell_type": "code",
   "execution_count": 12,
   "metadata": {},
   "outputs": [],
   "source": [
    "# Use categorical crossentropy for categorical data and mean squared error for regression\n",
    "model.compile(optimizer='adam',\n",
    "             loss='categorical_crossentropy',\n",
    "             metrics=['accuracy'])"
   ]
  },
  {
   "cell_type": "code",
   "execution_count": 13,
   "metadata": {},
   "outputs": [
    {
     "name": "stdout",
     "output_type": "stream",
     "text": [
      "Epoch 1/75\n",
      "100/100 [==============================] - 3s 19ms/step - loss: 0.7528 - accuracy: 0.5507 - val_loss: 0.6488 - val_accuracy: 0.6313\n",
      "Epoch 2/75\n",
      "100/100 [==============================] - 2s 18ms/step - loss: 0.6473 - accuracy: 0.6317 - val_loss: 0.6198 - val_accuracy: 0.6734\n",
      "Epoch 3/75\n",
      "100/100 [==============================] - 2s 20ms/step - loss: 0.6172 - accuracy: 0.6650 - val_loss: 0.6085 - val_accuracy: 0.6695\n",
      "Epoch 4/75\n",
      "100/100 [==============================] - 2s 19ms/step - loss: 0.5969 - accuracy: 0.6853 - val_loss: 0.6002 - val_accuracy: 0.6894\n",
      "Epoch 5/75\n",
      "100/100 [==============================] - 2s 19ms/step - loss: 0.5891 - accuracy: 0.6898 - val_loss: 0.6077 - val_accuracy: 0.6750\n",
      "Epoch 6/75\n",
      "100/100 [==============================] - 2s 18ms/step - loss: 0.5893 - accuracy: 0.6955 - val_loss: 0.6310 - val_accuracy: 0.6325\n",
      "Epoch 7/75\n",
      "100/100 [==============================] - 2s 19ms/step - loss: 0.5686 - accuracy: 0.7054 - val_loss: 0.5804 - val_accuracy: 0.7004\n",
      "Epoch 8/75\n",
      "100/100 [==============================] - 2s 18ms/step - loss: 0.5546 - accuracy: 0.7141 - val_loss: 0.6330 - val_accuracy: 0.6567\n",
      "Epoch 9/75\n",
      "100/100 [==============================] - 2s 18ms/step - loss: 0.5580 - accuracy: 0.7096 - val_loss: 0.6743 - val_accuracy: 0.6321\n",
      "Epoch 10/75\n",
      "100/100 [==============================] - 2s 18ms/step - loss: 0.5509 - accuracy: 0.7135 - val_loss: 0.5850 - val_accuracy: 0.6883\n",
      "Epoch 11/75\n",
      "100/100 [==============================] - 2s 18ms/step - loss: 0.5487 - accuracy: 0.7154 - val_loss: 0.5713 - val_accuracy: 0.7074\n",
      "Epoch 12/75\n",
      "100/100 [==============================] - 2s 18ms/step - loss: 0.5503 - accuracy: 0.7128 - val_loss: 0.6870 - val_accuracy: 0.6368\n",
      "Epoch 13/75\n",
      "100/100 [==============================] - 2s 19ms/step - loss: 0.5347 - accuracy: 0.7282 - val_loss: 0.6130 - val_accuracy: 0.6473\n",
      "Epoch 14/75\n",
      "100/100 [==============================] - 2s 19ms/step - loss: 0.5286 - accuracy: 0.7303 - val_loss: 0.5839 - val_accuracy: 0.6922\n",
      "Epoch 15/75\n",
      "100/100 [==============================] - 2s 20ms/step - loss: 0.5243 - accuracy: 0.7359 - val_loss: 0.5684 - val_accuracy: 0.7046\n",
      "Epoch 16/75\n",
      "100/100 [==============================] - 2s 19ms/step - loss: 0.5252 - accuracy: 0.7357 - val_loss: 0.6273 - val_accuracy: 0.6781\n",
      "Epoch 17/75\n",
      "100/100 [==============================] - 2s 19ms/step - loss: 0.5274 - accuracy: 0.7291 - val_loss: 0.6013 - val_accuracy: 0.6797\n",
      "Epoch 18/75\n",
      "100/100 [==============================] - 2s 24ms/step - loss: 0.5147 - accuracy: 0.7372 - val_loss: 0.5776 - val_accuracy: 0.6968\n",
      "Epoch 19/75\n",
      "100/100 [==============================] - 3s 27ms/step - loss: 0.5189 - accuracy: 0.7342 - val_loss: 0.6250 - val_accuracy: 0.6446\n",
      "Epoch 20/75\n",
      "100/100 [==============================] - 3s 27ms/step - loss: 0.4998 - accuracy: 0.7521 - val_loss: 0.5813 - val_accuracy: 0.7050\n",
      "Epoch 21/75\n",
      "100/100 [==============================] - 3s 27ms/step - loss: 0.4968 - accuracy: 0.7550 - val_loss: 0.5660 - val_accuracy: 0.7078\n",
      "Epoch 22/75\n",
      "100/100 [==============================] - 3s 28ms/step - loss: 0.4821 - accuracy: 0.7607 - val_loss: 0.5774 - val_accuracy: 0.7171\n",
      "Epoch 23/75\n",
      "100/100 [==============================] - 2s 24ms/step - loss: 0.4920 - accuracy: 0.7538 - val_loss: 0.6307 - val_accuracy: 0.6867\n",
      "Epoch 24/75\n",
      "100/100 [==============================] - 3s 26ms/step - loss: 0.4899 - accuracy: 0.7593 - val_loss: 0.5861 - val_accuracy: 0.6937\n",
      "Epoch 25/75\n",
      "100/100 [==============================] - 2s 23ms/step - loss: 0.4847 - accuracy: 0.7581 - val_loss: 0.5850 - val_accuracy: 0.7043\n",
      "Epoch 26/75\n",
      "100/100 [==============================] - 2s 18ms/step - loss: 0.4785 - accuracy: 0.7637 - val_loss: 0.6077 - val_accuracy: 0.6855\n",
      "Epoch 27/75\n",
      "100/100 [==============================] - 2s 18ms/step - loss: 0.4831 - accuracy: 0.7646 - val_loss: 0.5941 - val_accuracy: 0.7195\n",
      "Epoch 28/75\n",
      "100/100 [==============================] - 2s 18ms/step - loss: 0.4754 - accuracy: 0.7714 - val_loss: 0.5755 - val_accuracy: 0.6933\n",
      "Epoch 29/75\n",
      "100/100 [==============================] - 2s 18ms/step - loss: 0.4774 - accuracy: 0.7682 - val_loss: 0.5691 - val_accuracy: 0.7089\n",
      "Epoch 30/75\n",
      "100/100 [==============================] - 2s 18ms/step - loss: 0.4591 - accuracy: 0.7764 - val_loss: 0.6074 - val_accuracy: 0.7031\n",
      "Epoch 31/75\n",
      "100/100 [==============================] - 2s 19ms/step - loss: 0.4619 - accuracy: 0.7710 - val_loss: 0.5720 - val_accuracy: 0.7163\n",
      "Epoch 32/75\n",
      "100/100 [==============================] - 2s 18ms/step - loss: 0.4507 - accuracy: 0.7838 - val_loss: 0.5842 - val_accuracy: 0.7082\n",
      "Epoch 33/75\n",
      "100/100 [==============================] - 2s 19ms/step - loss: 0.4420 - accuracy: 0.7854 - val_loss: 0.6159 - val_accuracy: 0.6886\n",
      "Epoch 34/75\n",
      "100/100 [==============================] - 2s 18ms/step - loss: 0.4421 - accuracy: 0.7871 - val_loss: 0.5880 - val_accuracy: 0.7117\n",
      "Epoch 35/75\n",
      "100/100 [==============================] - 2s 19ms/step - loss: 0.4319 - accuracy: 0.7954 - val_loss: 0.6185 - val_accuracy: 0.7136\n",
      "Epoch 36/75\n",
      "100/100 [==============================] - 2s 21ms/step - loss: 0.4372 - accuracy: 0.7887 - val_loss: 0.6479 - val_accuracy: 0.6898\n",
      "Epoch 37/75\n",
      "100/100 [==============================] - 2s 22ms/step - loss: 0.4262 - accuracy: 0.7966 - val_loss: 0.5958 - val_accuracy: 0.7292\n",
      "Epoch 38/75\n",
      "100/100 [==============================] - 2s 21ms/step - loss: 0.4388 - accuracy: 0.7922 - val_loss: 0.6699 - val_accuracy: 0.6847\n",
      "Epoch 39/75\n",
      "100/100 [==============================] - 2s 24ms/step - loss: 0.4264 - accuracy: 0.7946 - val_loss: 0.5954 - val_accuracy: 0.7152\n",
      "Epoch 40/75\n",
      "100/100 [==============================] - 3s 26ms/step - loss: 0.4015 - accuracy: 0.8132 - val_loss: 0.6234 - val_accuracy: 0.7148\n",
      "Epoch 41/75\n",
      "100/100 [==============================] - 2s 20ms/step - loss: 0.4112 - accuracy: 0.8054 - val_loss: 0.6404 - val_accuracy: 0.7132\n",
      "Epoch 42/75\n",
      "100/100 [==============================] - 2s 19ms/step - loss: 0.3885 - accuracy: 0.8209 - val_loss: 0.6000 - val_accuracy: 0.7121\n",
      "Epoch 43/75\n",
      "100/100 [==============================] - 2s 21ms/step - loss: 0.4242 - accuracy: 0.7987 - val_loss: 0.6335 - val_accuracy: 0.6941\n",
      "Epoch 44/75\n",
      "100/100 [==============================] - 2s 23ms/step - loss: 0.4025 - accuracy: 0.8142 - val_loss: 0.6039 - val_accuracy: 0.7097\n",
      "Epoch 45/75\n",
      "100/100 [==============================] - 2s 23ms/step - loss: 0.3746 - accuracy: 0.8281 - val_loss: 0.6179 - val_accuracy: 0.7050\n",
      "Epoch 46/75\n",
      "100/100 [==============================] - 3s 27ms/step - loss: 0.3906 - accuracy: 0.8174 - val_loss: 0.6809 - val_accuracy: 0.7007\n",
      "Epoch 47/75\n",
      "100/100 [==============================] - 2s 23ms/step - loss: 0.3773 - accuracy: 0.8235 - val_loss: 0.6481 - val_accuracy: 0.6988\n",
      "Epoch 48/75\n",
      "100/100 [==============================] - 2s 22ms/step - loss: 0.3693 - accuracy: 0.8316 - val_loss: 0.6459 - val_accuracy: 0.7089\n",
      "Epoch 49/75\n",
      "100/100 [==============================] - 4s 35ms/step - loss: 0.3559 - accuracy: 0.8365 - val_loss: 0.6646 - val_accuracy: 0.7191\n",
      "Epoch 50/75\n",
      "100/100 [==============================] - 2s 22ms/step - loss: 0.3564 - accuracy: 0.8347 - val_loss: 0.7142 - val_accuracy: 0.7089\n",
      "Epoch 51/75\n",
      "100/100 [==============================] - 2s 22ms/step - loss: 0.3510 - accuracy: 0.8424 - val_loss: 0.6790 - val_accuracy: 0.7136\n",
      "Epoch 52/75\n",
      "100/100 [==============================] - 2s 20ms/step - loss: 0.3495 - accuracy: 0.8417 - val_loss: 0.6669 - val_accuracy: 0.7117\n",
      "Epoch 53/75\n",
      "100/100 [==============================] - 2s 22ms/step - loss: 0.3454 - accuracy: 0.8393 - val_loss: 0.7350 - val_accuracy: 0.7152\n",
      "Epoch 54/75\n",
      "100/100 [==============================] - 3s 27ms/step - loss: 0.3469 - accuracy: 0.8399 - val_loss: 0.6784 - val_accuracy: 0.7195\n",
      "Epoch 55/75\n",
      "100/100 [==============================] - 2s 24ms/step - loss: 0.3243 - accuracy: 0.8562 - val_loss: 0.7244 - val_accuracy: 0.7249\n",
      "Epoch 56/75\n",
      "100/100 [==============================] - 2s 23ms/step - loss: 0.3265 - accuracy: 0.8511 - val_loss: 0.6977 - val_accuracy: 0.7191\n",
      "Epoch 57/75\n",
      "100/100 [==============================] - 2s 21ms/step - loss: 0.3380 - accuracy: 0.8441 - val_loss: 0.7188 - val_accuracy: 0.7265\n"
     ]
    },
    {
     "name": "stdout",
     "output_type": "stream",
     "text": [
      "Epoch 58/75\n",
      "100/100 [==============================] - 2s 19ms/step - loss: 0.3117 - accuracy: 0.8597 - val_loss: 0.7362 - val_accuracy: 0.7023\n",
      "Epoch 59/75\n",
      "100/100 [==============================] - 2s 19ms/step - loss: 0.3221 - accuracy: 0.8537 - val_loss: 0.7912 - val_accuracy: 0.6957\n",
      "Epoch 60/75\n",
      "100/100 [==============================] - 2s 18ms/step - loss: 0.3096 - accuracy: 0.8586 - val_loss: 0.7204 - val_accuracy: 0.7078\n",
      "Epoch 61/75\n",
      "100/100 [==============================] - 2s 19ms/step - loss: 0.3041 - accuracy: 0.8660 - val_loss: 0.7477 - val_accuracy: 0.6918\n",
      "Epoch 62/75\n",
      "100/100 [==============================] - 2s 21ms/step - loss: 0.3018 - accuracy: 0.8658 - val_loss: 0.7787 - val_accuracy: 0.7163\n",
      "Epoch 63/75\n",
      "100/100 [==============================] - 2s 21ms/step - loss: 0.3105 - accuracy: 0.8632 - val_loss: 0.7653 - val_accuracy: 0.7113\n",
      "Epoch 64/75\n",
      "100/100 [==============================] - 2s 21ms/step - loss: 0.3242 - accuracy: 0.8520 - val_loss: 0.7375 - val_accuracy: 0.7206\n",
      "Epoch 65/75\n",
      "100/100 [==============================] - 2s 20ms/step - loss: 0.2887 - accuracy: 0.8685 - val_loss: 0.8052 - val_accuracy: 0.7054\n",
      "Epoch 66/75\n",
      "100/100 [==============================] - 2s 18ms/step - loss: 0.2959 - accuracy: 0.8653 - val_loss: 0.7352 - val_accuracy: 0.7109\n",
      "Epoch 67/75\n",
      "100/100 [==============================] - 2s 21ms/step - loss: 0.2835 - accuracy: 0.8748 - val_loss: 0.7483 - val_accuracy: 0.7019\n",
      "Epoch 68/75\n",
      "100/100 [==============================] - 2s 21ms/step - loss: 0.2555 - accuracy: 0.8913 - val_loss: 0.8349 - val_accuracy: 0.7136\n",
      "Epoch 69/75\n",
      "100/100 [==============================] - 2s 18ms/step - loss: 0.2908 - accuracy: 0.8675 - val_loss: 0.9257 - val_accuracy: 0.6641\n",
      "Epoch 70/75\n",
      "100/100 [==============================] - 2s 21ms/step - loss: 0.2806 - accuracy: 0.8761 - val_loss: 0.8323 - val_accuracy: 0.6964\n",
      "Epoch 71/75\n",
      "100/100 [==============================] - 2s 21ms/step - loss: 0.2806 - accuracy: 0.8736 - val_loss: 0.7203 - val_accuracy: 0.7148\n",
      "Epoch 72/75\n",
      "100/100 [==============================] - 2s 18ms/step - loss: 0.2924 - accuracy: 0.8673 - val_loss: 0.7711 - val_accuracy: 0.7085\n",
      "Epoch 73/75\n",
      "100/100 [==============================] - 2s 19ms/step - loss: 0.2514 - accuracy: 0.8895 - val_loss: 0.8322 - val_accuracy: 0.7187\n",
      "Epoch 74/75\n",
      "100/100 [==============================] - 2s 18ms/step - loss: 0.2629 - accuracy: 0.8840 - val_loss: 0.8253 - val_accuracy: 0.7187\n",
      "Epoch 75/75\n",
      "100/100 [==============================] - 2s 19ms/step - loss: 0.2415 - accuracy: 0.8936 - val_loss: 0.9168 - val_accuracy: 0.7128\n",
      "Epoch 1/25\n",
      "300/300 [==============================] - 4s 14ms/step - loss: 0.4302 - accuracy: 0.8008 - val_loss: 0.6163 - val_accuracy: 0.7004\n",
      "Epoch 2/25\n",
      "300/300 [==============================] - 5s 16ms/step - loss: 0.3942 - accuracy: 0.8198 - val_loss: 0.6799 - val_accuracy: 0.7257\n",
      "Epoch 3/25\n",
      "300/300 [==============================] - 4s 15ms/step - loss: 0.3719 - accuracy: 0.8274 - val_loss: 0.7183 - val_accuracy: 0.7039\n",
      "Epoch 4/25\n",
      "300/300 [==============================] - 5s 16ms/step - loss: 0.3310 - accuracy: 0.8469 - val_loss: 0.8012 - val_accuracy: 0.7082\n",
      "Epoch 5/25\n",
      "300/300 [==============================] - 5s 16ms/step - loss: 0.3339 - accuracy: 0.8467 - val_loss: 0.7764 - val_accuracy: 0.6890\n",
      "Epoch 6/25\n",
      "300/300 [==============================] - 5s 16ms/step - loss: 0.3182 - accuracy: 0.8532 - val_loss: 0.7284 - val_accuracy: 0.6902\n",
      "Epoch 7/25\n",
      "300/300 [==============================] - 5s 18ms/step - loss: 0.3288 - accuracy: 0.8546 - val_loss: 0.7267 - val_accuracy: 0.6836\n",
      "Epoch 8/25\n",
      "300/300 [==============================] - 5s 16ms/step - loss: 0.3215 - accuracy: 0.8535 - val_loss: 0.8205 - val_accuracy: 0.6851\n",
      "Epoch 9/25\n",
      "300/300 [==============================] - 5s 16ms/step - loss: 0.3037 - accuracy: 0.8627 - val_loss: 0.7891 - val_accuracy: 0.6769\n",
      "Epoch 10/25\n",
      "300/300 [==============================] - 5s 16ms/step - loss: 0.3055 - accuracy: 0.8627 - val_loss: 0.8348 - val_accuracy: 0.6957\n",
      "Epoch 11/25\n",
      "300/300 [==============================] - 5s 17ms/step - loss: 0.3076 - accuracy: 0.8577 - val_loss: 0.7363 - val_accuracy: 0.7066\n",
      "Epoch 12/25\n",
      "300/300 [==============================] - 6s 19ms/step - loss: 0.2838 - accuracy: 0.8717 - val_loss: 0.7934 - val_accuracy: 0.7085\n",
      "Epoch 13/25\n",
      "300/300 [==============================] - 6s 20ms/step - loss: 0.2950 - accuracy: 0.8667 - val_loss: 0.8259 - val_accuracy: 0.7163\n",
      "Epoch 14/25\n",
      "300/300 [==============================] - 6s 18ms/step - loss: 0.2644 - accuracy: 0.8861 - val_loss: 0.8101 - val_accuracy: 0.7097\n",
      "Epoch 15/25\n",
      "300/300 [==============================] - 5s 18ms/step - loss: 0.2764 - accuracy: 0.8768 - val_loss: 0.8963 - val_accuracy: 0.6824\n",
      "Epoch 16/25\n",
      "300/300 [==============================] - 5s 17ms/step - loss: 0.2638 - accuracy: 0.8848 - val_loss: 0.8791 - val_accuracy: 0.7004\n",
      "Epoch 17/25\n",
      "300/300 [==============================] - 6s 20ms/step - loss: 0.2820 - accuracy: 0.8751 - val_loss: 1.0052 - val_accuracy: 0.6906\n",
      "Epoch 18/25\n",
      "300/300 [==============================] - 5s 18ms/step - loss: 0.2924 - accuracy: 0.8721 - val_loss: 0.8184 - val_accuracy: 0.7136\n",
      "Epoch 19/25\n",
      "300/300 [==============================] - 5s 16ms/step - loss: 0.2611 - accuracy: 0.8836 - val_loss: 0.8213 - val_accuracy: 0.7074\n",
      "Epoch 20/25\n",
      "300/300 [==============================] - 5s 17ms/step - loss: 0.2570 - accuracy: 0.8869 - val_loss: 0.7875 - val_accuracy: 0.6883\n",
      "Epoch 21/25\n",
      "300/300 [==============================] - 5s 17ms/step - loss: 0.2715 - accuracy: 0.8814 - val_loss: 0.9118 - val_accuracy: 0.7089\n",
      "Epoch 22/25\n",
      "300/300 [==============================] - 5s 17ms/step - loss: 0.2595 - accuracy: 0.8855 - val_loss: 0.9705 - val_accuracy: 0.6980\n",
      "Epoch 23/25\n",
      "300/300 [==============================] - 5s 18ms/step - loss: 0.2335 - accuracy: 0.8970 - val_loss: 1.0236 - val_accuracy: 0.6988\n",
      "Epoch 24/25\n",
      "300/300 [==============================] - 5s 18ms/step - loss: 0.2642 - accuracy: 0.8785 - val_loss: 0.7999 - val_accuracy: 0.7070\n",
      "Epoch 25/25\n",
      "197/300 [==================>...........] - ETA: 1s - loss: 0.2666 - accuracy: 0.8868WARNING:tensorflow:Your input ran out of data; interrupting training. Make sure that your dataset or generator can generate at least `steps_per_epoch * epochs` batches (in this case, 7500 batches). You may need to use the repeat() function when building your dataset.\n",
      "300/300 [==============================] - 4s 14ms/step - loss: 0.2663 - accuracy: 0.8866 - val_loss: 0.8645 - val_accuracy: 0.7015\n"
     ]
    },
    {
     "data": {
      "text/plain": [
       "<keras.callbacks.History at 0x7fc440cfd310>"
      ]
     },
     "execution_count": 13,
     "metadata": {},
     "output_type": "execute_result"
    }
   ],
   "source": [
    "# Fit (train) the model\n",
    "model.fit(X_train, y_train,\n",
    "          validation_data=(X_test, y_test),\n",
    "          steps_per_epoch=100, epochs=75, shuffle=True)\n",
    "\n",
    "model.fit(X_train, y_train,\n",
    "          validation_data=(X_test, y_test),\n",
    "          steps_per_epoch=300, epochs=25, shuffle=True)"
   ]
  },
  {
   "cell_type": "code",
   "execution_count": 14,
   "metadata": {},
   "outputs": [],
   "source": [
    "# Save the model\n",
    "model.save(\"models/data_trained.h5\")"
   ]
  },
  {
   "cell_type": "markdown",
   "metadata": {},
   "source": [
    "## Evaluating the Model\n",
    "\n",
    "We use our testing data to validate our model. This is how we determine the validity of our model (i.e. the ability to predict new and previously unseen data points)"
   ]
  },
  {
   "cell_type": "code",
   "execution_count": 15,
   "metadata": {},
   "outputs": [],
   "source": [
    "# Load our pre-trained and saved model\n",
    "model = keras.models.load_model('models/data_trained.h5')"
   ]
  },
  {
   "cell_type": "code",
   "execution_count": 16,
   "metadata": {},
   "outputs": [
    {
     "name": "stdout",
     "output_type": "stream",
     "text": [
      "81/81 - 0s - loss: 0.8645 - accuracy: 0.7015 - 394ms/epoch - 5ms/step\n",
      "Loss: 0.8645302653312683, Accuracy: 0.701521635055542\n"
     ]
    }
   ],
   "source": [
    "# Evaluate the model using the training data \n",
    "model_loss, model_accuracy = model.evaluate(X_test, y_test,verbose=2)\n",
    "print(f\"Loss: {model_loss}, Accuracy: {model_accuracy}\")"
   ]
  },
  {
   "cell_type": "markdown",
   "metadata": {},
   "source": [
    "## Making Predictions\n",
    "\n",
    "We can use our trained model to make predictions using `model.predict`"
   ]
  },
  {
   "cell_type": "code",
   "execution_count": 17,
   "metadata": {},
   "outputs": [],
   "source": [
    "# Define a function for predictions and labelling finding \"Happy\" or \"Sad\" \n",
    "def happy_or_sad(x):\n",
    "    predictions = x.predict(test)\n",
    "    score = np.argmax(predictions)\n",
    "    test_img = test.reshape(48, 48)\n",
    "    if score == 1:        \n",
    "        return f\"Prediction: {predictions} \\nImage Emotion is: Sad\"\n",
    "    return f\"Prediction: {predictions} \\nImage Emotion is: Happy\""
   ]
  },
  {
   "cell_type": "code",
   "execution_count": 20,
   "metadata": {},
   "outputs": [
    {
     "data": {
      "text/plain": [
       "(1, 2304)"
      ]
     },
     "execution_count": 20,
     "metadata": {},
     "output_type": "execute_result"
    }
   ],
   "source": [
    "# Grab just one data point to test with\n",
    "test = np.expand_dims(X_train[3], axis=0)\n",
    "test.shape"
   ]
  },
  {
   "cell_type": "code",
   "execution_count": 21,
   "metadata": {},
   "outputs": [
    {
     "name": "stdout",
     "output_type": "stream",
     "text": [
      "1/1 [==============================] - 0s 27ms/step\n",
      "Prediction: [[9.9998665e-01 1.3381101e-05]] \n",
      "Image Emotion is: Happy\n"
     ]
    },
    {
     "data": {
      "text/plain": [
       "<matplotlib.image.AxesImage at 0x7fc402c50b50>"
      ]
     },
     "execution_count": 21,
     "metadata": {},
     "output_type": "execute_result"
    },
    {
     "data": {
      "image/png": "[encoded data removed]",
      "text/plain": [
       "<Figure size 640x480 with 1 Axes>"
      ]
     },
     "metadata": {},
     "output_type": "display_data"
    }
   ],
   "source": [
    "# Call our function to make a prediction on our test data point\n",
    "print(happy_or_sad(model))\n",
    "\n",
    "test_img = test.reshape(48, 48)\n",
    "plt.imshow(test_img)"
   ]
  },
  {
   "cell_type": "markdown",
   "metadata": {},
   "source": [
    "### Using Images outside our Dataset\n",
    "\n",
    "Building an image scaler to pre-process and predict an image from the internet"
   ]
  },
  {
   "cell_type": "code",
   "execution_count": 22,
   "metadata": {},
   "outputs": [],
   "source": [
    "# Import necessary libraries to capture image url and process\n",
    "import urllib3 as urllib\n",
    "import requests\n",
    "import io\n",
    "import PIL\n",
    "import cv2\n",
    "\n",
    "# Define function to capture, scale and process image\n",
    "def image_scaler(x):\n",
    "    '''x = image url'''\n",
    "    # Request, read and open the image file and check it's dimensions\n",
    "    response = requests.get(x)\n",
    "    image_bytes = io.BytesIO(response.content)\n",
    "    img = PIL.Image.open(image_bytes)\n",
    "    img.show()\n",
    "    print(f\"Original Dimensions: {img.size}\")\n",
    "    # Resize the original file to our desired 48x48, confirm and save\n",
    "    img_resized = img.resize((48, 48))\n",
    "    img_resized.save('resources/internet_image_test.png')\n",
    "    print(f\"Resized Dimensions: {img_resized.size}\") \n",
    "    \n",
    "    # Read the saved resized image, convert to 1d grayscale and call our predict function\n",
    "    test_img = cv2.imread('resources/internet_image_test.png')\n",
    "    test_img = cv2.cvtColor(test_img, cv2.COLOR_BGR2GRAY)\n",
    "    test = test_img.flatten().reshape(-1, 48*48)     \n",
    "    return print (f\"{happy_or_sad(model)} \\n{plt.imshow(test_img)}\")"
   ]
  },
  {
   "cell_type": "code",
   "execution_count": 23,
   "metadata": {},
   "outputs": [
    {
     "name": "stdout",
     "output_type": "stream",
     "text": [
      "Original Dimensions: (762, 800)\n",
      "Resized Dimensions: (48, 48)\n",
      "1/1 [==============================] - 0s 89ms/step\n",
      "Prediction: [[9.9998665e-01 1.3381101e-05]] \n",
      "Image Emotion is: Happy \n",
      "AxesImage(80,52.8;496x369.6)\n"
     ]
    },
    {
     "data": {
      "image/png": "[encoded data removed]",
      "text/plain": [
       "<Figure size 640x480 with 1 Axes>"
      ]
     },
     "metadata": {},
     "output_type": "display_data"
    }
   ],
   "source": [
    "image_scaler('https://www.exploringart.co/wp-content/uploads/2021/09/Mona-Lisa_7.jpg')"
   ]
  }
 ],
 "metadata": {
  "kernelspec": {
   "display_name": "Python 3 (ipykernel)",
   "language": "python",
   "name": "python3"
  },
  "language_info": {
   "codemirror_mode": {
    "name": "ipython",
    "version": 3
   },
   "file_extension": ".py",
   "mimetype": "text/x-python",
   "name": "python",
   "nbconvert_exporter": "python",
   "pygments_lexer": "ipython3",
   "version": "3.7.13"
  }
 },
 "nbformat": 4,
 "nbformat_minor": 4
}
