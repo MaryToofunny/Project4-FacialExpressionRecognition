{
 "cells": [
  {
   "cell_type": "markdown",
   "metadata": {},
   "source": [
    "## Model Optimization"
   ]
  },
  {
   "cell_type": "code",
   "execution_count": 1,
   "metadata": {
    "scrolled": true
   },
   "outputs": [],
   "source": [
    "# Import our dependencies\n",
    "%matplotlib inline\n",
    "from sklearn.model_selection import train_test_split\n",
    "from sklearn.preprocessing import StandardScaler, MinMaxScaler, OneHotEncoder\n",
    "import pandas as pd\n",
    "import matplotlib.pyplot as plt\n",
    "import numpy as np"
   ]
  },
  {
   "cell_type": "markdown",
   "metadata": {},
   "source": [
    "## Keras Specific Dependencies"
   ]
  },
  {
   "cell_type": "code",
   "execution_count": 2,
   "metadata": {},
   "outputs": [
    {
     "name": "stderr",
     "output_type": "stream",
     "text": [
      "2023-04-13 15:48:37.281908: I tensorflow/core/platform/cpu_feature_guard.cc:193] This TensorFlow binary is optimized with oneAPI Deep Neural Network Library (oneDNN) to use the following CPU instructions in performance-critical operations:  AVX2 FMA\n",
      "To enable them in other operations, rebuild TensorFlow with the appropriate compiler flags.\n"
     ]
    }
   ],
   "source": [
    "from tensorflow import keras\n",
    "from keras.utils import to_categorical\n",
    "from keras.models import Sequential\n",
    "from keras.layers import Dense, Conv2D, MaxPool2D, Flatten"
   ]
  },
  {
   "cell_type": "markdown",
   "metadata": {},
   "source": [
    "## Loading, Checking and Spitting our Data"
   ]
  },
  {
   "cell_type": "code",
   "execution_count": 3,
   "metadata": {
    "scrolled": true
   },
   "outputs": [
    {
     "data": {
      "text/html": [
       "<div>\n",
       "<style scoped>\n",
       "    .dataframe tbody tr th:only-of-type {\n",
       "        vertical-align: middle;\n",
       "    }\n",
       "\n",
       "    .dataframe tbody tr th {\n",
       "        vertical-align: top;\n",
       "    }\n",
       "\n",
       "    .dataframe thead th {\n",
       "        text-align: right;\n",
       "    }\n",
       "</style>\n",
       "<table border=\"1\" class=\"dataframe\">\n",
       "  <thead>\n",
       "    <tr style=\"text-align: right;\">\n",
       "      <th></th>\n",
       "      <th>0</th>\n",
       "      <th>1</th>\n",
       "      <th>2</th>\n",
       "      <th>3</th>\n",
       "      <th>4</th>\n",
       "      <th>5</th>\n",
       "      <th>6</th>\n",
       "      <th>7</th>\n",
       "      <th>8</th>\n",
       "      <th>9</th>\n",
       "      <th>...</th>\n",
       "      <th>2296</th>\n",
       "      <th>2297</th>\n",
       "      <th>2298</th>\n",
       "      <th>2299</th>\n",
       "      <th>2300</th>\n",
       "      <th>2301</th>\n",
       "      <th>2302</th>\n",
       "      <th>2303</th>\n",
       "      <th>Labels</th>\n",
       "      <th>Emotions</th>\n",
       "    </tr>\n",
       "  </thead>\n",
       "  <tbody>\n",
       "    <tr>\n",
       "      <th>0</th>\n",
       "      <td>59</td>\n",
       "      <td>71</td>\n",
       "      <td>89</td>\n",
       "      <td>118</td>\n",
       "      <td>139</td>\n",
       "      <td>160</td>\n",
       "      <td>183</td>\n",
       "      <td>222</td>\n",
       "      <td>212</td>\n",
       "      <td>148</td>\n",
       "      <td>...</td>\n",
       "      <td>0</td>\n",
       "      <td>0</td>\n",
       "      <td>0</td>\n",
       "      <td>0</td>\n",
       "      <td>0</td>\n",
       "      <td>0</td>\n",
       "      <td>1</td>\n",
       "      <td>0</td>\n",
       "      <td>1</td>\n",
       "      <td>Sad</td>\n",
       "    </tr>\n",
       "    <tr>\n",
       "      <th>1</th>\n",
       "      <td>90</td>\n",
       "      <td>97</td>\n",
       "      <td>105</td>\n",
       "      <td>42</td>\n",
       "      <td>41</td>\n",
       "      <td>41</td>\n",
       "      <td>37</td>\n",
       "      <td>40</td>\n",
       "      <td>36</td>\n",
       "      <td>55</td>\n",
       "      <td>...</td>\n",
       "      <td>42</td>\n",
       "      <td>48</td>\n",
       "      <td>83</td>\n",
       "      <td>107</td>\n",
       "      <td>105</td>\n",
       "      <td>77</td>\n",
       "      <td>51</td>\n",
       "      <td>32</td>\n",
       "      <td>1</td>\n",
       "      <td>Sad</td>\n",
       "    </tr>\n",
       "    <tr>\n",
       "      <th>2</th>\n",
       "      <td>219</td>\n",
       "      <td>221</td>\n",
       "      <td>222</td>\n",
       "      <td>224</td>\n",
       "      <td>225</td>\n",
       "      <td>226</td>\n",
       "      <td>227</td>\n",
       "      <td>229</td>\n",
       "      <td>230</td>\n",
       "      <td>231</td>\n",
       "      <td>...</td>\n",
       "      <td>17</td>\n",
       "      <td>8</td>\n",
       "      <td>3</td>\n",
       "      <td>31</td>\n",
       "      <td>46</td>\n",
       "      <td>38</td>\n",
       "      <td>59</td>\n",
       "      <td>74</td>\n",
       "      <td>1</td>\n",
       "      <td>Sad</td>\n",
       "    </tr>\n",
       "    <tr>\n",
       "      <th>3</th>\n",
       "      <td>51</td>\n",
       "      <td>51</td>\n",
       "      <td>53</td>\n",
       "      <td>50</td>\n",
       "      <td>47</td>\n",
       "      <td>44</td>\n",
       "      <td>41</td>\n",
       "      <td>40</td>\n",
       "      <td>37</td>\n",
       "      <td>37</td>\n",
       "      <td>...</td>\n",
       "      <td>26</td>\n",
       "      <td>59</td>\n",
       "      <td>65</td>\n",
       "      <td>66</td>\n",
       "      <td>64</td>\n",
       "      <td>62</td>\n",
       "      <td>60</td>\n",
       "      <td>56</td>\n",
       "      <td>0</td>\n",
       "      <td>Happy</td>\n",
       "    </tr>\n",
       "    <tr>\n",
       "      <th>4</th>\n",
       "      <td>91</td>\n",
       "      <td>118</td>\n",
       "      <td>124</td>\n",
       "      <td>101</td>\n",
       "      <td>97</td>\n",
       "      <td>130</td>\n",
       "      <td>149</td>\n",
       "      <td>147</td>\n",
       "      <td>144</td>\n",
       "      <td>137</td>\n",
       "      <td>...</td>\n",
       "      <td>202</td>\n",
       "      <td>210</td>\n",
       "      <td>202</td>\n",
       "      <td>120</td>\n",
       "      <td>106</td>\n",
       "      <td>106</td>\n",
       "      <td>101</td>\n",
       "      <td>94</td>\n",
       "      <td>0</td>\n",
       "      <td>Happy</td>\n",
       "    </tr>\n",
       "  </tbody>\n",
       "</table>\n",
       "<p>5 rows × 2306 columns</p>\n",
       "</div>"
      ],
      "text/plain": [
       "     0    1    2    3    4    5    6    7    8    9  ...  2296  2297  2298  \\\n",
       "0   59   71   89  118  139  160  183  222  212  148  ...     0     0     0   \n",
       "1   90   97  105   42   41   41   37   40   36   55  ...    42    48    83   \n",
       "2  219  221  222  224  225  226  227  229  230  231  ...    17     8     3   \n",
       "3   51   51   53   50   47   44   41   40   37   37  ...    26    59    65   \n",
       "4   91  118  124  101   97  130  149  147  144  137  ...   202   210   202   \n",
       "\n",
       "   2299  2300  2301  2302  2303  Labels  Emotions  \n",
       "0     0     0     0     1     0       1       Sad  \n",
       "1   107   105    77    51    32       1       Sad  \n",
       "2    31    46    38    59    74       1       Sad  \n",
       "3    66    64    62    60    56       0     Happy  \n",
       "4   120   106   106   101    94       0     Happy  \n",
       "\n",
       "[5 rows x 2306 columns]"
      ]
     },
     "execution_count": 3,
     "metadata": {},
     "output_type": "execute_result"
    }
   ],
   "source": [
    "data = pd.read_csv(\"resources/data_reduced.csv\", header=0, delimiter=\",\")\n",
    "data.head()"
   ]
  },
  {
   "cell_type": "code",
   "execution_count": 4,
   "metadata": {},
   "outputs": [
    {
     "name": "stdout",
     "output_type": "stream",
     "text": [
      "Image Data Shape: (10252, 2304)\n",
      "Image Labels Shape: (10252,)\n"
     ]
    },
    {
     "name": "stderr",
     "output_type": "stream",
     "text": [
      "/Users/terryschoch/opt/anaconda3/envs/PythonData/lib/python3.7/site-packages/ipykernel_launcher.py:2: FutureWarning: In a future version of pandas all arguments of DataFrame.drop except for the argument 'labels' will be keyword-only\n",
      "  \n"
     ]
    }
   ],
   "source": [
    "# Split our preprocessed data into our features and target arrays\n",
    "X = data.drop(['Labels', 'Emotions'],1).values\n",
    "y = data['Labels'].values\n",
    "\n",
    "# Verify the shape of our features (X) dataset and labels (y) datasets, ensuring the images are flattened (48 x 48 = 2304)\n",
    "print(\"Image Data Shape:\", X.shape)\n",
    "print(\"Image Labels Shape:\", y.shape)"
   ]
  },
  {
   "cell_type": "code",
   "execution_count": 5,
   "metadata": {},
   "outputs": [
    {
     "data": {
      "image/png": "[encoded data removed]",
      "text/plain": [
       "<Figure size 640x480 with 1 Axes>"
      ]
     },
     "metadata": {},
     "output_type": "display_data"
    }
   ],
   "source": [
    "# Image Check: Create a copy of our data_cleaned dataframe with just the image features and convert a row to an array and resize to a 3 dimensional image in order to display via plt.show function\n",
    "image_data_df = data.copy()\n",
    "image_data_df.drop(image_data_df.columns[[2304, 2305]], axis=1, inplace=True)\n",
    "arr = image_data_df.iloc[4].to_numpy()\n",
    "arr = np.resize(arr, (48, 48))\n",
    "plt.imshow(arr)\n",
    "plt.show()"
   ]
  },
  {
   "cell_type": "code",
   "execution_count": 6,
   "metadata": {},
   "outputs": [
    {
     "name": "stdout",
     "output_type": "stream",
     "text": [
      "Training Data Info\n",
      "Training Data Shape: (7689, 2304)\n",
      "Training Data Shape: (7689,)\n",
      "Test Data Info\n",
      "Testing Data Shape: (2563, 2304)\n",
      "Testing Data Shape: (2563,)\n"
     ]
    }
   ],
   "source": [
    "# Split the preprocessed data into a training and testing dataset\n",
    "X_train, X_test, y_train, y_test = train_test_split(X, \n",
    "                                                    y,\n",
    "                                                    random_state=1,\n",
    "                                                    stratify=y)\n",
    "\n",
    "# Check the shape of our split data\n",
    "print(\"Training Data Info\")\n",
    "print(\"Training Data Shape:\", X_train.shape)\n",
    "print(\"Training Data Shape:\", y_train.shape)\n",
    "\n",
    "print(\"Test Data Info\")\n",
    "print(\"Testing Data Shape:\", X_test.shape)\n",
    "print(\"Testing Data Shape:\", y_test.shape)"
   ]
  },
  {
   "cell_type": "code",
   "execution_count": 7,
   "metadata": {},
   "outputs": [],
   "source": [
    "#reshape data to fit model\n",
    "X_train = X_train.reshape(7689,48,48,1)\n",
    "X_test = X_test.reshape(2563,48,48,1)"
   ]
  },
  {
   "cell_type": "code",
   "execution_count": 8,
   "metadata": {},
   "outputs": [
    {
     "name": "stdout",
     "output_type": "stream",
     "text": [
      "Training Data Info\n",
      "Training Data Shape: (7689, 48, 48, 1)\n",
      "Training Data Shape: (7689,)\n",
      "Test Data Info\n",
      "Testing Data Shape: (2563, 48, 48, 1)\n",
      "Testing Data Shape: (2563,)\n"
     ]
    }
   ],
   "source": [
    "# Check the shape of our reshaped data\n",
    "print(\"Training Data Info\")\n",
    "print(\"Training Data Shape:\", X_train.shape)\n",
    "print(\"Training Data Shape:\", y_train.shape)\n",
    "\n",
    "print(\"Test Data Info\")\n",
    "print(\"Testing Data Shape:\", X_test.shape)\n",
    "print(\"Testing Data Shape:\", y_test.shape)"
   ]
  },
  {
   "cell_type": "markdown",
   "metadata": {},
   "source": [
    "### Scaling and Normalization \n",
    "**We use Sklearn's MinMaxScaler to normalize our data between 0 and 1**"
   ]
  },
  {
   "cell_type": "code",
   "execution_count": 10,
   "metadata": {},
   "outputs": [],
   "source": [
    "# # Normalize the training data to be between 0 and 1\n",
    "# scaler = MinMaxScaler().fit(X_train)\n",
    "\n",
    "# X_train = scaler.transform(X_train)\n",
    "# X_test = scaler.transform(X_test)"
   ]
  },
  {
   "cell_type": "markdown",
   "metadata": {},
   "source": [
    "### One-Hot Encoding\n",
    "\n",
    "**We need to one-hot encode our integer labels using the `to_categorical` helper function**"
   ]
  },
  {
   "cell_type": "code",
   "execution_count": 11,
   "metadata": {},
   "outputs": [
    {
     "data": {
      "text/plain": [
       "array([0, 0, 0, 0, 1, 1, 0, 0, 0, 0, 1, 1, 0, 0, 0, 1, 1, 1, 0, 1])"
      ]
     },
     "execution_count": 11,
     "metadata": {},
     "output_type": "execute_result"
    }
   ],
   "source": [
    "# Our Training and Testing labels are integer encoded from 0 (Happy) to 1 (Sad). Look at the first 20 training labels.\n",
    "y_train[:20]"
   ]
  },
  {
   "cell_type": "code",
   "execution_count": 12,
   "metadata": {},
   "outputs": [
    {
     "data": {
      "text/plain": [
       "array([1., 0.], dtype=float32)"
      ]
     },
     "execution_count": 12,
     "metadata": {},
     "output_type": "execute_result"
    }
   ],
   "source": [
    "# We need to convert our target labels (expected values) to categorical data\n",
    "face_classes = 2\n",
    "y_train = to_categorical(y_train, face_classes)\n",
    "y_test = to_categorical(y_test, face_classes)\n",
    "\n",
    "# Our first row label [0] of `0` is one-hot encoded as `1,0`\n",
    "y_train[0]"
   ]
  },
  {
   "cell_type": "markdown",
   "metadata": {},
   "source": [
    "## Building our Model\n",
    "\n",
    "**In this example, we are going to build a Deep Multi-Layer Perceptron model with 2 hidden layers.**"
   ]
  },
  {
   "cell_type": "markdown",
   "metadata": {},
   "source": [
    "### Opt Model 1"
   ]
  },
  {
   "cell_type": "code",
   "execution_count": 30,
   "metadata": {},
   "outputs": [
    {
     "name": "stdout",
     "output_type": "stream",
     "text": [
      "Model: \"sequential_6\"\n",
      "_________________________________________________________________\n",
      " Layer (type)                Output Shape              Param #   \n",
      "=================================================================\n",
      " conv2d_6 (Conv2D)           (None, 46, 46, 6)         60        \n",
      "                                                                 \n",
      " max_pooling2d_6 (MaxPooling  (None, 23, 23, 6)        0         \n",
      " 2D)                                                             \n",
      "                                                                 \n",
      " conv2d_7 (Conv2D)           (None, 21, 21, 32)        1760      \n",
      "                                                                 \n",
      " max_pooling2d_7 (MaxPooling  (None, 10, 10, 32)       0         \n",
      " 2D)                                                             \n",
      "                                                                 \n",
      " flatten_5 (Flatten)         (None, 3200)              0         \n",
      "                                                                 \n",
      " dense_16 (Dense)            (None, 64)                204864    \n",
      "                                                                 \n",
      " dense_17 (Dense)            (None, 2)                 130       \n",
      "                                                                 \n",
      "=================================================================\n",
      "Total params: 206,814\n",
      "Trainable params: 206,814\n",
      "Non-trainable params: 0\n",
      "_________________________________________________________________\n"
     ]
    }
   ],
   "source": [
    "# Create an empty sequential model\n",
    "model = Sequential()\n",
    "\n",
    "# Model Layers\n",
    "# Add first hidden layer\n",
    "model.add(Conv2D(filters=6, kernel_size=3, strides=1, \n",
    "                 activation='relu', input_shape=(48,48,1)))\n",
    "model.add(MaxPool2D(pool_size=(2,2)))\n",
    "\n",
    "# Additional convolution layer to improve accuracy\n",
    "model.add(Conv2D(32, kernel_size=3, strides=1, activation='relu'))\n",
    "model.add(MaxPool2D(pool_size=(2,2)))\n",
    "\n",
    "model.add(Flatten())\n",
    "\n",
    "# STEP--4 Fully Connected Neural Network\n",
    "model.add(Dense(64, activation='relu'))\n",
    "\n",
    "# Final layer and output to face_classes\n",
    "model.add(Dense(face_classes, activation='softmax'))\n",
    "\n",
    "\n",
    "# We can summarize our model\n",
    "model.summary()"
   ]
  },
  {
   "cell_type": "markdown",
   "metadata": {},
   "source": [
    "### Opt Model 2"
   ]
  },
  {
   "cell_type": "code",
   "execution_count": 15,
   "metadata": {},
   "outputs": [
    {
     "name": "stdout",
     "output_type": "stream",
     "text": [
      "Model: \"sequential_2\"\n",
      "_________________________________________________________________\n",
      " Layer (type)                Output Shape              Param #   \n",
      "=================================================================\n",
      " dense_4 (Dense)             (None, 48, 48, 100)       200       \n",
      "                                                                 \n",
      " dense_5 (Dense)             (None, 48, 48, 200)       20200     \n",
      "                                                                 \n",
      " flatten_2 (Flatten)         (None, 460800)            0         \n",
      "                                                                 \n",
      " dense_6 (Dense)             (None, 64)                29491264  \n",
      "                                                                 \n",
      " dense_7 (Dense)             (None, 2)                 130       \n",
      "                                                                 \n",
      "=================================================================\n",
      "Total params: 29,511,794\n",
      "Trainable params: 29,511,794\n",
      "Non-trainable params: 0\n",
      "_________________________________________________________________\n"
     ]
    }
   ],
   "source": [
    "# Create an empty sequential model\n",
    "model2 = Sequential()\n",
    "\n",
    "# Add the first layer where the input dimensions are the 784 pixel values\n",
    "# We can also choose our activation function. `relu` is a common\n",
    "model2.add(Dense(units=100, input_shape=(48,48,1), activation=\"relu\"))\n",
    "\n",
    "# Add a second hidden layer\n",
    "model2.add(Dense(units=200, activation=\"relu\"))\n",
    "\n",
    "# # Add a third hidden layer\n",
    "# model3.add(Dense(units=400, activation=\"relu\"))\n",
    "\n",
    "# STEP--3 FLattening\n",
    "model2.add(Flatten())\n",
    "\n",
    "# STEP--4 Fully Connected Neural Network\n",
    "model2.add(Dense(64, activation='relu'))\n",
    "\n",
    "# Add our final output layer where the number of nodes \n",
    "# corresponds to the number of y labels\n",
    "model2.add(Dense(face_classes, activation=\"softmax\"))\n",
    "\n",
    "# We can summarize our model\n",
    "model2.summary()"
   ]
  },
  {
   "cell_type": "markdown",
   "metadata": {},
   "source": [
    "### Opt Model 3"
   ]
  },
  {
   "cell_type": "code",
   "execution_count": 22,
   "metadata": {},
   "outputs": [
    {
     "name": "stdout",
     "output_type": "stream",
     "text": [
      "Model: \"sequential_5\"\n",
      "_________________________________________________________________\n",
      " Layer (type)                Output Shape              Param #   \n",
      "=================================================================\n",
      " dense_13 (Dense)            (None, 48, 48, 100)       200       \n",
      "                                                                 \n",
      " dense_14 (Dense)            (None, 48, 48, 100)       10100     \n",
      "                                                                 \n",
      " flatten_4 (Flatten)         (None, 230400)            0         \n",
      "                                                                 \n",
      " dense_15 (Dense)            (None, 2)                 460802    \n",
      "                                                                 \n",
      "=================================================================\n",
      "Total params: 471,102\n",
      "Trainable params: 471,102\n",
      "Non-trainable params: 0\n",
      "_________________________________________________________________\n"
     ]
    }
   ],
   "source": [
    "# Create an empty sequential model\n",
    "model3 = Sequential()\n",
    "\n",
    "# Add the first layer where the input dimensions are the 784 pixel values\n",
    "# We can also choose our activation function. `relu` is a common\n",
    "model3.add(Dense(100, input_shape=(48,48,1), activation=\"relu\"))\n",
    "\n",
    "# Add a second hidden layer\n",
    "model3.add(Dense(100, activation=\"relu\"))\n",
    "\n",
    "# STEP--3 FLattening\n",
    "model3.add(Flatten())\n",
    "\n",
    "# Add our final output layer where the number of nodes \n",
    "# corresponds to the number of y labels\n",
    "model3.add(Dense(face_classes, activation=\"softmax\"))\n",
    "\n",
    "# We can summarize our model\n",
    "model3.summary()"
   ]
  },
  {
   "cell_type": "markdown",
   "metadata": {},
   "source": [
    "## Compile and Train our Model\n",
    "\n",
    "Now that we have our model architecture defined, we must compile the model using a loss function and optimizer. We can also specify additional training metrics such as accuracy."
   ]
  },
  {
   "cell_type": "markdown",
   "metadata": {},
   "source": [
    "### Opt Model 1"
   ]
  },
  {
   "cell_type": "code",
   "execution_count": 33,
   "metadata": {},
   "outputs": [
    {
     "name": "stdout",
     "output_type": "stream",
     "text": [
      "Epoch 1/20\n",
      "75/75 [==============================] - 6s 68ms/step - loss: 0.3444 - accuracy: 0.8503 - val_loss: 0.5464 - val_accuracy: 0.7573\n",
      "Epoch 2/20\n",
      "75/75 [==============================] - 5s 64ms/step - loss: 0.3277 - accuracy: 0.8580 - val_loss: 0.5718 - val_accuracy: 0.7667\n",
      "Epoch 3/20\n",
      "75/75 [==============================] - 5s 64ms/step - loss: 0.3083 - accuracy: 0.8689 - val_loss: 0.5445 - val_accuracy: 0.7698\n",
      "Epoch 4/20\n",
      "75/75 [==============================] - 5s 65ms/step - loss: 0.2853 - accuracy: 0.8802 - val_loss: 0.6181 - val_accuracy: 0.7378\n",
      "Epoch 5/20\n",
      "75/75 [==============================] - 5s 64ms/step - loss: 0.3071 - accuracy: 0.8625 - val_loss: 0.5631 - val_accuracy: 0.7741\n",
      "Epoch 6/20\n",
      "75/75 [==============================] - 5s 65ms/step - loss: 0.2610 - accuracy: 0.8902 - val_loss: 0.6459 - val_accuracy: 0.7335\n",
      "Epoch 7/20\n",
      "75/75 [==============================] - 5s 67ms/step - loss: 0.2544 - accuracy: 0.8924 - val_loss: 0.6225 - val_accuracy: 0.7487\n",
      "Epoch 8/20\n",
      "75/75 [==============================] - 5s 66ms/step - loss: 0.2398 - accuracy: 0.9027 - val_loss: 0.6528 - val_accuracy: 0.7675\n",
      "Epoch 9/20\n",
      "75/75 [==============================] - 5s 66ms/step - loss: 0.2188 - accuracy: 0.9101 - val_loss: 0.7338 - val_accuracy: 0.7565\n",
      "Epoch 10/20\n",
      "75/75 [==============================] - 5s 66ms/step - loss: 0.2199 - accuracy: 0.9082 - val_loss: 0.6516 - val_accuracy: 0.7671\n",
      "Epoch 11/20\n",
      "75/75 [==============================] - 5s 66ms/step - loss: 0.2082 - accuracy: 0.9149 - val_loss: 0.6750 - val_accuracy: 0.7589\n",
      "Epoch 12/20\n",
      "75/75 [==============================] - 5s 68ms/step - loss: 0.1983 - accuracy: 0.9195 - val_loss: 0.7130 - val_accuracy: 0.7600\n",
      "Epoch 13/20\n",
      "75/75 [==============================] - 5s 70ms/step - loss: 0.1788 - accuracy: 0.9290 - val_loss: 0.8320 - val_accuracy: 0.7550\n",
      "Epoch 14/20\n",
      "75/75 [==============================] - 5s 67ms/step - loss: 0.1725 - accuracy: 0.9306 - val_loss: 0.7711 - val_accuracy: 0.7600\n",
      "Epoch 15/20\n",
      "75/75 [==============================] - 5s 67ms/step - loss: 0.1640 - accuracy: 0.9358 - val_loss: 0.8015 - val_accuracy: 0.7639\n",
      "Epoch 16/20\n",
      "75/75 [==============================] - 5s 70ms/step - loss: 0.1608 - accuracy: 0.9351 - val_loss: 0.8184 - val_accuracy: 0.7366\n",
      "Epoch 17/20\n",
      "75/75 [==============================] - 5s 72ms/step - loss: 0.1532 - accuracy: 0.9413 - val_loss: 0.8554 - val_accuracy: 0.7569\n",
      "Epoch 18/20\n",
      "75/75 [==============================] - 5s 71ms/step - loss: 0.1374 - accuracy: 0.9450 - val_loss: 0.8537 - val_accuracy: 0.7600\n",
      "Epoch 19/20\n",
      "75/75 [==============================] - 6s 75ms/step - loss: 0.1189 - accuracy: 0.9547 - val_loss: 0.9116 - val_accuracy: 0.7581\n",
      "Epoch 20/20\n",
      "75/75 [==============================] - 6s 75ms/step - loss: 0.1234 - accuracy: 0.9499 - val_loss: 0.9155 - val_accuracy: 0.7612\n"
     ]
    },
    {
     "data": {
      "text/plain": [
       "<keras.callbacks.History at 0x7fc5111cadd0>"
      ]
     },
     "execution_count": 33,
     "metadata": {},
     "output_type": "execute_result"
    }
   ],
   "source": [
    "# Use categorical crossentropy for categorical data and mean squared error for regression\n",
    "model.compile(optimizer='adam',\n",
    "             loss='categorical_crossentropy',\n",
    "             metrics=['accuracy'])\n",
    "\n",
    "# Fit (train) the model\n",
    "model.fit(\n",
    "    X_train,\n",
    "    y_train,\n",
    "    validation_data=(X_test, y_test),\n",
    "    steps_per_epoch=75,\n",
    "    epochs=20    \n",
    ")"
   ]
  },
  {
   "cell_type": "code",
   "execution_count": 34,
   "metadata": {},
   "outputs": [],
   "source": [
    "# Save the model\n",
    "model.save(\"opt_a_trained.h5\")"
   ]
  },
  {
   "cell_type": "markdown",
   "metadata": {},
   "source": [
    "### Opt Model 2"
   ]
  },
  {
   "cell_type": "code",
   "execution_count": 18,
   "metadata": {},
   "outputs": [],
   "source": [
    "# # Use categorical crossentropy for categorical data and mean squared error for regression\n",
    "# model2.compile(optimizer='adam',\n",
    "#              loss='categorical_crossentropy',\n",
    "#              metrics=['accuracy'])\n",
    "\n",
    "# # Fit (train) the model\n",
    "# model2.fit(\n",
    "#     X_train,\n",
    "#     y_train,\n",
    "#     steps_per_epoch=5,\n",
    "#     epochs=20,\n",
    "#     shuffle=True,\n",
    "#     verbose=2\n",
    "# )"
   ]
  },
  {
   "cell_type": "code",
   "execution_count": null,
   "metadata": {},
   "outputs": [],
   "source": [
    "# # Save the model\n",
    "# model2.save(\"opt_b_trained.h5\")"
   ]
  },
  {
   "cell_type": "markdown",
   "metadata": {},
   "source": [
    "### Opt Model 3"
   ]
  },
  {
   "cell_type": "code",
   "execution_count": 23,
   "metadata": {},
   "outputs": [
    {
     "name": "stdout",
     "output_type": "stream",
     "text": [
      "Epoch 1/10\n",
      "10/10 [==============================] - 34s 3s/step - loss: 385.5573 - accuracy: 0.4904 - val_loss: 218.9089 - val_accuracy: 0.5002\n",
      "Epoch 2/10\n",
      "10/10 [==============================] - 37s 4s/step - loss: 102.0435 - accuracy: 0.5187 - val_loss: 54.4108 - val_accuracy: 0.4998\n",
      "Epoch 3/10\n",
      "10/10 [==============================] - 37s 4s/step - loss: 19.3305 - accuracy: 0.5093 - val_loss: 4.3949 - val_accuracy: 0.5002\n",
      "Epoch 4/10\n",
      "10/10 [==============================] - 38s 4s/step - loss: 1.1363 - accuracy: 0.5181 - val_loss: 0.6899 - val_accuracy: 0.5111\n",
      "Epoch 5/10\n",
      "10/10 [==============================] - 37s 4s/step - loss: 0.9855 - accuracy: 0.5315 - val_loss: 0.6885 - val_accuracy: 0.5166\n",
      "Epoch 6/10\n",
      "10/10 [==============================] - 33s 3s/step - loss: 0.6859 - accuracy: 0.5465 - val_loss: 0.6887 - val_accuracy: 0.5205\n",
      "Epoch 7/10\n",
      "10/10 [==============================] - 32s 3s/step - loss: 0.6840 - accuracy: 0.5457 - val_loss: 0.6880 - val_accuracy: 0.5166\n",
      "Epoch 8/10\n",
      "10/10 [==============================] - 33s 3s/step - loss: 0.6817 - accuracy: 0.5546 - val_loss: 0.6876 - val_accuracy: 0.5119\n",
      "Epoch 9/10\n",
      "10/10 [==============================] - 35s 4s/step - loss: 0.6788 - accuracy: 0.5633 - val_loss: 0.6866 - val_accuracy: 0.5123\n",
      "Epoch 10/10\n",
      "10/10 [==============================] - 33s 3s/step - loss: 0.6746 - accuracy: 0.5716 - val_loss: 0.6853 - val_accuracy: 0.5209\n"
     ]
    },
    {
     "data": {
      "text/plain": [
       "<keras.callbacks.History at 0x7fc5d0194710>"
      ]
     },
     "execution_count": 23,
     "metadata": {},
     "output_type": "execute_result"
    }
   ],
   "source": [
    "# Use categorical crossentropy for categorical data and mean squared error for regression\n",
    "model3.compile(optimizer='adam',\n",
    "             loss='categorical_crossentropy',\n",
    "             metrics=['accuracy'])\n",
    "\n",
    "# Fit (train) the model\n",
    "model3.fit(\n",
    "    X_train,\n",
    "    y_train,\n",
    "    validation_data=(X_test, y_test),\n",
    "    steps_per_epoch=10,\n",
    "    epochs=10,\n",
    "    shuffle=True\n",
    ")"
   ]
  },
  {
   "cell_type": "code",
   "execution_count": null,
   "metadata": {},
   "outputs": [],
   "source": [
    "# Save the model\n",
    "model3.save(\"opt_c_trained.h5\")"
   ]
  },
  {
   "cell_type": "markdown",
   "metadata": {},
   "source": [
    "## Evaluating the Model\n",
    "\n",
    "We use our testing data to validate our model. This is how we determine the validity of our model (i.e. the ability to predict new and previously unseen data points)"
   ]
  },
  {
   "cell_type": "code",
   "execution_count": 36,
   "metadata": {},
   "outputs": [
    {
     "name": "stdout",
     "output_type": "stream",
     "text": [
      "81/81 - 1s - loss: 0.9155 - accuracy: 0.7612 - 572ms/epoch - 7ms/step\n",
      "<b>Model 1</b>\n",
      "Loss: 0.9154880046844482, Accuracy: 0.7612172961235046\n",
      "81/81 - 4s - loss: 0.6853 - accuracy: 0.5209 - 4s/epoch - 45ms/step\n",
      "Model 3\n",
      "Loss: 0.6853206157684326, Accuracy: 0.5208739638328552\n"
     ]
    }
   ],
   "source": [
    "# Evaluate the model using the training data \n",
    "model_loss, model_accuracy = model.evaluate(X_test, y_test,verbose=2)\n",
    "print(f\"Model 1\")\n",
    "print(f\"Loss: {model_loss}, Accuracy: {model_accuracy}\")\n",
    "\n",
    "# model2_loss, model2_accuracy = model2.evaluate(X_test, y_test,verbose=2)\n",
    "# print(f\"Model 2\")\n",
    "# print(f\"Loss: {model2_loss}, Accuracy: {model2_accuracy}\")\n",
    "\n",
    "model3_loss, model3_accuracy = model3.evaluate(X_test, y_test,verbose=2)\n",
    "print(f\"Model 3\")\n",
    "print(f\"Loss: {model3_loss}, Accuracy: {model3_accuracy}\")"
   ]
  },
  {
   "cell_type": "markdown",
   "metadata": {},
   "source": [
    "## Making Predictions\n",
    "\n",
    "We can use our trained model to make predictions using `model.predict`"
   ]
  },
  {
   "cell_type": "code",
   "execution_count": 26,
   "metadata": {},
   "outputs": [
    {
     "data": {
      "text/plain": [
       "(1, 48, 48, 1)"
      ]
     },
     "execution_count": 26,
     "metadata": {},
     "output_type": "execute_result"
    }
   ],
   "source": [
    "# Grab just one data point to test with\n",
    "test = np.expand_dims(X_train[0], axis=0)\n",
    "test.shape"
   ]
  },
  {
   "cell_type": "code",
   "execution_count": 38,
   "metadata": {},
   "outputs": [
    {
     "name": "stdout",
     "output_type": "stream",
     "text": [
      "1/1 [==============================] - 0s 91ms/step\n",
      "Predicted: [[0.99663854 0.0033614 ]]\n"
     ]
    },
    {
     "data": {
      "text/plain": [
       "<matplotlib.image.AxesImage at 0x7fc51182ced0>"
      ]
     },
     "execution_count": 38,
     "metadata": {},
     "output_type": "execute_result"
    },
    {
     "data": {
      "image/png": "[encoded data removed]",
      "text/plain": [
       "<Figure size 640x480 with 1 Axes>"
      ]
     },
     "metadata": {},
     "output_type": "display_data"
    }
   ],
   "source": [
    "predictions = model.predict(test)\n",
    "print('Predicted:', predictions)\n",
    "\n",
    "test_img = X_train[1].reshape(48, 48)\n",
    "plt.imshow(test_img)"
   ]
  },
  {
   "cell_type": "code",
   "execution_count": 39,
   "metadata": {},
   "outputs": [
    {
     "name": "stdout",
     "output_type": "stream",
     "text": [
      "1/1 [==============================] - 0s 29ms/step\n",
      "Predicted: [[0.5324302  0.46756986]]\n"
     ]
    },
    {
     "data": {
      "text/plain": [
       "<matplotlib.image.AxesImage at 0x7fc511834f50>"
      ]
     },
     "execution_count": 39,
     "metadata": {},
     "output_type": "execute_result"
    },
    {
     "data": {
      "image/png": "[encoded data removed]",
      "text/plain": [
       "<Figure size 640x480 with 1 Axes>"
      ]
     },
     "metadata": {},
     "output_type": "display_data"
    }
   ],
   "source": [
    "predictions = model3.predict(test)\n",
    "print('Predicted:', predictions)\n",
    "\n",
    "test_img = X_train[1].reshape(48, 48)\n",
    "plt.imshow(test_img)"
   ]
  }
 ],
 "metadata": {
  "kernelspec": {
   "display_name": "Python 3 (ipykernel)",
   "language": "python",
   "name": "python3"
  },
  "language_info": {
   "codemirror_mode": {
    "name": "ipython",
    "version": 3
   },
   "file_extension": ".py",
   "mimetype": "text/x-python",
   "name": "python",
   "nbconvert_exporter": "python",
   "pygments_lexer": "ipython3",
   "version": "3.7.13"
  }
 },
 "nbformat": 4,
 "nbformat_minor": 4
}
