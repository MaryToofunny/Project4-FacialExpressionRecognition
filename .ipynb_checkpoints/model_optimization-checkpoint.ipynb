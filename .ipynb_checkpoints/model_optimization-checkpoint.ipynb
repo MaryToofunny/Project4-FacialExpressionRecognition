{
 "cells": [
  {
   "cell_type": "markdown",
   "metadata": {},
   "source": [
    "## Model Optimization"
   ]
  },
  {
   "cell_type": "code",
   "execution_count": 1,
   "metadata": {
    "scrolled": true
   },
   "outputs": [],
   "source": [
    "# Import our dependencies\n",
    "%matplotlib inline\n",
    "from sklearn.preprocessing import OneHotEncoder\n",
    "from sklearn.model_selection import train_test_split, RepeatedKFold, cross_val_score\n",
    "from sklearn.linear_model import LogisticRegression\n",
    "import pandas as pd\n",
    "import matplotlib.pyplot as plt\n",
    "import numpy as np\n",
    "from numpy import mean, std"
   ]
  },
  {
   "cell_type": "markdown",
   "metadata": {},
   "source": [
    "## Keras Specific Dependencies"
   ]
  },
  {
   "cell_type": "code",
   "execution_count": 2,
   "metadata": {},
   "outputs": [
    {
     "name": "stderr",
     "output_type": "stream",
     "text": [
      "2023-04-18 18:39:36.373803: I tensorflow/core/platform/cpu_feature_guard.cc:193] This TensorFlow binary is optimized with oneAPI Deep Neural Network Library (oneDNN) to use the following CPU instructions in performance-critical operations:  AVX2 FMA\n",
      "To enable them in other operations, rebuild TensorFlow with the appropriate compiler flags.\n"
     ]
    }
   ],
   "source": [
    "from tensorflow import keras\n",
    "from keras.utils import to_categorical\n",
    "from keras.models import Sequential\n",
    "from keras.layers import Dense, Conv2D, MaxPool2D, Flatten"
   ]
  },
  {
   "cell_type": "markdown",
   "metadata": {},
   "source": [
    "## Loading, Checking and Spitting our Data"
   ]
  },
  {
   "cell_type": "code",
   "execution_count": 3,
   "metadata": {
    "scrolled": true
   },
   "outputs": [
    {
     "data": {
      "text/html": [
       "<div>\n",
       "<style scoped>\n",
       "    .dataframe tbody tr th:only-of-type {\n",
       "        vertical-align: middle;\n",
       "    }\n",
       "\n",
       "    .dataframe tbody tr th {\n",
       "        vertical-align: top;\n",
       "    }\n",
       "\n",
       "    .dataframe thead th {\n",
       "        text-align: right;\n",
       "    }\n",
       "</style>\n",
       "<table border=\"1\" class=\"dataframe\">\n",
       "  <thead>\n",
       "    <tr style=\"text-align: right;\">\n",
       "      <th></th>\n",
       "      <th>0</th>\n",
       "      <th>1</th>\n",
       "      <th>2</th>\n",
       "      <th>3</th>\n",
       "      <th>4</th>\n",
       "      <th>5</th>\n",
       "      <th>6</th>\n",
       "      <th>7</th>\n",
       "      <th>8</th>\n",
       "      <th>9</th>\n",
       "      <th>...</th>\n",
       "      <th>2296</th>\n",
       "      <th>2297</th>\n",
       "      <th>2298</th>\n",
       "      <th>2299</th>\n",
       "      <th>2300</th>\n",
       "      <th>2301</th>\n",
       "      <th>2302</th>\n",
       "      <th>2303</th>\n",
       "      <th>Labels</th>\n",
       "      <th>Emotions</th>\n",
       "    </tr>\n",
       "  </thead>\n",
       "  <tbody>\n",
       "    <tr>\n",
       "      <th>0</th>\n",
       "      <td>59</td>\n",
       "      <td>71</td>\n",
       "      <td>89</td>\n",
       "      <td>118</td>\n",
       "      <td>139</td>\n",
       "      <td>160</td>\n",
       "      <td>183</td>\n",
       "      <td>222</td>\n",
       "      <td>212</td>\n",
       "      <td>148</td>\n",
       "      <td>...</td>\n",
       "      <td>0</td>\n",
       "      <td>0</td>\n",
       "      <td>0</td>\n",
       "      <td>0</td>\n",
       "      <td>0</td>\n",
       "      <td>0</td>\n",
       "      <td>1</td>\n",
       "      <td>0</td>\n",
       "      <td>1</td>\n",
       "      <td>Sad</td>\n",
       "    </tr>\n",
       "    <tr>\n",
       "      <th>1</th>\n",
       "      <td>90</td>\n",
       "      <td>97</td>\n",
       "      <td>105</td>\n",
       "      <td>42</td>\n",
       "      <td>41</td>\n",
       "      <td>41</td>\n",
       "      <td>37</td>\n",
       "      <td>40</td>\n",
       "      <td>36</td>\n",
       "      <td>55</td>\n",
       "      <td>...</td>\n",
       "      <td>42</td>\n",
       "      <td>48</td>\n",
       "      <td>83</td>\n",
       "      <td>107</td>\n",
       "      <td>105</td>\n",
       "      <td>77</td>\n",
       "      <td>51</td>\n",
       "      <td>32</td>\n",
       "      <td>1</td>\n",
       "      <td>Sad</td>\n",
       "    </tr>\n",
       "    <tr>\n",
       "      <th>2</th>\n",
       "      <td>219</td>\n",
       "      <td>221</td>\n",
       "      <td>222</td>\n",
       "      <td>224</td>\n",
       "      <td>225</td>\n",
       "      <td>226</td>\n",
       "      <td>227</td>\n",
       "      <td>229</td>\n",
       "      <td>230</td>\n",
       "      <td>231</td>\n",
       "      <td>...</td>\n",
       "      <td>17</td>\n",
       "      <td>8</td>\n",
       "      <td>3</td>\n",
       "      <td>31</td>\n",
       "      <td>46</td>\n",
       "      <td>38</td>\n",
       "      <td>59</td>\n",
       "      <td>74</td>\n",
       "      <td>1</td>\n",
       "      <td>Sad</td>\n",
       "    </tr>\n",
       "    <tr>\n",
       "      <th>3</th>\n",
       "      <td>51</td>\n",
       "      <td>51</td>\n",
       "      <td>53</td>\n",
       "      <td>50</td>\n",
       "      <td>47</td>\n",
       "      <td>44</td>\n",
       "      <td>41</td>\n",
       "      <td>40</td>\n",
       "      <td>37</td>\n",
       "      <td>37</td>\n",
       "      <td>...</td>\n",
       "      <td>26</td>\n",
       "      <td>59</td>\n",
       "      <td>65</td>\n",
       "      <td>66</td>\n",
       "      <td>64</td>\n",
       "      <td>62</td>\n",
       "      <td>60</td>\n",
       "      <td>56</td>\n",
       "      <td>0</td>\n",
       "      <td>Happy</td>\n",
       "    </tr>\n",
       "    <tr>\n",
       "      <th>4</th>\n",
       "      <td>91</td>\n",
       "      <td>118</td>\n",
       "      <td>124</td>\n",
       "      <td>101</td>\n",
       "      <td>97</td>\n",
       "      <td>130</td>\n",
       "      <td>149</td>\n",
       "      <td>147</td>\n",
       "      <td>144</td>\n",
       "      <td>137</td>\n",
       "      <td>...</td>\n",
       "      <td>202</td>\n",
       "      <td>210</td>\n",
       "      <td>202</td>\n",
       "      <td>120</td>\n",
       "      <td>106</td>\n",
       "      <td>106</td>\n",
       "      <td>101</td>\n",
       "      <td>94</td>\n",
       "      <td>0</td>\n",
       "      <td>Happy</td>\n",
       "    </tr>\n",
       "  </tbody>\n",
       "</table>\n",
       "<p>5 rows × 2306 columns</p>\n",
       "</div>"
      ],
      "text/plain": [
       "     0    1    2    3    4    5    6    7    8    9  ...  2296  2297  2298  \\\n",
       "0   59   71   89  118  139  160  183  222  212  148  ...     0     0     0   \n",
       "1   90   97  105   42   41   41   37   40   36   55  ...    42    48    83   \n",
       "2  219  221  222  224  225  226  227  229  230  231  ...    17     8     3   \n",
       "3   51   51   53   50   47   44   41   40   37   37  ...    26    59    65   \n",
       "4   91  118  124  101   97  130  149  147  144  137  ...   202   210   202   \n",
       "\n",
       "   2299  2300  2301  2302  2303  Labels  Emotions  \n",
       "0     0     0     0     1     0       1       Sad  \n",
       "1   107   105    77    51    32       1       Sad  \n",
       "2    31    46    38    59    74       1       Sad  \n",
       "3    66    64    62    60    56       0     Happy  \n",
       "4   120   106   106   101    94       0     Happy  \n",
       "\n",
       "[5 rows x 2306 columns]"
      ]
     },
     "execution_count": 3,
     "metadata": {},
     "output_type": "execute_result"
    }
   ],
   "source": [
    "data = pd.read_csv(\"resources/data_reduced.csv\", header=0, delimiter=\",\")\n",
    "data.head()"
   ]
  },
  {
   "cell_type": "code",
   "execution_count": 4,
   "metadata": {},
   "outputs": [
    {
     "name": "stdout",
     "output_type": "stream",
     "text": [
      "Image Data Shape: (10252, 2304)\n",
      "Image Labels Shape: (10252,)\n"
     ]
    },
    {
     "name": "stderr",
     "output_type": "stream",
     "text": [
      "/Users/terryschoch/opt/anaconda3/envs/PythonData/lib/python3.7/site-packages/ipykernel_launcher.py:2: FutureWarning: In a future version of pandas all arguments of DataFrame.drop except for the argument 'labels' will be keyword-only\n",
      "  \n"
     ]
    }
   ],
   "source": [
    "# Split our preprocessed data into our features and target arrays\n",
    "X = data.drop(['Labels', 'Emotions'],1).values\n",
    "y = data['Labels'].values\n",
    "\n",
    "# Verify the shape of our features (X) dataset and labels (y) datasets, ensuring the images are flattened (48 x 48 = 2304)\n",
    "print(\"Image Data Shape:\", X.shape)\n",
    "print(\"Image Labels Shape:\", y.shape)"
   ]
  },
  {
   "cell_type": "code",
   "execution_count": 5,
   "metadata": {},
   "outputs": [
    {
     "data": {
      "image/png": "[encoded data removed]",
      "text/plain": [
       "<Figure size 640x480 with 1 Axes>"
      ]
     },
     "metadata": {},
     "output_type": "display_data"
    }
   ],
   "source": [
    "# Image Check: Create a copy of our data_cleaned dataframe with just the image features and convert a row to an array and resize to a 3 dimensional image in order to display via plt.show function\n",
    "image_data_df = data.copy()\n",
    "image_data_df.drop(image_data_df.columns[[2304, 2305]], axis=1, inplace=True)\n",
    "arr = image_data_df.iloc[4].to_numpy()\n",
    "arr = np.resize(arr, (48, 48))\n",
    "plt.imshow(arr)\n",
    "plt.show()"
   ]
  },
  {
   "cell_type": "markdown",
   "metadata": {},
   "source": [
    "### Repeated K-Fold Cross Validation"
   ]
  },
  {
   "cell_type": "code",
   "execution_count": 6,
   "metadata": {},
   "outputs": [
    {
     "name": "stdout",
     "output_type": "stream",
     "text": [
      "Train: [    0     1     3 ... 10249 10250 10251] Validation: [    2     7     9 ... 10241 10244 10246]\n",
      "Train: [    0     2     3 ... 10248 10249 10250] Validation: [    1     4     8 ... 10230 10242 10251]\n",
      "Train: [    0     1     2 ... 10247 10249 10251] Validation: [    6    14    19 ... 10233 10248 10250]\n",
      "Train: [    0     1     2 ... 10248 10250 10251] Validation: [    3    10    17 ... 10239 10245 10249]\n",
      "Train: [    1     2     3 ... 10249 10250 10251] Validation: [    0     5    12 ... 10235 10243 10247]\n",
      "Train: [    2     3     4 ... 10247 10249 10251] Validation: [    0     1     8 ... 10228 10248 10250]\n",
      "Train: [    0     1     2 ... 10249 10250 10251] Validation: [    7     9    19 ... 10239 10242 10244]\n",
      "Train: [    0     1     2 ... 10249 10250 10251] Validation: [    3     4     6 ... 10233 10235 10240]\n",
      "Train: [    0     1     2 ... 10248 10249 10250] Validation: [    5    11    14 ... 10237 10243 10251]\n",
      "Train: [    0     1     3 ... 10248 10250 10251] Validation: [    2    10    12 ... 10246 10247 10249]\n",
      "Train: [    0     1     3 ... 10248 10249 10251] Validation: [    2     9    12 ... 10239 10240 10250]\n",
      "Train: [    1     2     3 ... 10248 10249 10250] Validation: [    0     4     5 ... 10241 10244 10251]\n",
      "Train: [    0     1     2 ... 10249 10250 10251] Validation: [    8    19    25 ... 10232 10245 10246]\n",
      "Train: [    0     1     2 ... 10249 10250 10251] Validation: [    3     6     7 ... 10242 10243 10248]\n",
      "Train: [    0     2     3 ... 10248 10250 10251] Validation: [    1    15    18 ... 10237 10247 10249]\n",
      "Train: [    0     1     2 ... 10249 10250 10251] Validation: [    7    11    12 ... 10237 10246 10247]\n",
      "Train: [    0     1     3 ... 10246 10247 10250] Validation: [    2     6    10 ... 10248 10249 10251]\n",
      "Train: [    0     2     3 ... 10248 10249 10251] Validation: [    1     4    14 ... 10240 10244 10250]\n",
      "Train: [    0     1     2 ... 10249 10250 10251] Validation: [    3     8     9 ... 10222 10228 10232]\n",
      "Train: [    1     2     3 ... 10249 10250 10251] Validation: [    0     5    13 ... 10239 10242 10243]\n",
      "Train: [    1     2     3 ... 10249 10250 10251] Validation: [    0    19    23 ... 10232 10234 10238]\n",
      "Train: [    0     3     4 ... 10248 10249 10251] Validation: [    1     2     5 ... 10242 10243 10250]\n",
      "Train: [    0     1     2 ... 10249 10250 10251] Validation: [    4     7    10 ... 10241 10246 10247]\n",
      "Train: [    0     1     2 ... 10246 10247 10250] Validation: [    3    14    20 ... 10248 10249 10251]\n",
      "Train: [    0     1     2 ... 10249 10250 10251] Validation: [   11    12    16 ... 10237 10244 10245]\n",
      "Train: [    0     1     2 ... 10249 10250 10251] Validation: [    7    22    26 ... 10220 10229 10245]\n",
      "Train: [    0     1     2 ... 10248 10249 10251] Validation: [    8    13    27 ... 10234 10239 10250]\n",
      "Train: [    0     1     3 ... 10249 10250 10251] Validation: [    2     5     6 ... 10241 10246 10248]\n",
      "Train: [    0     2     3 ... 10249 10250 10251] Validation: [    1    12    18 ... 10242 10243 10244]\n",
      "Train: [    1     2     5 ... 10246 10248 10250] Validation: [    0     3     4 ... 10247 10249 10251]\n",
      "Train: [    0     1     2 ... 10249 10250 10251] Validation: [    4    13    16 ... 10241 10246 10247]\n",
      "Train: [    0     1     2 ... 10248 10249 10250] Validation: [    3     9    14 ... 10244 10245 10251]\n",
      "Train: [    2     3     4 ... 10249 10250 10251] Validation: [    0     1     8 ... 10240 10243 10248]\n",
      "Train: [    0     1     3 ... 10248 10249 10251] Validation: [    2     5    11 ... 10223 10237 10250]\n",
      "Train: [    0     1     2 ... 10248 10250 10251] Validation: [    6     7    31 ... 10232 10238 10249]\n",
      "Train: [    0     2     3 ... 10248 10249 10250] Validation: [    1     9    12 ... 10236 10241 10251]\n",
      "Train: [    0     1     2 ... 10248 10249 10251] Validation: [   11    25    26 ... 10240 10242 10250]\n",
      "Train: [    0     1     2 ... 10248 10250 10251] Validation: [    8    10    13 ... 10243 10246 10249]\n",
      "Train: [    1     2     4 ... 10249 10250 10251] Validation: [    0     3     5 ... 10231 10233 10248]\n",
      "Train: [    0     1     3 ... 10249 10250 10251] Validation: [    2     4     6 ... 10244 10245 10247]\n",
      "Train: [    0     2     3 ... 10247 10249 10250] Validation: [    1     4     6 ... 10238 10248 10251]\n",
      "Train: [    0     1     2 ... 10249 10250 10251] Validation: [   15    16    19 ... 10232 10246 10247]\n",
      "Train: [    0     1     2 ... 10249 10250 10251] Validation: [    3     5     7 ... 10235 10240 10241]\n",
      "Train: [    0     1     3 ... 10247 10248 10251] Validation: [    2     8    10 ... 10245 10249 10250]\n",
      "Train: [    1     2     3 ... 10249 10250 10251] Validation: [    0     9    23 ... 10233 10242 10244]\n",
      "Train: [    1     2     4 ... 10247 10249 10250] Validation: [    0     3    13 ... 10246 10248 10251]\n",
      "Train: [    0     1     2 ... 10249 10250 10251] Validation: [    4     8     9 ... 10242 10243 10244]\n",
      "Train: [    0     1     2 ... 10249 10250 10251] Validation: [   10    12    15 ... 10232 10236 10240]\n",
      "Train: [    0     1     2 ... 10247 10248 10251] Validation: [    6    11    16 ... 10241 10249 10250]\n",
      "Train: [    0     3     4 ... 10249 10250 10251] Validation: [    1     2     5 ... 10233 10234 10247]\n"
     ]
    }
   ],
   "source": [
    "# Apply K-Fold Cross Validation to our dataset\n",
    "kf = RepeatedKFold(n_splits=5, n_repeats=10, random_state=None) \n",
    "\n",
    "# X is the feature set and y is the target\n",
    "for train_index, test_index in kf.split(X):\n",
    "      print(\"Train:\", train_index, \"Validation:\",test_index)\n",
    "      X_train, X_test = X[train_index], X[test_index] \n",
    "      y_train, y_test = y[train_index], y[test_index]"
   ]
  },
  {
   "cell_type": "code",
   "execution_count": 7,
   "metadata": {},
   "outputs": [
    {
     "name": "stdout",
     "output_type": "stream",
     "text": [
      "Accuracy: 0.658 (0.010)\n"
     ]
    }
   ],
   "source": [
    "# Evaluate a logistic regression model using k-fold cross-validation for a referential potential accuracy\n",
    "# Create model\n",
    "model_cv = LogisticRegression()\n",
    "\n",
    "# Evaluate model\n",
    "scores = cross_val_score(model_cv, X, y, scoring='accuracy', cv=kf, n_jobs=-1)\n",
    "\n",
    "# Report performance\n",
    "print('Accuracy: %.3f (%.3f)' % (mean(scores), std(scores)))"
   ]
  },
  {
   "cell_type": "code",
   "execution_count": 8,
   "metadata": {},
   "outputs": [],
   "source": [
    "#reshape data to fit model\n",
    "X_train = X_train.reshape(8202,48,48,1)\n",
    "X_test = X_test.reshape(2050,48,48,1)"
   ]
  },
  {
   "cell_type": "code",
   "execution_count": 9,
   "metadata": {},
   "outputs": [
    {
     "name": "stdout",
     "output_type": "stream",
     "text": [
      "Training Data Info\n",
      "Training Data Shape: (8202, 48, 48, 1)\n",
      "Training Data Shape: (8202,)\n",
      "Test Data Info\n",
      "Testing Data Shape: (2050, 48, 48, 1)\n",
      "Testing Data Shape: (2050,)\n"
     ]
    }
   ],
   "source": [
    "# Check the shape of our reshaped data\n",
    "print(\"Training Data Info\")\n",
    "print(\"Training Data Shape:\", X_train.shape)\n",
    "print(\"Training Data Shape:\", y_train.shape)\n",
    "\n",
    "print(\"Test Data Info\")\n",
    "print(\"Testing Data Shape:\", X_test.shape)\n",
    "print(\"Testing Data Shape:\", y_test.shape)"
   ]
  },
  {
   "cell_type": "markdown",
   "metadata": {},
   "source": [
    "### One-Hot Encoding\n",
    "\n",
    "**We need to one-hot encode our integer labels using the `to_categorical` helper function**"
   ]
  },
  {
   "cell_type": "code",
   "execution_count": 10,
   "metadata": {},
   "outputs": [
    {
     "data": {
      "text/plain": [
       "array([1, 0, 0, 1, 0, 1, 1, 1, 0, 1])"
      ]
     },
     "execution_count": 10,
     "metadata": {},
     "output_type": "execute_result"
    }
   ],
   "source": [
    "# Check integer encoding of our first 10 labels\n",
    "y_train[:10]"
   ]
  },
  {
   "cell_type": "code",
   "execution_count": 11,
   "metadata": {},
   "outputs": [
    {
     "data": {
      "text/plain": [
       "array([0., 1.], dtype=float32)"
      ]
     },
     "execution_count": 11,
     "metadata": {},
     "output_type": "execute_result"
    }
   ],
   "source": [
    "# We need to convert our target labels (expected values) to categorical data\n",
    "face_classes = 2\n",
    "y_train = to_categorical(y_train, face_classes)\n",
    "y_test = to_categorical(y_test, face_classes)\n",
    "\n",
    "# Confirm that our sixth [5] row label of '1' is one-hot encoded as '0,1'\n",
    "y_train[5]"
   ]
  },
  {
   "cell_type": "markdown",
   "metadata": {},
   "source": [
    "## Building our Models\n",
    "### Creating, Compiling, Training, Saving"
   ]
  },
  {
   "cell_type": "markdown",
   "metadata": {},
   "source": [
    "## Opt Model A"
   ]
  },
  {
   "cell_type": "code",
   "execution_count": 12,
   "metadata": {},
   "outputs": [
    {
     "name": "stdout",
     "output_type": "stream",
     "text": [
      "Model: \"sequential\"\n",
      "_________________________________________________________________\n",
      " Layer (type)                Output Shape              Param #   \n",
      "=================================================================\n",
      " conv2d (Conv2D)             (None, 46, 46, 24)        240       \n",
      "                                                                 \n",
      " max_pooling2d (MaxPooling2D  (None, 23, 23, 24)       0         \n",
      " )                                                               \n",
      "                                                                 \n",
      " conv2d_1 (Conv2D)           (None, 21, 21, 48)        10416     \n",
      "                                                                 \n",
      " max_pooling2d_1 (MaxPooling  (None, 10, 10, 48)       0         \n",
      " 2D)                                                             \n",
      "                                                                 \n",
      " conv2d_2 (Conv2D)           (None, 8, 8, 96)          41568     \n",
      "                                                                 \n",
      " max_pooling2d_2 (MaxPooling  (None, 4, 4, 96)         0         \n",
      " 2D)                                                             \n",
      "                                                                 \n",
      " flatten (Flatten)           (None, 1536)              0         \n",
      "                                                                 \n",
      " dense (Dense)               (None, 48)                73776     \n",
      "                                                                 \n",
      " dense_1 (Dense)             (None, 2)                 98        \n",
      "                                                                 \n",
      "=================================================================\n",
      "Total params: 126,098\n",
      "Trainable params: 126,098\n",
      "Non-trainable params: 0\n",
      "_________________________________________________________________\n"
     ]
    },
    {
     "name": "stderr",
     "output_type": "stream",
     "text": [
      "2023-04-18 18:43:51.368491: I tensorflow/core/platform/cpu_feature_guard.cc:193] This TensorFlow binary is optimized with oneAPI Deep Neural Network Library (oneDNN) to use the following CPU instructions in performance-critical operations:  AVX2 FMA\n",
      "To enable them in other operations, rebuild TensorFlow with the appropriate compiler flags.\n"
     ]
    }
   ],
   "source": [
    "# Create an empty sequential model\n",
    "model = Sequential()\n",
    "\n",
    "# Model Layers\n",
    "# Add first hidden layer\n",
    "model.add(Conv2D(filters=24, kernel_size=3, strides=1, \n",
    "                 activation='relu', input_shape=(48,48,1)))\n",
    "model.add(MaxPool2D(pool_size=(2,2)))\n",
    "\n",
    "# Additional convolution layer to improve accuracy\n",
    "model.add(Conv2D(48, kernel_size=3, strides=1, activation='relu'))\n",
    "model.add(MaxPool2D(pool_size=(2,2)))\n",
    "\n",
    "# Additional convolution layer to improve accuracy\n",
    "model.add(Conv2D(96, kernel_size=3, strides=1, activation='relu'))\n",
    "model.add(MaxPool2D(pool_size=(2,2)))\n",
    "\n",
    "model.add(Flatten())\n",
    "\n",
    "# STEP--4 Fully Connected Neural Network\n",
    "model.add(Dense(48, activation='relu'))\n",
    "\n",
    "# Final layer and output to face_classes\n",
    "model.add(Dense(face_classes, activation='softmax'))\n",
    "\n",
    "# We can summarize our model\n",
    "model.summary()"
   ]
  },
  {
   "cell_type": "code",
   "execution_count": 19,
   "metadata": {},
   "outputs": [
    {
     "name": "stdout",
     "output_type": "stream",
     "text": [
      "Epoch 1/20\n",
      "175/175 [==============================] - 16s 84ms/step - loss: 0.0680 - accuracy: 0.9768 - val_loss: 1.1961 - val_accuracy: 0.8132\n",
      "Epoch 2/20\n",
      "175/175 [==============================] - 16s 90ms/step - loss: 0.0441 - accuracy: 0.9843 - val_loss: 1.3425 - val_accuracy: 0.8112\n",
      "Epoch 3/20\n",
      "175/175 [==============================] - 15s 86ms/step - loss: 0.0606 - accuracy: 0.9787 - val_loss: 1.3766 - val_accuracy: 0.8171\n",
      "Epoch 4/20\n",
      "175/175 [==============================] - 14s 81ms/step - loss: 0.0292 - accuracy: 0.9895 - val_loss: 1.2825 - val_accuracy: 0.8098\n",
      "Epoch 5/20\n",
      "175/175 [==============================] - 14s 81ms/step - loss: 0.0636 - accuracy: 0.9772 - val_loss: 1.1568 - val_accuracy: 0.8112\n",
      "Epoch 6/20\n",
      "175/175 [==============================] - 14s 82ms/step - loss: 0.0285 - accuracy: 0.9906 - val_loss: 1.4037 - val_accuracy: 0.8083\n",
      "Epoch 7/20\n",
      "175/175 [==============================] - 16s 89ms/step - loss: 0.0435 - accuracy: 0.9857 - val_loss: 1.4251 - val_accuracy: 0.8141\n",
      "Epoch 8/20\n",
      "175/175 [==============================] - 16s 94ms/step - loss: 0.0184 - accuracy: 0.9945 - val_loss: 1.5750 - val_accuracy: 0.8278\n",
      "Epoch 9/20\n",
      "175/175 [==============================] - 14s 82ms/step - loss: 0.0316 - accuracy: 0.9893 - val_loss: 1.3133 - val_accuracy: 0.8151\n",
      "Epoch 10/20\n",
      "175/175 [==============================] - 15s 84ms/step - loss: 0.0925 - accuracy: 0.9726 - val_loss: 1.2128 - val_accuracy: 0.8224\n",
      "Epoch 11/20\n",
      "175/175 [==============================] - 16s 92ms/step - loss: 0.0452 - accuracy: 0.9850 - val_loss: 1.2564 - val_accuracy: 0.8195\n",
      "Epoch 12/20\n",
      "175/175 [==============================] - 16s 89ms/step - loss: 0.0160 - accuracy: 0.9954 - val_loss: 1.3852 - val_accuracy: 0.8224\n",
      "Epoch 13/20\n",
      "175/175 [==============================] - 14s 80ms/step - loss: 0.0037 - accuracy: 0.9989 - val_loss: 1.5980 - val_accuracy: 0.8205\n",
      "Epoch 14/20\n",
      "175/175 [==============================] - 14s 81ms/step - loss: 0.0011 - accuracy: 0.9999 - val_loss: 1.5773 - val_accuracy: 0.8234\n",
      "Epoch 15/20\n",
      "175/175 [==============================] - 15s 83ms/step - loss: 5.4782e-04 - accuracy: 1.0000 - val_loss: 1.6888 - val_accuracy: 0.8298\n",
      "Epoch 16/20\n",
      "175/175 [==============================] - 14s 78ms/step - loss: 2.9452e-04 - accuracy: 1.0000 - val_loss: 1.7238 - val_accuracy: 0.8273\n",
      "Epoch 17/20\n",
      "175/175 [==============================] - 14s 82ms/step - loss: 2.1770e-04 - accuracy: 1.0000 - val_loss: 1.7980 - val_accuracy: 0.8293\n",
      "Epoch 18/20\n",
      "175/175 [==============================] - 14s 81ms/step - loss: 1.5807e-04 - accuracy: 1.0000 - val_loss: 1.8487 - val_accuracy: 0.8302\n",
      "Epoch 19/20\n",
      "175/175 [==============================] - 14s 79ms/step - loss: 1.2467e-04 - accuracy: 1.0000 - val_loss: 1.8762 - val_accuracy: 0.8288\n",
      "Epoch 20/20\n",
      "175/175 [==============================] - 15s 85ms/step - loss: 1.0259e-04 - accuracy: 1.0000 - val_loss: 1.9061 - val_accuracy: 0.8298\n",
      "Epoch 1/10\n",
      "200/200 [==============================] - 16s 78ms/step - loss: 8.4913e-05 - accuracy: 1.0000 - val_loss: 1.9304 - val_accuracy: 0.8298\n",
      "Epoch 2/10\n",
      "200/200 [==============================] - 15s 77ms/step - loss: 7.2387e-05 - accuracy: 1.0000 - val_loss: 1.9638 - val_accuracy: 0.8298\n",
      "Epoch 3/10\n",
      "200/200 [==============================] - 16s 78ms/step - loss: 6.0978e-05 - accuracy: 1.0000 - val_loss: 1.9946 - val_accuracy: 0.8298\n",
      "Epoch 4/10\n",
      "200/200 [==============================] - 16s 79ms/step - loss: 5.1107e-05 - accuracy: 1.0000 - val_loss: 2.0132 - val_accuracy: 0.8293\n",
      "Epoch 5/10\n",
      "200/200 [==============================] - 16s 80ms/step - loss: 4.4893e-05 - accuracy: 1.0000 - val_loss: 2.0445 - val_accuracy: 0.8298\n",
      "Epoch 6/10\n",
      "200/200 [==============================] - 16s 78ms/step - loss: 3.8459e-05 - accuracy: 1.0000 - val_loss: 2.0759 - val_accuracy: 0.8312\n",
      "Epoch 7/10\n",
      "200/200 [==============================] - 16s 81ms/step - loss: 3.1923e-05 - accuracy: 1.0000 - val_loss: 2.1062 - val_accuracy: 0.8322\n",
      "Epoch 8/10\n",
      "200/200 [==============================] - 17s 84ms/step - loss: 2.7562e-05 - accuracy: 1.0000 - val_loss: 2.1181 - val_accuracy: 0.8317\n",
      "Epoch 9/10\n",
      "200/200 [==============================] - 16s 80ms/step - loss: 2.5537e-05 - accuracy: 1.0000 - val_loss: 2.1464 - val_accuracy: 0.8327\n",
      "Epoch 10/10\n",
      "159/200 [======================>.......] - ETA: 3s - loss: 2.1343e-05 - accuracy: 1.0000WARNING:tensorflow:Your input ran out of data; interrupting training. Make sure that your dataset or generator can generate at least `steps_per_epoch * epochs` batches (in this case, 2000 batches). You may need to use the repeat() function when building your dataset.\n",
      "200/200 [==============================] - 13s 66ms/step - loss: 2.1305e-05 - accuracy: 1.0000 - val_loss: 2.1637 - val_accuracy: 0.8332\n"
     ]
    },
    {
     "data": {
      "text/plain": [
       "<keras.callbacks.History at 0x7feddee3d690>"
      ]
     },
     "execution_count": 19,
     "metadata": {},
     "output_type": "execute_result"
    }
   ],
   "source": [
    "# Use categorical crossentropy for categorical data and mean squared error for regression\n",
    "model.compile(optimizer='adam',\n",
    "             loss='categorical_crossentropy',\n",
    "             metrics=['accuracy'])\n",
    "\n",
    "# Fit (train) the model\n",
    "model.fit(X_train, y_train,\n",
    "          validation_data=(X_test, y_test),\n",
    "          steps_per_epoch=175, epochs=20)\n",
    "\n",
    "model.fit(X_train, y_train,\n",
    "          validation_data=(X_test, y_test),\n",
    "          steps_per_epoch=200, epochs=10)"
   ]
  },
  {
   "cell_type": "code",
   "execution_count": 20,
   "metadata": {},
   "outputs": [],
   "source": [
    "# Save the model\n",
    "model.save('models/opt_a_trained.h5')"
   ]
  },
  {
   "cell_type": "markdown",
   "metadata": {},
   "source": [
    "## Opt Model B"
   ]
  },
  {
   "cell_type": "code",
   "execution_count": 13,
   "metadata": {},
   "outputs": [
    {
     "name": "stdout",
     "output_type": "stream",
     "text": [
      "Model: \"sequential_1\"\n",
      "_________________________________________________________________\n",
      " Layer (type)                Output Shape              Param #   \n",
      "=================================================================\n",
      " dense_2 (Dense)             (None, 48, 48, 100)       200       \n",
      "                                                                 \n",
      " max_pooling2d_3 (MaxPooling  (None, 24, 24, 100)      0         \n",
      " 2D)                                                             \n",
      "                                                                 \n",
      " dense_3 (Dense)             (None, 24, 24, 200)       20200     \n",
      "                                                                 \n",
      " dense_4 (Dense)             (None, 24, 24, 400)       80400     \n",
      "                                                                 \n",
      " max_pooling2d_4 (MaxPooling  (None, 12, 12, 400)      0         \n",
      " 2D)                                                             \n",
      "                                                                 \n",
      " flatten_1 (Flatten)         (None, 57600)             0         \n",
      "                                                                 \n",
      " dense_5 (Dense)             (None, 64)                3686464   \n",
      "                                                                 \n",
      " dense_6 (Dense)             (None, 2)                 130       \n",
      "                                                                 \n",
      "=================================================================\n",
      "Total params: 3,787,394\n",
      "Trainable params: 3,787,394\n",
      "Non-trainable params: 0\n",
      "_________________________________________________________________\n"
     ]
    }
   ],
   "source": [
    "# Create an empty sequential model\n",
    "model2 = Sequential()\n",
    "\n",
    "# Add the first layer where the input dimensions are the 784 pixel values\n",
    "# We can also choose our activation function. `relu` is a common\n",
    "model2.add(Dense(units=100, input_shape=(48,48,1), activation=\"relu\"))\n",
    "model2.add(MaxPool2D(pool_size=(2,2)))\n",
    "\n",
    "# Add a second hidden layer\n",
    "model2.add(Dense(units=200, activation=\"relu\"))\n",
    "\n",
    "# # Add a third hidden layer\n",
    "model2.add(Dense(units=400, activation=\"relu\"))\n",
    "model2.add(MaxPool2D(pool_size=(2,2)))\n",
    "\n",
    "# STEP--3 FLattening\n",
    "model2.add(Flatten())\n",
    "\n",
    "# STEP--4 Fully Connected Neural Network\n",
    "model2.add(Dense(64, activation='relu'))\n",
    "\n",
    "# Add our final output layer where the number of nodes \n",
    "# corresponds to the number of y labels\n",
    "model2.add(Dense(face_classes, activation=\"softmax\"))\n",
    "\n",
    "# We can summarize our model\n",
    "model2.summary()"
   ]
  },
  {
   "cell_type": "code",
   "execution_count": 21,
   "metadata": {},
   "outputs": [
    {
     "name": "stdout",
     "output_type": "stream",
     "text": [
      "Epoch 1/10\n",
      "50/50 [==============================] - 63s 1s/step - loss: 0.7572 - accuracy: 0.5780 - val_loss: 0.7799 - val_accuracy: 0.5356\n",
      "Epoch 2/10\n",
      "50/50 [==============================] - 61s 1s/step - loss: 0.6549 - accuracy: 0.6103 - val_loss: 0.6418 - val_accuracy: 0.6488\n",
      "Epoch 3/10\n",
      "50/50 [==============================] - 60s 1s/step - loss: 0.6358 - accuracy: 0.6353 - val_loss: 0.6409 - val_accuracy: 0.6429\n",
      "Epoch 4/10\n",
      "50/50 [==============================] - 62s 1s/step - loss: 0.6229 - accuracy: 0.6524 - val_loss: 0.6503 - val_accuracy: 0.6522\n",
      "Epoch 5/10\n",
      "50/50 [==============================] - 65s 1s/step - loss: 0.6229 - accuracy: 0.6514 - val_loss: 0.6518 - val_accuracy: 0.6434\n",
      "Epoch 6/10\n",
      "50/50 [==============================] - 62s 1s/step - loss: 0.6328 - accuracy: 0.6396 - val_loss: 0.7347 - val_accuracy: 0.5727\n",
      "Epoch 7/10\n",
      "50/50 [==============================] - 63s 1s/step - loss: 0.6211 - accuracy: 0.6502 - val_loss: 0.6783 - val_accuracy: 0.6063\n",
      "Epoch 8/10\n",
      "50/50 [==============================] - 61s 1s/step - loss: 0.6103 - accuracy: 0.6653 - val_loss: 0.6975 - val_accuracy: 0.6312\n",
      "Epoch 9/10\n",
      "50/50 [==============================] - 61s 1s/step - loss: 0.6103 - accuracy: 0.6580 - val_loss: 0.7074 - val_accuracy: 0.6195\n",
      "Epoch 10/10\n",
      "50/50 [==============================] - 64s 1s/step - loss: 0.6454 - accuracy: 0.6329 - val_loss: 0.7105 - val_accuracy: 0.5771\n",
      "Epoch 1/5\n",
      "150/150 [==============================] - 61s 403ms/step - loss: 0.6532 - accuracy: 0.6240 - val_loss: 0.6816 - val_accuracy: 0.6405\n",
      "Epoch 2/5\n",
      "150/150 [==============================] - 60s 396ms/step - loss: 0.6294 - accuracy: 0.6364 - val_loss: 0.6710 - val_accuracy: 0.6507\n",
      "Epoch 3/5\n",
      "150/150 [==============================] - 61s 408ms/step - loss: 0.6174 - accuracy: 0.6529 - val_loss: 0.7047 - val_accuracy: 0.6351\n",
      "Epoch 4/5\n",
      "150/150 [==============================] - 62s 410ms/step - loss: 0.6359 - accuracy: 0.6419 - val_loss: 0.7101 - val_accuracy: 0.5980\n",
      "Epoch 5/5\n",
      "150/150 [==============================] - 64s 425ms/step - loss: 0.6118 - accuracy: 0.6581 - val_loss: 0.8205 - val_accuracy: 0.5698\n"
     ]
    },
    {
     "data": {
      "text/plain": [
       "<keras.callbacks.History at 0x7feddf91ac50>"
      ]
     },
     "execution_count": 21,
     "metadata": {},
     "output_type": "execute_result"
    }
   ],
   "source": [
    "# Use categorical crossentropy for categorical data and mean squared error for regression\n",
    "model2.compile(optimizer='adam',\n",
    "             loss='categorical_crossentropy',\n",
    "             metrics=['accuracy'])\n",
    "\n",
    "# Fit (train) the model\n",
    "model2.fit(X_train, y_train,\n",
    "    validation_data=(X_test, y_test),\n",
    "    steps_per_epoch=50, epochs=10,\n",
    "    shuffle=True, verbose=1)\n",
    "\n",
    "model2.fit(X_train, y_train,\n",
    "    validation_data=(X_test, y_test),\n",
    "    steps_per_epoch=150, epochs=5,\n",
    "    shuffle=True, verbose=1)"
   ]
  },
  {
   "cell_type": "code",
   "execution_count": 22,
   "metadata": {},
   "outputs": [],
   "source": [
    "# Save the model\n",
    "model2.save('models/opt_b_trained.h5')"
   ]
  },
  {
   "cell_type": "markdown",
   "metadata": {},
   "source": [
    "## Opt Model C"
   ]
  },
  {
   "cell_type": "code",
   "execution_count": 14,
   "metadata": {},
   "outputs": [
    {
     "name": "stdout",
     "output_type": "stream",
     "text": [
      "Model: \"sequential_2\"\n",
      "_________________________________________________________________\n",
      " Layer (type)                Output Shape              Param #   \n",
      "=================================================================\n",
      " dense_7 (Dense)             (None, 48, 48, 48)        96        \n",
      "                                                                 \n",
      " conv2d_3 (Conv2D)           (None, 45, 45, 12)        9228      \n",
      "                                                                 \n",
      " max_pooling2d_5 (MaxPooling  (None, 15, 15, 12)       0         \n",
      " 2D)                                                             \n",
      "                                                                 \n",
      " dense_8 (Dense)             (None, 15, 15, 24)        312       \n",
      "                                                                 \n",
      " conv2d_4 (Conv2D)           (None, 12, 12, 24)        9240      \n",
      "                                                                 \n",
      " max_pooling2d_6 (MaxPooling  (None, 6, 6, 24)         0         \n",
      " 2D)                                                             \n",
      "                                                                 \n",
      " dense_9 (Dense)             (None, 6, 6, 12)          300       \n",
      "                                                                 \n",
      " conv2d_5 (Conv2D)           (None, 3, 3, 48)          9264      \n",
      "                                                                 \n",
      " max_pooling2d_7 (MaxPooling  (None, 1, 1, 48)         0         \n",
      " 2D)                                                             \n",
      "                                                                 \n",
      " flatten_2 (Flatten)         (None, 48)                0         \n",
      "                                                                 \n",
      " dense_10 (Dense)            (None, 2)                 98        \n",
      "                                                                 \n",
      "=================================================================\n",
      "Total params: 28,538\n",
      "Trainable params: 28,538\n",
      "Non-trainable params: 0\n",
      "_________________________________________________________________\n"
     ]
    }
   ],
   "source": [
    "# Create an empty sequential model\n",
    "model3 = Sequential()\n",
    "\n",
    "# Add the first layer where the input shape is the 48, 48, 1 pixel values\n",
    "# We can also choose our activation function. `relu` is a common\n",
    "model3.add(Dense(48, input_shape=(48,48,1), activation=\"relu\"))\n",
    "model3.add(Conv2D(filters=12, kernel_size=4, strides=1, activation='relu', input_shape=(48,48,1)))\n",
    "model3.add(MaxPool2D(pool_size=(3,3)))\n",
    "\n",
    "# Add a second hidden layer\n",
    "model3.add(Dense(24, activation=\"relu\"))\n",
    "model3.add(Conv2D(filters=24, kernel_size=4, strides=1, activation='relu', input_shape=(48,48,1)))\n",
    "model3.add(MaxPool2D(pool_size=(2,2)))\n",
    "\n",
    "# Add a third hidden layer\n",
    "model3.add(Dense(12, activation=\"relu\"))\n",
    "model3.add(Conv2D(filters=48, kernel_size=4, strides=1, activation='relu', input_shape=(48,48,1)))\n",
    "model3.add(MaxPool2D(pool_size=(2,2)))\n",
    "\n",
    "# STEP--3 FLattening\n",
    "model3.add(Flatten())\n",
    "\n",
    "# Add our final output layer where the number of nodes \n",
    "# corresponds to the number of y labels\n",
    "model3.add(Dense(face_classes, activation=\"softmax\"))\n",
    "\n",
    "# We can summarize our model\n",
    "model3.summary()"
   ]
  },
  {
   "cell_type": "code",
   "execution_count": 26,
   "metadata": {},
   "outputs": [
    {
     "name": "stdout",
     "output_type": "stream",
     "text": [
      "Epoch 1/10\n",
      "50/50 [==============================] - 61s 1s/step - loss: 0.4657 - accuracy: 0.7786 - val_loss: 0.4820 - val_accuracy: 0.7566\n",
      "Epoch 2/10\n",
      "50/50 [==============================] - 86s 2s/step - loss: 0.4351 - accuracy: 0.7971 - val_loss: 0.4946 - val_accuracy: 0.7683\n",
      "Epoch 3/10\n",
      "50/50 [==============================] - 101s 2s/step - loss: 0.4205 - accuracy: 0.8033 - val_loss: 0.4977 - val_accuracy: 0.7717\n",
      "Epoch 4/10\n",
      "50/50 [==============================] - 69s 1s/step - loss: 0.4141 - accuracy: 0.8081 - val_loss: 0.4719 - val_accuracy: 0.7698\n",
      "Epoch 5/10\n",
      "50/50 [==============================] - 55s 1s/step - loss: 0.4007 - accuracy: 0.8153 - val_loss: 0.4820 - val_accuracy: 0.7659\n",
      "Epoch 6/10\n",
      "50/50 [==============================] - 55s 1s/step - loss: 0.3874 - accuracy: 0.8253 - val_loss: 0.4734 - val_accuracy: 0.7780\n",
      "Epoch 7/10\n",
      "50/50 [==============================] - 55s 1s/step - loss: 0.3697 - accuracy: 0.8297 - val_loss: 0.5111 - val_accuracy: 0.7522\n",
      "Epoch 8/10\n",
      "50/50 [==============================] - 54s 1s/step - loss: 0.3696 - accuracy: 0.8330 - val_loss: 0.5164 - val_accuracy: 0.7751\n",
      "Epoch 9/10\n",
      "50/50 [==============================] - 54s 1s/step - loss: 0.3546 - accuracy: 0.8371 - val_loss: 0.4744 - val_accuracy: 0.7834\n",
      "Epoch 10/10\n",
      "50/50 [==============================] - 54s 1s/step - loss: 0.3553 - accuracy: 0.8414 - val_loss: 0.5090 - val_accuracy: 0.7751\n",
      "Epoch 1/8\n",
      "60/60 [==============================] - 54s 908ms/step - loss: 0.3509 - accuracy: 0.8427 - val_loss: 0.5090 - val_accuracy: 0.7654\n",
      "Epoch 2/8\n",
      "60/60 [==============================] - 1108s 19s/step - loss: 0.3620 - accuracy: 0.8380 - val_loss: 0.4879 - val_accuracy: 0.7800\n",
      "Epoch 3/8\n",
      "60/60 [==============================] - 874s 15s/step - loss: 0.3322 - accuracy: 0.8500 - val_loss: 0.4990 - val_accuracy: 0.7756\n",
      "Epoch 4/8\n",
      "60/60 [==============================] - 999s 17s/step - loss: 0.3090 - accuracy: 0.8620 - val_loss: 0.5300 - val_accuracy: 0.7712\n",
      "Epoch 5/8\n",
      "60/60 [==============================] - 741s 13s/step - loss: 0.3057 - accuracy: 0.8631 - val_loss: 0.5238 - val_accuracy: 0.7761\n",
      "Epoch 6/8\n",
      "60/60 [==============================] - 949s 16s/step - loss: 0.2831 - accuracy: 0.8748 - val_loss: 0.5128 - val_accuracy: 0.7844\n",
      "Epoch 7/8\n",
      "60/60 [==============================] - 535s 9s/step - loss: 0.2918 - accuracy: 0.8761 - val_loss: 0.5359 - val_accuracy: 0.7737\n",
      "Epoch 8/8\n",
      "60/60 [==============================] - 886s 15s/step - loss: 0.2986 - accuracy: 0.8667 - val_loss: 0.5365 - val_accuracy: 0.7673\n"
     ]
    },
    {
     "data": {
      "text/plain": [
       "<keras.callbacks.History at 0x7fed6eacf6d0>"
      ]
     },
     "execution_count": 26,
     "metadata": {},
     "output_type": "execute_result"
    }
   ],
   "source": [
    "# Use categorical crossentropy for categorical data and mean squared error for regression\n",
    "model3.compile(optimizer='adam',\n",
    "             loss='categorical_crossentropy',\n",
    "             metrics=['accuracy'])\n",
    "\n",
    "# Fit (train) the model\n",
    "model3.fit(X_train, y_train,\n",
    "           validation_data=(X_test, y_test),\n",
    "           steps_per_epoch=50, epochs=10, shuffle=True)\n",
    "\n",
    "model3.fit(X_train, y_train,\n",
    "           validation_data=(X_test, y_test),\n",
    "           steps_per_epoch=60, epochs=8, shuffle=True)"
   ]
  },
  {
   "cell_type": "code",
   "execution_count": 24,
   "metadata": {},
   "outputs": [],
   "source": [
    "# Save the model\n",
    "model3.save('models/opt_c_trained.h5')"
   ]
  },
  {
   "cell_type": "markdown",
   "metadata": {},
   "source": [
    "## Evaluating the Models\n",
    "\n",
    "We use our testing data to validate our model. This is how we determine the validity of our model (i.e. the ability to predict new and previously unseen data points)"
   ]
  },
  {
   "cell_type": "code",
   "execution_count": 15,
   "metadata": {},
   "outputs": [],
   "source": [
    "# Load our pre-trained and saved models\n",
    "model_a = keras.models.load_model('models/opt_a_trained.h5')\n",
    "model_b = keras.models.load_model('models/opt_b_trained.h5')\n",
    "model_c = keras.models.load_model('models/opt_c_trained.h5')"
   ]
  },
  {
   "cell_type": "code",
   "execution_count": 16,
   "metadata": {},
   "outputs": [
    {
     "name": "stdout",
     "output_type": "stream",
     "text": [
      "\u001b[1mModel A\u001b[0m\n",
      "65/65 - 1s - loss: 0.3678 - accuracy: 0.9663 - 1s/epoch - 16ms/step\n",
      "Loss: 0.36775296926498413, Accuracy: 0.9663414359092712\n",
      "\n",
      "\u001b[1mModel B\u001b[0m\n",
      "65/65 - 5s - loss: 0.7431 - accuracy: 0.5795 - 5s/epoch - 75ms/step\n",
      "Loss: 0.7430656552314758, Accuracy: 0.5795121788978577\n",
      "\n",
      "\u001b[1mModel C\u001b[0m\n",
      "65/65 - 3s - loss: 0.4618 - accuracy: 0.7815 - 3s/epoch - 51ms/step\n",
      "Loss: 0.4618147313594818, Accuracy: 0.7814634442329407\n"
     ]
    }
   ],
   "source": [
    "# Evaluate the modules using the training data \n",
    "print(f\"\\033[1mModel A\\033[0m\")\n",
    "model_loss, model_accuracy = model_a.evaluate(X_test, y_test,verbose=2)\n",
    "print(f\"Loss: {model_loss}, Accuracy: {model_accuracy}\\n\")\n",
    "\n",
    "print(f\"\\033[1mModel B\\033[0m\")\n",
    "model2_loss, model2_accuracy = model_b.evaluate(X_test, y_test,verbose=2)\n",
    "print(f\"Loss: {model2_loss}, Accuracy: {model2_accuracy}\\n\")\n",
    "\n",
    "print(f\"\\033[1mModel C\\033[0m\")\n",
    "model3_loss, model3_accuracy = model_c.evaluate(X_test, y_test,verbose=2)\n",
    "print(f\"Loss: {model3_loss}, Accuracy: {model3_accuracy}\")"
   ]
  },
  {
   "cell_type": "markdown",
   "metadata": {},
   "source": [
    "## Making Predictions\n",
    "\n",
    "We can use our trained models to make predictions using `model.predict`"
   ]
  },
  {
   "cell_type": "code",
   "execution_count": 17,
   "metadata": {},
   "outputs": [],
   "source": [
    "# Define a function for each model predicting and labelling \"Happy\" or \"Sad\" \n",
    "def happy_or_sad_a(x):\n",
    "    predictions_a = model_a.predict(x)\n",
    "    score_a = np.argmax(predictions_a)\n",
    "    if score_a == 1:\n",
    "        return f\"Prediction: {predictions_a} \\nImage Emotion is: Sad\\n\"\n",
    "    return f\"Prediction: {predictions_a} \\nImage Emotion is: Happy\\n\"\n",
    "\n",
    "def happy_or_sad_b(x):\n",
    "    predictions_b = model_b.predict(x)\n",
    "    score_b = np.argmax(predictions_b)    \n",
    "    if score_b == 1:\n",
    "        return f\"Prediction: {predictions_b} \\nImage Emotion is: Sad\\n\"\n",
    "    return f\"Prediction: {predictions_b} \\nImage Emotion is: Happy\\n\"\n",
    "\n",
    "def happy_or_sad_c(x):\n",
    "    predictions_c = model_c.predict(x)\n",
    "    score_c = np.argmax(predictions_c)\n",
    "    if score_c == 1:\n",
    "        return f\"Prediction: {predictions_c} \\nImage Emotion is: Sad\\n\"\n",
    "    return f\"Prediction: {predictions_c} \\nImage Emotion is: Happy\\n\""
   ]
  },
  {
   "cell_type": "code",
   "execution_count": 18,
   "metadata": {},
   "outputs": [
    {
     "data": {
      "text/plain": [
       "(1, 48, 48, 1)"
      ]
     },
     "execution_count": 18,
     "metadata": {},
     "output_type": "execute_result"
    }
   ],
   "source": [
    "# Grab just one data point to test with\n",
    "test = np.expand_dims(X_train[33], axis=0)\n",
    "test.shape"
   ]
  },
  {
   "cell_type": "code",
   "execution_count": 19,
   "metadata": {},
   "outputs": [
    {
     "name": "stdout",
     "output_type": "stream",
     "text": [
      "\u001b[1mModel A\u001b[0m\n",
      "1/1 [==============================] - 0s 166ms/step\n",
      "Prediction: [[1.0000000e+00 6.1017537e-12]] \n",
      "Image Emotion is: Happy\n",
      "\n",
      "\u001b[1mModel B\u001b[0m\n",
      "1/1 [==============================] - 0s 140ms/step\n",
      "Prediction: [[0.7636767  0.23632337]] \n",
      "Image Emotion is: Happy\n",
      "\n",
      "\u001b[1mModel C\u001b[0m\n",
      "1/1 [==============================] - 0s 155ms/step\n",
      "Prediction: [[0.8462389  0.15376113]] \n",
      "Image Emotion is: Happy\n",
      "\n"
     ]
    },
    {
     "data": {
      "text/plain": [
       "<matplotlib.image.AxesImage at 0x7fa8768ff110>"
      ]
     },
     "execution_count": 19,
     "metadata": {},
     "output_type": "execute_result"
    },
    {
     "data": {
      "image/png": "[encoded data removed]",
      "text/plain": [
       "<Figure size 640x480 with 1 Axes>"
      ]
     },
     "metadata": {},
     "output_type": "display_data"
    }
   ],
   "source": [
    "# Call our happy_or_sad functions to make a prediction on our test data point\n",
    "print(f\"\\033[1mModel A\\033[0m\")\n",
    "print(happy_or_sad_a(test))\n",
    "\n",
    "print(f\"\\033[1mModel B\\033[0m\")\n",
    "print(happy_or_sad_b(test))\n",
    "\n",
    "print(f\"\\033[1mModel C\\033[0m\")\n",
    "print(happy_or_sad_c(test))\n",
    "\n",
    "test_img = test.reshape(48, 48)\n",
    "plt.imshow(test_img)"
   ]
  },
  {
   "cell_type": "markdown",
   "metadata": {},
   "source": [
    "### Using Images outside our Dataset\n",
    "\n",
    "Building an image scaler to pre-process and predict an image from the internet"
   ]
  },
  {
   "cell_type": "code",
   "execution_count": 20,
   "metadata": {},
   "outputs": [],
   "source": [
    "# Import necessary libraries to capture image url and process\n",
    "import urllib3 as urllib\n",
    "import requests\n",
    "import io\n",
    "import PIL\n",
    "import cv2\n",
    "\n",
    "# Define function to capture, scale and process image\n",
    "def image_scaler(x):\n",
    "    '''x = image url'''\n",
    "    # Request, read and open the image file and check it's dimensions\n",
    "    response = requests.get(x)\n",
    "    image_bytes = io.BytesIO(response.content)\n",
    "    img = PIL.Image.open(image_bytes)\n",
    "    img.show()\n",
    "    print(f\"Original Dimensions: {img.size}\")\n",
    "    # Resize the original file to our desired 48x48, confirm and save\n",
    "    img_resized = img.resize((48, 48))\n",
    "    img_resized.save('resources/internet_image_test.png')\n",
    "    print(f\"Resized Dimensions: {img_resized.size}\") \n",
    "    \n",
    "    # Read the saved resized image, convert to 1d grayscale and call our predict function\n",
    "    test_img = cv2.imread('resources/internet_image_test.png')\n",
    "    test_img = cv2.cvtColor(test_img, cv2.COLOR_BGR2GRAY)\n",
    "    test = test_img.reshape(-1, 48, 48, 1)     \n",
    "    return print (f\"\\n\\033[1mModel A\\033[0m \\n{happy_or_sad_a(test)} \\n\\n\\033[1mModel B\\033[0m \\n{happy_or_sad_b(test)} \\n\\n\\033[1mModel C\\033[0m \\n{happy_or_sad_c(test)} \\n{plt.imshow(test_img)}\")"
   ]
  },
  {
   "cell_type": "code",
   "execution_count": 21,
   "metadata": {
    "scrolled": true
   },
   "outputs": [
    {
     "name": "stdout",
     "output_type": "stream",
     "text": [
      "Original Dimensions: (762, 800)\n",
      "Resized Dimensions: (48, 48)\n",
      "1/1 [==============================] - 0s 123ms/step\n",
      "WARNING:tensorflow:5 out of the last 5 calls to <function Model.make_predict_function.<locals>.predict_function at 0x7fa86d5b84d0> triggered tf.function retracing. Tracing is expensive and the excessive number of tracings could be due to (1) creating @tf.function repeatedly in a loop, (2) passing tensors with different shapes, (3) passing Python objects instead of tensors. For (1), please define your @tf.function outside of the loop. For (2), @tf.function has reduce_retracing=True option that can avoid unnecessary retracing. For (3), please refer to https://www.tensorflow.org/guide/function#controlling_retracing and https://www.tensorflow.org/api_docs/python/tf/function for  more details.\n",
      "1/1 [==============================] - 0s 290ms/step\n",
      "WARNING:tensorflow:6 out of the last 6 calls to <function Model.make_predict_function.<locals>.predict_function at 0x7fa876913a70> triggered tf.function retracing. Tracing is expensive and the excessive number of tracings could be due to (1) creating @tf.function repeatedly in a loop, (2) passing tensors with different shapes, (3) passing Python objects instead of tensors. For (1), please define your @tf.function outside of the loop. For (2), @tf.function has reduce_retracing=True option that can avoid unnecessary retracing. For (3), please refer to https://www.tensorflow.org/guide/function#controlling_retracing and https://www.tensorflow.org/api_docs/python/tf/function for  more details.\n",
      "1/1 [==============================] - 0s 161ms/step\n",
      "\n",
      "\u001b[1mModel A\u001b[0m \n",
      "Prediction: [[4.6123390e-05 9.9995387e-01]] \n",
      "Image Emotion is: Sad\n",
      " \n",
      "\n",
      "\u001b[1mModel B\u001b[0m \n",
      "Prediction: [[0.4580327 0.5419672]] \n",
      "Image Emotion is: Sad\n",
      " \n",
      "\n",
      "\u001b[1mModel C\u001b[0m \n",
      "Prediction: [[0.8159519 0.1840481]] \n",
      "Image Emotion is: Happy\n",
      " \n",
      "AxesImage(80,52.8;496x369.6)\n"
     ]
    },
    {
     "data": {
      "image/png": "[encoded data removed]",
      "text/plain": [
       "<Figure size 640x480 with 1 Axes>"
      ]
     },
     "metadata": {},
     "output_type": "display_data"
    }
   ],
   "source": [
    "# Mona Lisa\n",
    "image_scaler('https://www.exploringart.co/wp-content/uploads/2021/09/Mona-Lisa_7.jpg')\n",
    "\n",
    "# Jay-Z\n",
    "# image_scaler('https://i.pinimg.com/236x/ea/93/75/ea937532b39fec78a967b6dd821246a0--faces-to-draw-martin-schoeller.jpg')\n",
    "\n",
    "# Einstein\n",
    "# image_scaler('https://ichef.bbci.co.uk/news/304/mcs/media/images/69247000/jpg/_69247083_einsteingettyafp.jpg')\n",
    "\n",
    "# George\n",
    "# image_scaler('https://i.pinimg.com/236x/f9/2f/c0/f92fc0258468f73154fe5c7caaa8683f--george-clooney-amal-clooney.jpg')\n",
    "\n",
    "# Sad Child\n",
    "# image_scaler('https://encrypted-tbn0.gstatic.com/images?q=tbn:ANd9GcTyjtMSkAPiTmOkINsRErisZ6CQhvwfy2hXeQ&usqp=CAU')"
   ]
  }
 ],
 "metadata": {
  "kernelspec": {
   "display_name": "Python 3 (ipykernel)",
   "language": "python",
   "name": "python3"
  },
  "language_info": {
   "codemirror_mode": {
    "name": "ipython",
    "version": 3
   },
   "file_extension": ".py",
   "mimetype": "text/x-python",
   "name": "python",
   "nbconvert_exporter": "python",
   "pygments_lexer": "ipython3",
   "version": "3.7.13"
  }
 },
 "nbformat": 4,
 "nbformat_minor": 4
}
