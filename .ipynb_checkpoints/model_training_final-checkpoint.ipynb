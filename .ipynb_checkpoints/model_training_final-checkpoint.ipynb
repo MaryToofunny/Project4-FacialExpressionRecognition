{
 "cells": [
  {
   "cell_type": "markdown",
   "metadata": {},
   "source": [
    "# Model Training"
   ]
  },
  {
   "cell_type": "code",
   "execution_count": 1,
   "metadata": {
    "scrolled": true
   },
   "outputs": [],
   "source": [
    "# Import our dependencies\n",
    "%matplotlib inline\n",
    "from sklearn.model_selection import train_test_split\n",
    "from sklearn.preprocessing import StandardScaler, MinMaxScaler, OneHotEncoder\n",
    "import pandas as pd\n",
    "import matplotlib.pyplot as plt\n",
    "import numpy as np"
   ]
  },
  {
   "cell_type": "markdown",
   "metadata": {},
   "source": [
    "## Keras Specific Dependencies"
   ]
  },
  {
   "cell_type": "code",
   "execution_count": 2,
   "metadata": {},
   "outputs": [],
   "source": [
    "from tensorflow import keras\n",
    "from keras.utils import to_categorical\n",
    "from keras.models import Sequential\n",
    "from keras.layers import Dense, Convolution2D, MaxPool2D, Flatten"
   ]
  },
  {
   "cell_type": "markdown",
   "metadata": {},
   "source": [
    "## Loading, Checking, and Splitting our Prepocessed Data"
   ]
  },
  {
   "cell_type": "code",
   "execution_count": 3,
   "metadata": {},
   "outputs": [
    {
     "data": {
      "text/html": [
       "<div>\n",
       "<style scoped>\n",
       "    .dataframe tbody tr th:only-of-type {\n",
       "        vertical-align: middle;\n",
       "    }\n",
       "\n",
       "    .dataframe tbody tr th {\n",
       "        vertical-align: top;\n",
       "    }\n",
       "\n",
       "    .dataframe thead th {\n",
       "        text-align: right;\n",
       "    }\n",
       "</style>\n",
       "<table border=\"1\" class=\"dataframe\">\n",
       "  <thead>\n",
       "    <tr style=\"text-align: right;\">\n",
       "      <th></th>\n",
       "      <th>0</th>\n",
       "      <th>1</th>\n",
       "      <th>2</th>\n",
       "      <th>3</th>\n",
       "      <th>4</th>\n",
       "      <th>5</th>\n",
       "      <th>6</th>\n",
       "      <th>7</th>\n",
       "      <th>8</th>\n",
       "      <th>9</th>\n",
       "      <th>...</th>\n",
       "      <th>2296</th>\n",
       "      <th>2297</th>\n",
       "      <th>2298</th>\n",
       "      <th>2299</th>\n",
       "      <th>2300</th>\n",
       "      <th>2301</th>\n",
       "      <th>2302</th>\n",
       "      <th>2303</th>\n",
       "      <th>Labels</th>\n",
       "      <th>Emotions</th>\n",
       "    </tr>\n",
       "  </thead>\n",
       "  <tbody>\n",
       "    <tr>\n",
       "      <th>0</th>\n",
       "      <td>59</td>\n",
       "      <td>71</td>\n",
       "      <td>89</td>\n",
       "      <td>118</td>\n",
       "      <td>139</td>\n",
       "      <td>160</td>\n",
       "      <td>183</td>\n",
       "      <td>222</td>\n",
       "      <td>212</td>\n",
       "      <td>148</td>\n",
       "      <td>...</td>\n",
       "      <td>0</td>\n",
       "      <td>0</td>\n",
       "      <td>0</td>\n",
       "      <td>0</td>\n",
       "      <td>0</td>\n",
       "      <td>0</td>\n",
       "      <td>1</td>\n",
       "      <td>0</td>\n",
       "      <td>1</td>\n",
       "      <td>Sad</td>\n",
       "    </tr>\n",
       "    <tr>\n",
       "      <th>1</th>\n",
       "      <td>90</td>\n",
       "      <td>97</td>\n",
       "      <td>105</td>\n",
       "      <td>42</td>\n",
       "      <td>41</td>\n",
       "      <td>41</td>\n",
       "      <td>37</td>\n",
       "      <td>40</td>\n",
       "      <td>36</td>\n",
       "      <td>55</td>\n",
       "      <td>...</td>\n",
       "      <td>42</td>\n",
       "      <td>48</td>\n",
       "      <td>83</td>\n",
       "      <td>107</td>\n",
       "      <td>105</td>\n",
       "      <td>77</td>\n",
       "      <td>51</td>\n",
       "      <td>32</td>\n",
       "      <td>1</td>\n",
       "      <td>Sad</td>\n",
       "    </tr>\n",
       "    <tr>\n",
       "      <th>2</th>\n",
       "      <td>219</td>\n",
       "      <td>221</td>\n",
       "      <td>222</td>\n",
       "      <td>224</td>\n",
       "      <td>225</td>\n",
       "      <td>226</td>\n",
       "      <td>227</td>\n",
       "      <td>229</td>\n",
       "      <td>230</td>\n",
       "      <td>231</td>\n",
       "      <td>...</td>\n",
       "      <td>17</td>\n",
       "      <td>8</td>\n",
       "      <td>3</td>\n",
       "      <td>31</td>\n",
       "      <td>46</td>\n",
       "      <td>38</td>\n",
       "      <td>59</td>\n",
       "      <td>74</td>\n",
       "      <td>1</td>\n",
       "      <td>Sad</td>\n",
       "    </tr>\n",
       "    <tr>\n",
       "      <th>3</th>\n",
       "      <td>51</td>\n",
       "      <td>51</td>\n",
       "      <td>53</td>\n",
       "      <td>50</td>\n",
       "      <td>47</td>\n",
       "      <td>44</td>\n",
       "      <td>41</td>\n",
       "      <td>40</td>\n",
       "      <td>37</td>\n",
       "      <td>37</td>\n",
       "      <td>...</td>\n",
       "      <td>26</td>\n",
       "      <td>59</td>\n",
       "      <td>65</td>\n",
       "      <td>66</td>\n",
       "      <td>64</td>\n",
       "      <td>62</td>\n",
       "      <td>60</td>\n",
       "      <td>56</td>\n",
       "      <td>0</td>\n",
       "      <td>Happy</td>\n",
       "    </tr>\n",
       "    <tr>\n",
       "      <th>4</th>\n",
       "      <td>91</td>\n",
       "      <td>118</td>\n",
       "      <td>124</td>\n",
       "      <td>101</td>\n",
       "      <td>97</td>\n",
       "      <td>130</td>\n",
       "      <td>149</td>\n",
       "      <td>147</td>\n",
       "      <td>144</td>\n",
       "      <td>137</td>\n",
       "      <td>...</td>\n",
       "      <td>202</td>\n",
       "      <td>210</td>\n",
       "      <td>202</td>\n",
       "      <td>120</td>\n",
       "      <td>106</td>\n",
       "      <td>106</td>\n",
       "      <td>101</td>\n",
       "      <td>94</td>\n",
       "      <td>0</td>\n",
       "      <td>Happy</td>\n",
       "    </tr>\n",
       "  </tbody>\n",
       "</table>\n",
       "<p>5 rows × 2306 columns</p>\n",
       "</div>"
      ],
      "text/plain": [
       "     0    1    2    3    4    5    6    7    8    9  ...  2296  2297  2298  \\\n",
       "0   59   71   89  118  139  160  183  222  212  148  ...     0     0     0   \n",
       "1   90   97  105   42   41   41   37   40   36   55  ...    42    48    83   \n",
       "2  219  221  222  224  225  226  227  229  230  231  ...    17     8     3   \n",
       "3   51   51   53   50   47   44   41   40   37   37  ...    26    59    65   \n",
       "4   91  118  124  101   97  130  149  147  144  137  ...   202   210   202   \n",
       "\n",
       "   2299  2300  2301  2302  2303  Labels  Emotions  \n",
       "0     0     0     0     1     0       1       Sad  \n",
       "1   107   105    77    51    32       1       Sad  \n",
       "2    31    46    38    59    74       1       Sad  \n",
       "3    66    64    62    60    56       0     Happy  \n",
       "4   120   106   106   101    94       0     Happy  \n",
       "\n",
       "[5 rows x 2306 columns]"
      ]
     },
     "execution_count": 3,
     "metadata": {},
     "output_type": "execute_result"
    }
   ],
   "source": [
    "# Load the cleaned and reduced dataframe\n",
    "data = pd.read_csv(\"resources/data_reduced.csv\", header=0, delimiter=\",\")\n",
    "data.head()"
   ]
  },
  {
   "cell_type": "code",
   "execution_count": 4,
   "metadata": {},
   "outputs": [
    {
     "name": "stdout",
     "output_type": "stream",
     "text": [
      "Image Data Shape: (10252, 2304)\n",
      "Image Labels Shape: (10252,)\n"
     ]
    },
    {
     "name": "stderr",
     "output_type": "stream",
     "text": [
      "C:\\Users\\Mary\\AppData\\Local\\Temp\\ipykernel_4676\\1332462249.py:2: FutureWarning: In a future version of pandas all arguments of DataFrame.drop except for the argument 'labels' will be keyword-only.\n",
      "  X = data.drop(['Labels', 'Emotions'],1).values\n"
     ]
    }
   ],
   "source": [
    "# Split our preprocessed data into our features and target arrays\n",
    "X = data.drop(['Labels', 'Emotions'],1).values\n",
    "y = data['Labels'].values\n",
    "\n",
    "# Verify the shape of our features (X) dataset and labels (y) datasets, ensuring the images are flattened (48 x 48 = 2304)\n",
    "print(\"Image Data Shape:\", X.shape)\n",
    "print(\"Image Labels Shape:\", y.shape)"
   ]
  },
  {
   "cell_type": "code",
   "execution_count": 5,
   "metadata": {},
   "outputs": [
    {
     "data": {
      "image/png": "[encoded data removed]",
      "text/plain": [
       "<Figure size 640x480 with 1 Axes>"
      ]
     },
     "metadata": {},
     "output_type": "display_data"
    }
   ],
   "source": [
    "# Image Check: Create a copy of our data_cleaned dataframe with just the image features and convert a row to an array and resize to a 3 dimensional image in order to display via plt.show function\n",
    "image_data_df = data.copy()\n",
    "image_data_df.drop(image_data_df.columns[[2304, 2305]], axis=1, inplace=True)\n",
    "arr = image_data_df.iloc[4].to_numpy()\n",
    "arr = np.resize(arr, (48, 48))\n",
    "plt.imshow(arr)\n",
    "plt.show()"
   ]
  },
  {
   "cell_type": "code",
   "execution_count": 6,
   "metadata": {
    "scrolled": true
   },
   "outputs": [
    {
     "name": "stdout",
     "output_type": "stream",
     "text": [
      "Training Data Info\n",
      "Training Data Shape: (7689, 2304)\n",
      "Training Data Shape: (7689,)\n",
      "Test Data Info\n",
      "Training Data Shape: (2563, 2304)\n",
      "Training Data Shape: (2563,)\n"
     ]
    }
   ],
   "source": [
    "# Split the preprocessed data into a training and testing dataset\n",
    "X_train, X_test, y_train, y_test = train_test_split(X, \n",
    "                                                    y,\n",
    "                                                    random_state=1,\n",
    "                                                    stratify=y)\n",
    "\n",
    "# Check the shape of our split data\n",
    "print(\"Training Data Info\")\n",
    "print(\"Training Data Shape:\", X_train.shape)\n",
    "print(\"Training Data Shape:\", y_train.shape)\n",
    "\n",
    "print(\"Test Data Info\")\n",
    "print(\"Training Data Shape:\", X_test.shape)\n",
    "print(\"Training Data Shape:\", y_test.shape)"
   ]
  },
  {
   "cell_type": "markdown",
   "metadata": {},
   "source": [
    "### Scaling and Normalization \n",
    "**We use Sklearn's MinMaxScaler to normalize our data between 0 and 1**"
   ]
  },
  {
   "cell_type": "code",
   "execution_count": 7,
   "metadata": {},
   "outputs": [],
   "source": [
    "# Normalize the training data to be between 0 and 1\n",
    "scaler = MinMaxScaler().fit(X_train)\n",
    "\n",
    "X_train = scaler.transform(X_train)\n",
    "X_test = scaler.transform(X_test)"
   ]
  },
  {
   "cell_type": "markdown",
   "metadata": {},
   "source": [
    "### One-Hot Encoding\n",
    "\n",
    "**We need to one-hot encode our integer labels using the `to_categorical` helper function**"
   ]
  },
  {
   "cell_type": "code",
   "execution_count": 8,
   "metadata": {},
   "outputs": [
    {
     "data": {
      "text/plain": [
       "array([0, 0, 0, 0, 1, 1, 0, 0, 0, 0, 1, 1, 0, 0, 0, 1, 1, 1, 0, 1],\n",
       "      dtype=int64)"
      ]
     },
     "execution_count": 8,
     "metadata": {},
     "output_type": "execute_result"
    }
   ],
   "source": [
    "# Our Training and Testing labels are integer encoded from 0 to 1. Look at the first 20 training labels.\n",
    "y_train[:20]"
   ]
  },
  {
   "cell_type": "code",
   "execution_count": 9,
   "metadata": {},
   "outputs": [
    {
     "data": {
      "text/plain": [
       "array([1., 0.], dtype=float32)"
      ]
     },
     "execution_count": 9,
     "metadata": {},
     "output_type": "execute_result"
    }
   ],
   "source": [
    "# We need to convert our target labels (expected values) to categorical data\n",
    "face_classes = 2\n",
    "y_train = to_categorical(y_train, face_classes)\n",
    "y_test = to_categorical(y_test, face_classes)\n",
    "# Our first row label [0] of `0` is one-hot encoded as `1,0`\n",
    "y_train[0]"
   ]
  },
  {
   "cell_type": "markdown",
   "metadata": {},
   "source": [
    "## Building our Model\n",
    "\n",
    "**In this example, we are going to build a Deep Multi-Layer Perceptron model with 2 hidden layers.**"
   ]
  },
  {
   "cell_type": "code",
   "execution_count": 10,
   "metadata": {},
   "outputs": [],
   "source": [
    "# Create an empty sequential model\n",
    "model = Sequential()"
   ]
  },
  {
   "cell_type": "code",
   "execution_count": 11,
   "metadata": {},
   "outputs": [
    {
     "name": "stdout",
     "output_type": "stream",
     "text": [
      "Model: \"sequential\"\n",
      "_________________________________________________________________\n",
      " Layer (type)                Output Shape              Param #   \n",
      "=================================================================\n",
      " dense (Dense)               (None, 100)               230500    \n",
      "                                                                 \n",
      " dense_1 (Dense)             (None, 100)               10100     \n",
      "                                                                 \n",
      " dense_2 (Dense)             (None, 100)               10100     \n",
      "                                                                 \n",
      " dense_3 (Dense)             (None, 2)                 202       \n",
      "                                                                 \n",
      "=================================================================\n",
      "Total params: 250,902\n",
      "Trainable params: 250,902\n",
      "Non-trainable params: 0\n",
      "_________________________________________________________________\n"
     ]
    }
   ],
   "source": [
    "# Add the first layer where the input dimensions are the 784 pixel values\n",
    "# We can also choose our activation function. `relu` is a common\n",
    "model.add(Dense(units=100, input_dim=2304, activation=\"relu\"))\n",
    "\n",
    "# Add a second hidden layer\n",
    "model.add(Dense(units=100, activation=\"relu\"))\n",
    "\n",
    "# Add a third hidden layer\n",
    "model.add(Dense(units=100, activation=\"relu\"))\n",
    "\n",
    "# Add our final output layer where the number of nodes \n",
    "# corresponds to the number of y labels\n",
    "model.add(Dense(face_classes, activation=\"softmax\"))\n",
    "\n",
    "# We can summarize our model\n",
    "model.summary()"
   ]
  },
  {
   "cell_type": "markdown",
   "metadata": {},
   "source": [
    "## Compile and Train our Model\n",
    "\n",
    "Now that we have our model architecture defined, we must compile the model using a loss function and optimizer. We can also specify additional training metrics such as accuracy."
   ]
  },
  {
   "cell_type": "code",
   "execution_count": 12,
   "metadata": {},
   "outputs": [],
   "source": [
    "# Use categorical crossentropy for categorical data and mean squared error for regression\n",
    "model.compile(optimizer='adam',\n",
    "             loss='categorical_crossentropy',\n",
    "             metrics=['accuracy'])"
   ]
  },
  {
   "cell_type": "code",
   "execution_count": 13,
   "metadata": {},
   "outputs": [
    {
     "name": "stdout",
     "output_type": "stream",
     "text": [
      "Epoch 1/50\n",
      "375/375 [==============================] - 2s 3ms/step - loss: 0.6738 - accuracy: 0.5792 - val_loss: 0.6304 - val_accuracy: 0.6422\n",
      "Epoch 2/50\n",
      "375/375 [==============================] - 1s 3ms/step - loss: 0.6298 - accuracy: 0.6467 - val_loss: 0.7126 - val_accuracy: 0.5579\n",
      "Epoch 3/50\n",
      "375/375 [==============================] - 1s 3ms/step - loss: 0.6121 - accuracy: 0.6673 - val_loss: 0.6018 - val_accuracy: 0.6785\n",
      "Epoch 4/50\n",
      "375/375 [==============================] - 1s 3ms/step - loss: 0.5955 - accuracy: 0.6846 - val_loss: 0.6179 - val_accuracy: 0.6719\n",
      "Epoch 5/50\n",
      "375/375 [==============================] - 1s 3ms/step - loss: 0.5934 - accuracy: 0.6836 - val_loss: 0.5865 - val_accuracy: 0.6855\n",
      "Epoch 6/50\n",
      "375/375 [==============================] - 1s 3ms/step - loss: 0.5839 - accuracy: 0.6908 - val_loss: 0.5927 - val_accuracy: 0.6925\n",
      "Epoch 7/50\n",
      "375/375 [==============================] - 1s 3ms/step - loss: 0.5708 - accuracy: 0.7088 - val_loss: 0.5808 - val_accuracy: 0.6914\n",
      "Epoch 8/50\n",
      "375/375 [==============================] - 1s 3ms/step - loss: 0.5595 - accuracy: 0.7124 - val_loss: 0.6416 - val_accuracy: 0.6414\n",
      "Epoch 9/50\n",
      "375/375 [==============================] - 1s 3ms/step - loss: 0.5642 - accuracy: 0.7120 - val_loss: 0.5783 - val_accuracy: 0.6984\n",
      "Epoch 10/50\n",
      "375/375 [==============================] - 1s 3ms/step - loss: 0.5518 - accuracy: 0.7190 - val_loss: 0.5930 - val_accuracy: 0.6906\n",
      "Epoch 11/50\n",
      "375/375 [==============================] - 1s 4ms/step - loss: 0.5558 - accuracy: 0.7171 - val_loss: 0.5868 - val_accuracy: 0.6867\n",
      "Epoch 12/50\n",
      "375/375 [==============================] - 1s 3ms/step - loss: 0.5434 - accuracy: 0.7260 - val_loss: 0.6031 - val_accuracy: 0.6773\n",
      "Epoch 13/50\n",
      "375/375 [==============================] - 1s 4ms/step - loss: 0.5479 - accuracy: 0.7246 - val_loss: 0.5790 - val_accuracy: 0.7011\n",
      "Epoch 14/50\n",
      "375/375 [==============================] - 1s 3ms/step - loss: 0.5490 - accuracy: 0.7230 - val_loss: 0.5784 - val_accuracy: 0.6961\n",
      "Epoch 15/50\n",
      "375/375 [==============================] - 1s 3ms/step - loss: 0.5406 - accuracy: 0.7298 - val_loss: 0.5890 - val_accuracy: 0.6840\n",
      "Epoch 16/50\n",
      "375/375 [==============================] - 1s 3ms/step - loss: 0.5462 - accuracy: 0.7243 - val_loss: 0.5735 - val_accuracy: 0.7035\n",
      "Epoch 17/50\n",
      "375/375 [==============================] - 1s 4ms/step - loss: 0.5375 - accuracy: 0.7284 - val_loss: 0.6265 - val_accuracy: 0.6570\n",
      "Epoch 18/50\n",
      "375/375 [==============================] - 1s 3ms/step - loss: 0.5470 - accuracy: 0.7243 - val_loss: 0.5874 - val_accuracy: 0.6964\n",
      "Epoch 19/50\n",
      "375/375 [==============================] - 1s 3ms/step - loss: 0.5351 - accuracy: 0.7297 - val_loss: 0.6291 - val_accuracy: 0.6758\n",
      "Epoch 20/50\n",
      "375/375 [==============================] - 1s 3ms/step - loss: 0.5368 - accuracy: 0.7365 - val_loss: 0.5706 - val_accuracy: 0.6996\n",
      "Epoch 21/50\n",
      "375/375 [==============================] - 1s 3ms/step - loss: 0.5357 - accuracy: 0.7285 - val_loss: 0.5734 - val_accuracy: 0.7011\n",
      "Epoch 22/50\n",
      "375/375 [==============================] - 1s 3ms/step - loss: 0.5433 - accuracy: 0.7247 - val_loss: 0.6054 - val_accuracy: 0.6664\n",
      "Epoch 23/50\n",
      "375/375 [==============================] - 1s 3ms/step - loss: 0.5270 - accuracy: 0.7373 - val_loss: 0.6118 - val_accuracy: 0.6808\n",
      "Epoch 24/50\n",
      "375/375 [==============================] - 1s 3ms/step - loss: 0.5337 - accuracy: 0.7354 - val_loss: 0.6160 - val_accuracy: 0.6613\n",
      "Epoch 25/50\n",
      "375/375 [==============================] - 1s 3ms/step - loss: 0.5315 - accuracy: 0.7348 - val_loss: 0.5901 - val_accuracy: 0.6961\n",
      "Epoch 26/50\n",
      "375/375 [==============================] - 1s 4ms/step - loss: 0.5238 - accuracy: 0.7397 - val_loss: 0.5689 - val_accuracy: 0.7132\n",
      "Epoch 27/50\n",
      "375/375 [==============================] - 1s 4ms/step - loss: 0.5283 - accuracy: 0.7391 - val_loss: 0.5801 - val_accuracy: 0.7004\n",
      "Epoch 28/50\n",
      "375/375 [==============================] - 1s 3ms/step - loss: 0.5265 - accuracy: 0.7373 - val_loss: 0.5783 - val_accuracy: 0.7004\n",
      "Epoch 29/50\n",
      "375/375 [==============================] - 1s 3ms/step - loss: 0.5258 - accuracy: 0.7350 - val_loss: 0.5774 - val_accuracy: 0.7062\n",
      "Epoch 30/50\n",
      "375/375 [==============================] - 1s 3ms/step - loss: 0.5315 - accuracy: 0.7356 - val_loss: 0.5806 - val_accuracy: 0.7031\n",
      "Epoch 31/50\n",
      "375/375 [==============================] - 1s 3ms/step - loss: 0.5248 - accuracy: 0.7350 - val_loss: 0.5873 - val_accuracy: 0.6980\n",
      "Epoch 32/50\n",
      "375/375 [==============================] - 1s 3ms/step - loss: 0.5231 - accuracy: 0.7402 - val_loss: 0.5837 - val_accuracy: 0.7000\n",
      "Epoch 33/50\n",
      "375/375 [==============================] - 1s 3ms/step - loss: 0.5282 - accuracy: 0.7356 - val_loss: 0.5841 - val_accuracy: 0.7039\n",
      "Epoch 34/50\n",
      "375/375 [==============================] - 1s 3ms/step - loss: 0.5262 - accuracy: 0.7374 - val_loss: 0.6095 - val_accuracy: 0.6805\n",
      "Epoch 35/50\n",
      "375/375 [==============================] - 1s 3ms/step - loss: 0.5195 - accuracy: 0.7387 - val_loss: 0.5870 - val_accuracy: 0.6871\n",
      "Epoch 36/50\n",
      "375/375 [==============================] - 1s 3ms/step - loss: 0.5244 - accuracy: 0.7379 - val_loss: 0.5883 - val_accuracy: 0.6925\n",
      "Epoch 37/50\n",
      "375/375 [==============================] - 1s 4ms/step - loss: 0.5186 - accuracy: 0.7448 - val_loss: 0.5795 - val_accuracy: 0.7023\n",
      "Epoch 38/50\n",
      "375/375 [==============================] - 1s 3ms/step - loss: 0.5265 - accuracy: 0.7374 - val_loss: 0.5904 - val_accuracy: 0.6976\n",
      "Epoch 39/50\n",
      "375/375 [==============================] - 1s 3ms/step - loss: 0.5131 - accuracy: 0.7443 - val_loss: 0.5726 - val_accuracy: 0.7054\n",
      "Epoch 40/50\n",
      "375/375 [==============================] - 1s 3ms/step - loss: 0.5181 - accuracy: 0.7448 - val_loss: 0.5882 - val_accuracy: 0.6937\n",
      "Epoch 41/50\n",
      "375/375 [==============================] - 1s 3ms/step - loss: 0.5171 - accuracy: 0.7447 - val_loss: 0.5751 - val_accuracy: 0.6988\n",
      "Epoch 42/50\n",
      "375/375 [==============================] - 1s 3ms/step - loss: 0.5134 - accuracy: 0.7493 - val_loss: 0.5838 - val_accuracy: 0.6984\n",
      "Epoch 43/50\n",
      "375/375 [==============================] - 1s 3ms/step - loss: 0.5158 - accuracy: 0.7418 - val_loss: 0.5998 - val_accuracy: 0.6929\n",
      "Epoch 44/50\n",
      "375/375 [==============================] - 1s 3ms/step - loss: 0.5069 - accuracy: 0.7530 - val_loss: 0.5775 - val_accuracy: 0.7023\n",
      "Epoch 45/50\n",
      "375/375 [==============================] - 1s 3ms/step - loss: 0.5087 - accuracy: 0.7495 - val_loss: 0.5863 - val_accuracy: 0.7027\n",
      "Epoch 46/50\n",
      "375/375 [==============================] - 1s 3ms/step - loss: 0.5126 - accuracy: 0.7478 - val_loss: 0.5952 - val_accuracy: 0.6933\n",
      "Epoch 47/50\n",
      "375/375 [==============================] - 1s 3ms/step - loss: 0.5070 - accuracy: 0.7535 - val_loss: 0.5873 - val_accuracy: 0.6976\n",
      "Epoch 48/50\n",
      "375/375 [==============================] - 1s 3ms/step - loss: 0.5047 - accuracy: 0.7522 - val_loss: 0.6198 - val_accuracy: 0.6871\n",
      "Epoch 49/50\n",
      "349/375 [==========================>...] - ETA: 0s - loss: 0.5098 - accuracy: 0.7435WARNING:tensorflow:Your input ran out of data; interrupting training. Make sure that your dataset or generator can generate at least `steps_per_epoch * epochs` batches (in this case, 18750 batches). You may need to use the repeat() function when building your dataset.\n",
      "375/375 [==============================] - 3s 7ms/step - loss: 0.5098 - accuracy: 0.7433 - val_loss: 0.5791 - val_accuracy: 0.6945\n"
     ]
    },
    {
     "data": {
      "text/plain": [
       "<keras.callbacks.History at 0x2ae79277eb0>"
      ]
     },
     "execution_count": 13,
     "metadata": {},
     "output_type": "execute_result"
    }
   ],
   "source": [
    "# Fit (train) the model\n",
    "model.fit(\n",
    "    X_train,\n",
    "    y_train,\n",
    "    validation_data=(X_test, y_test),\n",
    "    steps_per_epoch=375,\n",
    "    epochs=50,\n",
    "    shuffle=True\n",
    ")"
   ]
  },
  {
   "cell_type": "code",
   "execution_count": 14,
   "metadata": {},
   "outputs": [],
   "source": [
    "# Save the model\n",
    "model.save(\"data_trained.h5\")"
   ]
  },
  {
   "cell_type": "markdown",
   "metadata": {},
   "source": [
    "## Evaluating the Model\n",
    "\n",
    "We use our testing data to validate our model. This is how we determine the validity of our model (i.e. the ability to predict new and previously unseen data points)"
   ]
  },
  {
   "cell_type": "code",
   "execution_count": 15,
   "metadata": {},
   "outputs": [
    {
     "name": "stdout",
     "output_type": "stream",
     "text": [
      "81/81 - 0s - loss: 0.5791 - accuracy: 0.6945 - 124ms/epoch - 2ms/step\n",
      "Loss: 0.5790886282920837, Accuracy: 0.6944986581802368\n"
     ]
    }
   ],
   "source": [
    "# Evaluate the model using the training data \n",
    "model_loss, model_accuracy = model.evaluate(X_test, y_test,verbose=2)\n",
    "print(f\"Loss: {model_loss}, Accuracy: {model_accuracy}\")"
   ]
  },
  {
   "cell_type": "markdown",
   "metadata": {},
   "source": [
    "## Making Predictions\n",
    "\n",
    "We can use our trained model to make predictions using `model.predict`"
   ]
  },
  {
   "cell_type": "code",
   "execution_count": 16,
   "metadata": {},
   "outputs": [
    {
     "data": {
      "text/plain": [
       "(1, 2304)"
      ]
     },
     "execution_count": 16,
     "metadata": {},
     "output_type": "execute_result"
    }
   ],
   "source": [
    "# Grab just one data point to test with\n",
    "test = np.expand_dims(X_train[0], axis=0)\n",
    "test.shape"
   ]
  },
  {
   "cell_type": "code",
   "execution_count": 19,
   "metadata": {},
   "outputs": [
    {
     "name": "stdout",
     "output_type": "stream",
     "text": [
      "1/1 [==============================] - 0s 24ms/step\n",
      "Predicted: [[0.6300907 0.3699093]]\n"
     ]
    },
    {
     "data": {
      "text/plain": [
       "<matplotlib.image.AxesImage at 0x2ae29f8a160>"
      ]
     },
     "execution_count": 19,
     "metadata": {},
     "output_type": "execute_result"
    },
    {
     "data": {
      "image/png": "[encoded data removed]",
      "text/plain": [
       "<Figure size 640x480 with 1 Axes>"
      ]
     },
     "metadata": {},
     "output_type": "display_data"
    }
   ],
   "source": [
    "predictions = model.predict(test)\n",
    "print('Predicted:', predictions)\n",
    "\n",
    "test_img = X_train[60].reshape(48, 48)\n",
    "plt.imshow(test_img)"
   ]
  },
  {
   "cell_type": "code",
   "execution_count": 20,
   "metadata": {},
   "outputs": [
    {
     "name": "stdout",
     "output_type": "stream",
     "text": [
      "1/1 [==============================] - 0s 22ms/step\n",
      "Predicted: [[0.6300907 0.3699093]] Happy\n"
     ]
    },
    {
     "data": {
      "text/plain": [
       "<matplotlib.image.AxesImage at 0x2ae29fdb9d0>"
      ]
     },
     "execution_count": 20,
     "metadata": {},
     "output_type": "execute_result"
    },
    {
     "data": {
      "image/png": "[encoded data removed]",
      "text/plain": [
       "<Figure size 640x480 with 1 Axes>"
      ]
     },
     "metadata": {},
     "output_type": "display_data"
    }
   ],
   "source": [
    "#Labeling finding \"Happy\" or \"Sad\" \n",
    "predictions = model.predict(test)\n",
    "def happy_or_sad(x):\n",
    "    score = np.argmax(predictions)\n",
    "    if score == 1:\n",
    "        return \"Sad\"\n",
    "    return \"Happy\"\n",
    "print('Predicted:', predictions, happy_or_sad(predictions))\n",
    "\n",
    "test_img = X_train[60].reshape(48, 48)\n",
    "plt.imshow(test_img)"
   ]
  },
  {
   "cell_type": "code",
   "execution_count": null,
   "metadata": {},
   "outputs": [],
   "source": []
  }
 ],
 "metadata": {
  "kernelspec": {
   "display_name": "Python 3 (ipykernel)",
   "language": "python",
   "name": "python3"
  },
  "language_info": {
   "codemirror_mode": {
    "name": "ipython",
    "version": 3
   },
   "file_extension": ".py",
   "mimetype": "text/x-python",
   "name": "python",
   "nbconvert_exporter": "python",
   "pygments_lexer": "ipython3",
   "version": "3.9.13"
  }
 },
 "nbformat": 4,
 "nbformat_minor": 4
}
