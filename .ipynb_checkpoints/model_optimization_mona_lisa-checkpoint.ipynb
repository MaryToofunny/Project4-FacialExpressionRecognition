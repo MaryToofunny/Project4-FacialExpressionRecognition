{
 "cells": [
  {
   "cell_type": "markdown",
   "metadata": {},
   "source": [
    "## Model Optimization"
   ]
  },
  {
   "cell_type": "code",
   "execution_count": 1,
   "metadata": {
    "scrolled": true
   },
   "outputs": [],
   "source": [
    "# Import our dependencies\n",
    "%matplotlib inline\n",
    "from sklearn.model_selection import train_test_split\n",
    "from sklearn.preprocessing import StandardScaler, MinMaxScaler, OneHotEncoder\n",
    "import pandas as pd\n",
    "import matplotlib.pyplot as plt\n",
    "import numpy as np"
   ]
  },
  {
   "cell_type": "markdown",
   "metadata": {},
   "source": [
    "## Keras Specific Dependencies"
   ]
  },
  {
   "cell_type": "code",
   "execution_count": 2,
   "metadata": {},
   "outputs": [
    {
     "name": "stderr",
     "output_type": "stream",
     "text": [
      "2023-04-15 00:41:16.581308: I tensorflow/core/platform/cpu_feature_guard.cc:193] This TensorFlow binary is optimized with oneAPI Deep Neural Network Library (oneDNN) to use the following CPU instructions in performance-critical operations:  AVX2 FMA\n",
      "To enable them in other operations, rebuild TensorFlow with the appropriate compiler flags.\n"
     ]
    }
   ],
   "source": [
    "from tensorflow import keras\n",
    "from keras.utils import to_categorical\n",
    "from keras.models import Sequential\n",
    "from keras.layers import Dense, Conv2D, MaxPool2D, Flatten"
   ]
  },
  {
   "cell_type": "markdown",
   "metadata": {},
   "source": [
    "## Loading, Checking and Spitting our Data"
   ]
  },
  {
   "cell_type": "code",
   "execution_count": 3,
   "metadata": {
    "scrolled": true
   },
   "outputs": [
    {
     "data": {
      "text/html": [
       "<div>\n",
       "<style scoped>\n",
       "    .dataframe tbody tr th:only-of-type {\n",
       "        vertical-align: middle;\n",
       "    }\n",
       "\n",
       "    .dataframe tbody tr th {\n",
       "        vertical-align: top;\n",
       "    }\n",
       "\n",
       "    .dataframe thead th {\n",
       "        text-align: right;\n",
       "    }\n",
       "</style>\n",
       "<table border=\"1\" class=\"dataframe\">\n",
       "  <thead>\n",
       "    <tr style=\"text-align: right;\">\n",
       "      <th></th>\n",
       "      <th>0</th>\n",
       "      <th>1</th>\n",
       "      <th>2</th>\n",
       "      <th>3</th>\n",
       "      <th>4</th>\n",
       "      <th>5</th>\n",
       "      <th>6</th>\n",
       "      <th>7</th>\n",
       "      <th>8</th>\n",
       "      <th>9</th>\n",
       "      <th>...</th>\n",
       "      <th>2296</th>\n",
       "      <th>2297</th>\n",
       "      <th>2298</th>\n",
       "      <th>2299</th>\n",
       "      <th>2300</th>\n",
       "      <th>2301</th>\n",
       "      <th>2302</th>\n",
       "      <th>2303</th>\n",
       "      <th>Labels</th>\n",
       "      <th>Emotions</th>\n",
       "    </tr>\n",
       "  </thead>\n",
       "  <tbody>\n",
       "    <tr>\n",
       "      <th>0</th>\n",
       "      <td>59</td>\n",
       "      <td>71</td>\n",
       "      <td>89</td>\n",
       "      <td>118</td>\n",
       "      <td>139</td>\n",
       "      <td>160</td>\n",
       "      <td>183</td>\n",
       "      <td>222</td>\n",
       "      <td>212</td>\n",
       "      <td>148</td>\n",
       "      <td>...</td>\n",
       "      <td>0</td>\n",
       "      <td>0</td>\n",
       "      <td>0</td>\n",
       "      <td>0</td>\n",
       "      <td>0</td>\n",
       "      <td>0</td>\n",
       "      <td>1</td>\n",
       "      <td>0</td>\n",
       "      <td>1</td>\n",
       "      <td>Sad</td>\n",
       "    </tr>\n",
       "    <tr>\n",
       "      <th>1</th>\n",
       "      <td>90</td>\n",
       "      <td>97</td>\n",
       "      <td>105</td>\n",
       "      <td>42</td>\n",
       "      <td>41</td>\n",
       "      <td>41</td>\n",
       "      <td>37</td>\n",
       "      <td>40</td>\n",
       "      <td>36</td>\n",
       "      <td>55</td>\n",
       "      <td>...</td>\n",
       "      <td>42</td>\n",
       "      <td>48</td>\n",
       "      <td>83</td>\n",
       "      <td>107</td>\n",
       "      <td>105</td>\n",
       "      <td>77</td>\n",
       "      <td>51</td>\n",
       "      <td>32</td>\n",
       "      <td>1</td>\n",
       "      <td>Sad</td>\n",
       "    </tr>\n",
       "    <tr>\n",
       "      <th>2</th>\n",
       "      <td>219</td>\n",
       "      <td>221</td>\n",
       "      <td>222</td>\n",
       "      <td>224</td>\n",
       "      <td>225</td>\n",
       "      <td>226</td>\n",
       "      <td>227</td>\n",
       "      <td>229</td>\n",
       "      <td>230</td>\n",
       "      <td>231</td>\n",
       "      <td>...</td>\n",
       "      <td>17</td>\n",
       "      <td>8</td>\n",
       "      <td>3</td>\n",
       "      <td>31</td>\n",
       "      <td>46</td>\n",
       "      <td>38</td>\n",
       "      <td>59</td>\n",
       "      <td>74</td>\n",
       "      <td>1</td>\n",
       "      <td>Sad</td>\n",
       "    </tr>\n",
       "    <tr>\n",
       "      <th>3</th>\n",
       "      <td>51</td>\n",
       "      <td>51</td>\n",
       "      <td>53</td>\n",
       "      <td>50</td>\n",
       "      <td>47</td>\n",
       "      <td>44</td>\n",
       "      <td>41</td>\n",
       "      <td>40</td>\n",
       "      <td>37</td>\n",
       "      <td>37</td>\n",
       "      <td>...</td>\n",
       "      <td>26</td>\n",
       "      <td>59</td>\n",
       "      <td>65</td>\n",
       "      <td>66</td>\n",
       "      <td>64</td>\n",
       "      <td>62</td>\n",
       "      <td>60</td>\n",
       "      <td>56</td>\n",
       "      <td>0</td>\n",
       "      <td>Happy</td>\n",
       "    </tr>\n",
       "    <tr>\n",
       "      <th>4</th>\n",
       "      <td>91</td>\n",
       "      <td>118</td>\n",
       "      <td>124</td>\n",
       "      <td>101</td>\n",
       "      <td>97</td>\n",
       "      <td>130</td>\n",
       "      <td>149</td>\n",
       "      <td>147</td>\n",
       "      <td>144</td>\n",
       "      <td>137</td>\n",
       "      <td>...</td>\n",
       "      <td>202</td>\n",
       "      <td>210</td>\n",
       "      <td>202</td>\n",
       "      <td>120</td>\n",
       "      <td>106</td>\n",
       "      <td>106</td>\n",
       "      <td>101</td>\n",
       "      <td>94</td>\n",
       "      <td>0</td>\n",
       "      <td>Happy</td>\n",
       "    </tr>\n",
       "  </tbody>\n",
       "</table>\n",
       "<p>5 rows × 2306 columns</p>\n",
       "</div>"
      ],
      "text/plain": [
       "     0    1    2    3    4    5    6    7    8    9  ...  2296  2297  2298  \\\n",
       "0   59   71   89  118  139  160  183  222  212  148  ...     0     0     0   \n",
       "1   90   97  105   42   41   41   37   40   36   55  ...    42    48    83   \n",
       "2  219  221  222  224  225  226  227  229  230  231  ...    17     8     3   \n",
       "3   51   51   53   50   47   44   41   40   37   37  ...    26    59    65   \n",
       "4   91  118  124  101   97  130  149  147  144  137  ...   202   210   202   \n",
       "\n",
       "   2299  2300  2301  2302  2303  Labels  Emotions  \n",
       "0     0     0     0     1     0       1       Sad  \n",
       "1   107   105    77    51    32       1       Sad  \n",
       "2    31    46    38    59    74       1       Sad  \n",
       "3    66    64    62    60    56       0     Happy  \n",
       "4   120   106   106   101    94       0     Happy  \n",
       "\n",
       "[5 rows x 2306 columns]"
      ]
     },
     "execution_count": 3,
     "metadata": {},
     "output_type": "execute_result"
    }
   ],
   "source": [
    "data = pd.read_csv(\"resources/data_reduced.csv\", header=0, delimiter=\",\")\n",
    "data.head()"
   ]
  },
  {
   "cell_type": "code",
   "execution_count": 4,
   "metadata": {},
   "outputs": [
    {
     "name": "stdout",
     "output_type": "stream",
     "text": [
      "Image Data Shape: (10252, 2304)\n",
      "Image Labels Shape: (10252,)\n"
     ]
    },
    {
     "name": "stderr",
     "output_type": "stream",
     "text": [
      "/Users/terryschoch/opt/anaconda3/envs/PythonData/lib/python3.7/site-packages/ipykernel_launcher.py:2: FutureWarning: In a future version of pandas all arguments of DataFrame.drop except for the argument 'labels' will be keyword-only\n",
      "  \n"
     ]
    }
   ],
   "source": [
    "# Split our preprocessed data into our features and target arrays\n",
    "X = data.drop(['Labels', 'Emotions'],1).values\n",
    "y = data['Labels'].values\n",
    "\n",
    "# Verify the shape of our features (X) dataset and labels (y) datasets, ensuring the images are flattened (48 x 48 = 2304)\n",
    "print(\"Image Data Shape:\", X.shape)\n",
    "print(\"Image Labels Shape:\", y.shape)"
   ]
  },
  {
   "cell_type": "code",
   "execution_count": 5,
   "metadata": {},
   "outputs": [
    {
     "data": {
      "image/png": "[encoded data removed]",
      "text/plain": [
       "<Figure size 640x480 with 1 Axes>"
      ]
     },
     "metadata": {},
     "output_type": "display_data"
    }
   ],
   "source": [
    "# Image Check: Create a copy of our data_cleaned dataframe with just the image features and convert a row to an array and resize to a 3 dimensional image in order to display via plt.show function\n",
    "image_data_df = data.copy()\n",
    "image_data_df.drop(image_data_df.columns[[2304, 2305]], axis=1, inplace=True)\n",
    "arr = image_data_df.iloc[4].to_numpy()\n",
    "arr = np.resize(arr, (48, 48))\n",
    "plt.imshow(arr)\n",
    "plt.show()"
   ]
  },
  {
   "cell_type": "code",
   "execution_count": 6,
   "metadata": {},
   "outputs": [
    {
     "name": "stdout",
     "output_type": "stream",
     "text": [
      "Train: [    5     6     7 ... 10249 10250 10251] Validation: [    0     1     2 ... 10238 10245 10246]\n",
      "Train: [    0     1     2 ... 10247 10248 10250] Validation: [    6     8    24 ... 10234 10249 10251]\n",
      "Train: [    0     1     2 ... 10249 10250 10251] Validation: [   12    14    25 ... 10243 10244 10247]\n",
      "Train: [    0     1     2 ... 10248 10249 10251] Validation: [    9    10    11 ... 10241 10242 10250]\n",
      "Train: [    0     1     2 ... 10249 10250 10251] Validation: [    5     7    13 ... 10237 10240 10248]\n",
      "Train: [    1     2     3 ... 10248 10249 10251] Validation: [    0     6    10 ... 10245 10247 10250]\n",
      "Train: [    0     4     6 ... 10248 10250 10251] Validation: [    1     2     3 ... 10239 10240 10249]\n",
      "Train: [    0     1     2 ... 10249 10250 10251] Validation: [    9    15    17 ... 10218 10235 10242]\n",
      "Train: [    0     1     2 ... 10249 10250 10251] Validation: [    4     7     8 ... 10236 10237 10248]\n",
      "Train: [    0     1     2 ... 10248 10249 10250] Validation: [   16    19    20 ... 10243 10246 10251]\n",
      "Train: [    0     1     2 ... 10249 10250 10251] Validation: [    9    16    24 ... 10239 10240 10248]\n",
      "Train: [    0     1     3 ... 10245 10246 10248] Validation: [    2    12    13 ... 10249 10250 10251]\n",
      "Train: [    1     2     3 ... 10249 10250 10251] Validation: [    0     4     5 ... 10231 10235 10238]\n",
      "Train: [    0     2     4 ... 10249 10250 10251] Validation: [    1     3    10 ... 10237 10241 10245]\n",
      "Train: [    0     1     2 ... 10249 10250 10251] Validation: [    6    15    18 ... 10234 10243 10246]\n",
      "Train: [    0     1     2 ... 10249 10250 10251] Validation: [    7     8    17 ... 10241 10243 10246]\n",
      "Train: [    0     1     2 ... 10247 10248 10250] Validation: [    9    12    13 ... 10239 10249 10251]\n",
      "Train: [    0     1     2 ... 10247 10249 10251] Validation: [    3     5     6 ... 10245 10248 10250]\n",
      "Train: [    1     2     3 ... 10249 10250 10251] Validation: [    0     4    10 ... 10231 10234 10238]\n",
      "Train: [    0     3     4 ... 10249 10250 10251] Validation: [    1     2    15 ... 10242 10244 10247]\n",
      "Train: [    0     1     2 ... 10248 10250 10251] Validation: [   16    18    19 ... 10245 10247 10249]\n",
      "Train: [    0     1     2 ... 10249 10250 10251] Validation: [    6     7     8 ... 10239 10240 10248]\n",
      "Train: [    3     6     7 ... 10249 10250 10251] Validation: [    0     1     2 ... 10241 10243 10246]\n",
      "Train: [    0     1     2 ... 10247 10248 10249] Validation: [    3    10    13 ... 10244 10250 10251]\n",
      "Train: [    0     1     2 ... 10249 10250 10251] Validation: [   11    24    25 ... 10222 10228 10231]\n",
      "Train: [    0     1     2 ... 10249 10250 10251] Validation: [    6     7     8 ... 10236 10242 10243]\n",
      "Train: [    0     1     2 ... 10249 10250 10251] Validation: [   11    13    26 ... 10233 10237 10238]\n",
      "Train: [    0     1     5 ... 10248 10249 10250] Validation: [    2     3     4 ... 10239 10244 10251]\n",
      "Train: [    2     3     4 ... 10246 10250 10251] Validation: [    0     1     9 ... 10247 10248 10249]\n",
      "Train: [    0     1     2 ... 10248 10249 10251] Validation: [    5    16    19 ... 10245 10246 10250]\n",
      "Train: [    0     2     3 ... 10249 10250 10251] Validation: [    1     7    11 ... 10222 10226 10227]\n",
      "Train: [    0     1     5 ... 10247 10249 10250] Validation: [    2     3     4 ... 10244 10248 10251]\n",
      "Train: [    0     1     2 ... 10245 10248 10251] Validation: [    6    10    14 ... 10247 10249 10250]\n",
      "Train: [    1     2     3 ... 10249 10250 10251] Validation: [    0     5     8 ... 10235 10242 10245]\n",
      "Train: [    0     1     2 ... 10249 10250 10251] Validation: [   13    20    25 ... 10238 10240 10241]\n",
      "Train: [    1     2     3 ... 10249 10250 10251] Validation: [    0     6    13 ... 10239 10240 10248]\n",
      "Train: [    0     1     2 ... 10248 10249 10250] Validation: [    8    16    22 ... 10234 10243 10251]\n",
      "Train: [    0     4     6 ... 10249 10250 10251] Validation: [    1     2     3 ... 10242 10245 10247]\n",
      "Train: [    0     1     2 ... 10249 10250 10251] Validation: [    7    10    11 ... 10227 10241 10244]\n",
      "Train: [    0     1     2 ... 10247 10248 10251] Validation: [    4     9    20 ... 10246 10249 10250]\n",
      "Train: [    0     1     2 ... 10249 10250 10251] Validation: [    8    11    12 ... 10231 10238 10245]\n",
      "Train: [    0     1     2 ... 10248 10250 10251] Validation: [    3    14    15 ... 10243 10244 10249]\n",
      "Train: [    1     2     3 ... 10248 10249 10251] Validation: [    0     6     9 ... 10223 10246 10250]\n",
      "Train: [    0     2     3 ... 10249 10250 10251] Validation: [    1     5    24 ... 10241 10242 10247]\n",
      "Train: [    0     1     3 ... 10247 10249 10250] Validation: [    2     4     7 ... 10234 10248 10251]\n",
      "Train: [    0     2     4 ... 10248 10249 10251] Validation: [    1     3     5 ... 10244 10246 10250]\n",
      "Train: [    1     2     3 ... 10249 10250 10251] Validation: [    0     6     8 ... 10236 10238 10241]\n",
      "Train: [    0     1     2 ... 10249 10250 10251] Validation: [    9    12    14 ... 10222 10226 10248]\n",
      "Train: [    0     1     2 ... 10246 10248 10250] Validation: [    4    25    31 ... 10247 10249 10251]\n",
      "Train: [    0     1     3 ... 10249 10250 10251] Validation: [    2    11    24 ... 10237 10239 10245]\n"
     ]
    }
   ],
   "source": [
    "from sklearn.model_selection import RepeatedKFold \n",
    "kf = RepeatedKFold(n_splits=5, n_repeats=10, random_state=None) \n",
    "\n",
    "# X is the feature set and y is the target\n",
    "for train_index, test_index in kf.split(X):\n",
    "      print(\"Train:\", train_index, \"Validation:\",test_index)\n",
    "      X_train, X_test = X[train_index], X[test_index] \n",
    "      y_train, y_test = y[train_index], y[test_index]"
   ]
  },
  {
   "cell_type": "code",
   "execution_count": 7,
   "metadata": {},
   "outputs": [],
   "source": [
    "#reshape data to fit model\n",
    "X_train = X_train.reshape(8202,48,48,1)\n",
    "X_test = X_test.reshape(2050,48,48,1)"
   ]
  },
  {
   "cell_type": "code",
   "execution_count": 8,
   "metadata": {},
   "outputs": [],
   "source": [
    "# # Split the preprocessed data into a training and testing dataset\n",
    "# X_train, X_test, y_train, y_test = train_test_split(X, \n",
    "#                                                     y,\n",
    "#                                                     random_state=1,\n",
    "#                                                     stratify=y)\n",
    "\n",
    "# # Check the shape of our split data\n",
    "# print(\"Training Data Info\")\n",
    "# print(\"Training Data Shape:\", X_train.shape)\n",
    "# print(\"Training Data Shape:\", y_train.shape)\n",
    "\n",
    "# print(\"Test Data Info\")\n",
    "# print(\"Testing Data Shape:\", X_test.shape)\n",
    "# print(\"Testing Data Shape:\", y_test.shape)"
   ]
  },
  {
   "cell_type": "code",
   "execution_count": 9,
   "metadata": {},
   "outputs": [],
   "source": [
    "# #reshape data to fit model\n",
    "# X_train = X_train.reshape(7689,48,48,1)\n",
    "# X_test = X_test.reshape(2563,48,48,1)"
   ]
  },
  {
   "cell_type": "code",
   "execution_count": 10,
   "metadata": {},
   "outputs": [
    {
     "name": "stdout",
     "output_type": "stream",
     "text": [
      "Training Data Info\n",
      "Training Data Shape: (8202, 48, 48, 1)\n",
      "Training Data Shape: (8202,)\n",
      "Test Data Info\n",
      "Testing Data Shape: (2050, 48, 48, 1)\n",
      "Testing Data Shape: (2050,)\n"
     ]
    }
   ],
   "source": [
    "# Check the shape of our reshaped data\n",
    "print(\"Training Data Info\")\n",
    "print(\"Training Data Shape:\", X_train.shape)\n",
    "print(\"Training Data Shape:\", y_train.shape)\n",
    "\n",
    "print(\"Test Data Info\")\n",
    "print(\"Testing Data Shape:\", X_test.shape)\n",
    "print(\"Testing Data Shape:\", y_test.shape)"
   ]
  },
  {
   "cell_type": "markdown",
   "metadata": {},
   "source": [
    "### One-Hot Encoding\n",
    "\n",
    "**We need to one-hot encode our integer labels using the `to_categorical` helper function**"
   ]
  },
  {
   "cell_type": "code",
   "execution_count": 11,
   "metadata": {},
   "outputs": [
    {
     "data": {
      "text/plain": [
       "array([1, 1, 0, 0, 1, 1, 0, 0, 1, 1])"
      ]
     },
     "execution_count": 11,
     "metadata": {},
     "output_type": "execute_result"
    }
   ],
   "source": [
    "# Check integer encoding of our first 10 labels\n",
    "y_train[:10]"
   ]
  },
  {
   "cell_type": "code",
   "execution_count": 12,
   "metadata": {},
   "outputs": [
    {
     "data": {
      "text/plain": [
       "array([1., 0.], dtype=float32)"
      ]
     },
     "execution_count": 12,
     "metadata": {},
     "output_type": "execute_result"
    }
   ],
   "source": [
    "# We need to convert our target labels (expected values) to categorical data\n",
    "face_classes = 2\n",
    "y_train = to_categorical(y_train, face_classes)\n",
    "y_test = to_categorical(y_test, face_classes)\n",
    "\n",
    "# Confirm that our sixth [5] and third [2] row labels of '1' and '0' are one-hot encoded as '0,1' and '1,0' respectively\n",
    "y_train[5]\n",
    "y_train[2]"
   ]
  },
  {
   "cell_type": "markdown",
   "metadata": {},
   "source": [
    "## Opt Model 1\n",
    "### Building, Compiling, Training our Model"
   ]
  },
  {
   "cell_type": "code",
   "execution_count": 15,
   "metadata": {},
   "outputs": [
    {
     "name": "stdout",
     "output_type": "stream",
     "text": [
      "Model: \"sequential_1\"\n",
      "_________________________________________________________________\n",
      " Layer (type)                Output Shape              Param #   \n",
      "=================================================================\n",
      " conv2d_3 (Conv2D)           (None, 46, 46, 12)        120       \n",
      "                                                                 \n",
      " max_pooling2d_3 (MaxPooling  (None, 23, 23, 12)       0         \n",
      " 2D)                                                             \n",
      "                                                                 \n",
      " conv2d_4 (Conv2D)           (None, 21, 21, 24)        2616      \n",
      "                                                                 \n",
      " max_pooling2d_4 (MaxPooling  (None, 10, 10, 24)       0         \n",
      " 2D)                                                             \n",
      "                                                                 \n",
      " conv2d_5 (Conv2D)           (None, 8, 8, 48)          10416     \n",
      "                                                                 \n",
      " max_pooling2d_5 (MaxPooling  (None, 4, 4, 48)         0         \n",
      " 2D)                                                             \n",
      "                                                                 \n",
      " flatten_1 (Flatten)         (None, 768)               0         \n",
      "                                                                 \n",
      " dense_2 (Dense)             (None, 96)                73824     \n",
      "                                                                 \n",
      " dense_3 (Dense)             (None, 2)                 194       \n",
      "                                                                 \n",
      "=================================================================\n",
      "Total params: 87,170\n",
      "Trainable params: 87,170\n",
      "Non-trainable params: 0\n",
      "_________________________________________________________________\n"
     ]
    }
   ],
   "source": [
    "# Create an empty sequential model\n",
    "model = Sequential()\n",
    "\n",
    "# Model Layers\n",
    "# Add first hidden layer\n",
    "model.add(Conv2D(filters=12, kernel_size=3, strides=1, \n",
    "                 activation='relu', input_shape=(48,48,1)))\n",
    "model.add(MaxPool2D(pool_size=(2,2)))\n",
    "\n",
    "# Additional convolution layer to improve accuracy\n",
    "model.add(Conv2D(24, kernel_size=3, strides=1, activation='relu'))\n",
    "model.add(MaxPool2D(pool_size=(2,2)))\n",
    "\n",
    "# Additional convolution layer to improve accuracy\n",
    "model.add(Conv2D(48, kernel_size=3, strides=1, activation='relu'))\n",
    "model.add(MaxPool2D(pool_size=(2,2)))\n",
    "\n",
    "model.add(Flatten())\n",
    "\n",
    "# STEP--4 Fully Connected Neural Network\n",
    "model.add(Dense(96, activation='relu'))\n",
    "\n",
    "# Final layer and output to face_classes\n",
    "model.add(Dense(face_classes, activation='softmax'))\n",
    "\n",
    "# We can summarize our model\n",
    "model.summary()"
   ]
  },
  {
   "cell_type": "code",
   "execution_count": 16,
   "metadata": {},
   "outputs": [
    {
     "name": "stdout",
     "output_type": "stream",
     "text": [
      "Epoch 1/20\n",
      "250/250 [==============================] - 9s 34ms/step - loss: 1.1936 - accuracy: 0.6101 - val_loss: 0.6822 - val_accuracy: 0.6244\n",
      "Epoch 2/20\n",
      "250/250 [==============================] - 9s 34ms/step - loss: 0.5707 - accuracy: 0.7043 - val_loss: 0.6029 - val_accuracy: 0.6888\n",
      "Epoch 3/20\n",
      "250/250 [==============================] - 9s 34ms/step - loss: 0.5158 - accuracy: 0.7451 - val_loss: 0.5241 - val_accuracy: 0.7380\n",
      "Epoch 4/20\n",
      "250/250 [==============================] - 9s 35ms/step - loss: 0.4706 - accuracy: 0.7724 - val_loss: 0.5048 - val_accuracy: 0.7595\n",
      "Epoch 5/20\n",
      "250/250 [==============================] - 9s 35ms/step - loss: 0.4393 - accuracy: 0.7899 - val_loss: 0.4968 - val_accuracy: 0.7673\n",
      "Epoch 6/20\n",
      "250/250 [==============================] - 9s 36ms/step - loss: 0.4011 - accuracy: 0.8097 - val_loss: 0.5100 - val_accuracy: 0.7712\n",
      "Epoch 7/20\n",
      "250/250 [==============================] - 9s 34ms/step - loss: 0.3690 - accuracy: 0.8322 - val_loss: 0.5189 - val_accuracy: 0.7800\n",
      "Epoch 8/20\n",
      "250/250 [==============================] - 9s 36ms/step - loss: 0.3369 - accuracy: 0.8452 - val_loss: 0.5109 - val_accuracy: 0.7878\n",
      "Epoch 9/20\n",
      "250/250 [==============================] - 9s 35ms/step - loss: 0.3087 - accuracy: 0.8640 - val_loss: 0.4796 - val_accuracy: 0.7873\n",
      "Epoch 10/20\n",
      "250/250 [==============================] - 9s 35ms/step - loss: 0.2588 - accuracy: 0.8924 - val_loss: 0.5049 - val_accuracy: 0.7937\n",
      "Epoch 11/20\n",
      "250/250 [==============================] - 9s 36ms/step - loss: 0.2429 - accuracy: 0.8956 - val_loss: 0.5395 - val_accuracy: 0.7834\n",
      "Epoch 12/20\n",
      "250/250 [==============================] - 9s 36ms/step - loss: 0.2092 - accuracy: 0.9132 - val_loss: 0.5649 - val_accuracy: 0.7946\n",
      "Epoch 13/20\n",
      "250/250 [==============================] - 9s 35ms/step - loss: 0.1792 - accuracy: 0.9241 - val_loss: 0.6305 - val_accuracy: 0.7888\n",
      "Epoch 14/20\n",
      "250/250 [==============================] - 9s 36ms/step - loss: 0.1624 - accuracy: 0.9337 - val_loss: 0.6861 - val_accuracy: 0.7941\n",
      "Epoch 15/20\n",
      "250/250 [==============================] - 9s 36ms/step - loss: 0.1307 - accuracy: 0.9512 - val_loss: 0.7708 - val_accuracy: 0.7912\n",
      "Epoch 16/20\n",
      "250/250 [==============================] - 9s 36ms/step - loss: 0.1407 - accuracy: 0.9461 - val_loss: 0.6633 - val_accuracy: 0.7976\n",
      "Epoch 17/20\n",
      "250/250 [==============================] - 9s 35ms/step - loss: 0.1386 - accuracy: 0.9456 - val_loss: 0.7825 - val_accuracy: 0.7800\n",
      "Epoch 18/20\n",
      "250/250 [==============================] - 9s 36ms/step - loss: 0.1035 - accuracy: 0.9596 - val_loss: 0.7859 - val_accuracy: 0.8000\n",
      "Epoch 19/20\n",
      "250/250 [==============================] - 9s 36ms/step - loss: 0.0712 - accuracy: 0.9736 - val_loss: 0.8483 - val_accuracy: 0.8034\n",
      "Epoch 20/20\n",
      "230/250 [==========================>...] - ETA: 0s - loss: 0.0774 - accuracy: 0.9716WARNING:tensorflow:Your input ran out of data; interrupting training. Make sure that your dataset or generator can generate at least `steps_per_epoch * epochs` batches (in this case, 5000 batches). You may need to use the repeat() function when building your dataset.\n",
      "250/250 [==============================] - 8s 34ms/step - loss: 0.0774 - accuracy: 0.9716 - val_loss: 0.8835 - val_accuracy: 0.7834\n",
      "Epoch 1/10\n",
      "150/150 [==============================] - 9s 63ms/step - loss: 0.0413 - accuracy: 0.9856 - val_loss: 0.9223 - val_accuracy: 0.8161\n",
      "Epoch 2/10\n",
      "150/150 [==============================] - 10s 66ms/step - loss: 0.0157 - accuracy: 0.9967 - val_loss: 0.9944 - val_accuracy: 0.8127\n",
      "Epoch 3/10\n",
      "150/150 [==============================] - 10s 63ms/step - loss: 0.0084 - accuracy: 0.9987 - val_loss: 1.0570 - val_accuracy: 0.8141\n",
      "Epoch 4/10\n",
      "150/150 [==============================] - 9s 61ms/step - loss: 0.0041 - accuracy: 0.9998 - val_loss: 1.1214 - val_accuracy: 0.8220\n",
      "Epoch 5/10\n",
      "150/150 [==============================] - 9s 61ms/step - loss: 0.0018 - accuracy: 1.0000 - val_loss: 1.1745 - val_accuracy: 0.8210\n",
      "Epoch 6/10\n",
      "150/150 [==============================] - 9s 62ms/step - loss: 0.0012 - accuracy: 1.0000 - val_loss: 1.2006 - val_accuracy: 0.8215\n",
      "Epoch 7/10\n",
      "150/150 [==============================] - 10s 63ms/step - loss: 9.0419e-04 - accuracy: 1.0000 - val_loss: 1.2409 - val_accuracy: 0.8220\n",
      "Epoch 8/10\n",
      "150/150 [==============================] - 9s 60ms/step - loss: 7.2226e-04 - accuracy: 1.0000 - val_loss: 1.2697 - val_accuracy: 0.8229\n",
      "Epoch 9/10\n",
      "150/150 [==============================] - 11s 70ms/step - loss: 6.0174e-04 - accuracy: 1.0000 - val_loss: 1.2971 - val_accuracy: 0.8244\n",
      "Epoch 10/10\n",
      "150/150 [==============================] - 9s 63ms/step - loss: 5.1027e-04 - accuracy: 1.0000 - val_loss: 1.3138 - val_accuracy: 0.8244\n"
     ]
    },
    {
     "data": {
      "text/plain": [
       "<keras.callbacks.History at 0x7fec0ec05a50>"
      ]
     },
     "execution_count": 16,
     "metadata": {},
     "output_type": "execute_result"
    }
   ],
   "source": [
    "# Use categorical crossentropy for categorical data and mean squared error for regression\n",
    "model.compile(optimizer='adam',\n",
    "             loss='categorical_crossentropy',\n",
    "             metrics=['accuracy'])\n",
    "\n",
    "# Fit (train) the model\n",
    "model.fit(X_train, y_train,\n",
    "          validation_data=(X_test, y_test),\n",
    "          steps_per_epoch=200, epochs=20)\n",
    "\n",
    "model.fit(X_train, y_train,\n",
    "          validation_data=(X_test, y_test),\n",
    "          steps_per_epoch=150, epochs=10)"
   ]
  },
  {
   "cell_type": "code",
   "execution_count": 17,
   "metadata": {},
   "outputs": [],
   "source": [
    "# Save the model\n",
    "model.save(\"opt_a_trained.h5\")"
   ]
  },
  {
   "cell_type": "markdown",
   "metadata": {},
   "source": [
    "## Opt Model 2\n",
    "### Building, Compiling, Training our Model"
   ]
  },
  {
   "cell_type": "code",
   "execution_count": 21,
   "metadata": {},
   "outputs": [
    {
     "name": "stdout",
     "output_type": "stream",
     "text": [
      "Model: \"sequential_4\"\n",
      "_________________________________________________________________\n",
      " Layer (type)                Output Shape              Param #   \n",
      "=================================================================\n",
      " dense_14 (Dense)            (None, 48, 48, 100)       200       \n",
      "                                                                 \n",
      " max_pooling2d_10 (MaxPoolin  (None, 24, 24, 100)      0         \n",
      " g2D)                                                            \n",
      "                                                                 \n",
      " dense_15 (Dense)            (None, 24, 24, 200)       20200     \n",
      "                                                                 \n",
      " dense_16 (Dense)            (None, 24, 24, 400)       80400     \n",
      "                                                                 \n",
      " max_pooling2d_11 (MaxPoolin  (None, 12, 12, 400)      0         \n",
      " g2D)                                                            \n",
      "                                                                 \n",
      " flatten_4 (Flatten)         (None, 57600)             0         \n",
      "                                                                 \n",
      " dense_17 (Dense)            (None, 64)                3686464   \n",
      "                                                                 \n",
      " dense_18 (Dense)            (None, 2)                 130       \n",
      "                                                                 \n",
      "=================================================================\n",
      "Total params: 3,787,394\n",
      "Trainable params: 3,787,394\n",
      "Non-trainable params: 0\n",
      "_________________________________________________________________\n"
     ]
    }
   ],
   "source": [
    "# Create an empty sequential model\n",
    "model2 = Sequential()\n",
    "\n",
    "# Add the first layer where the input dimensions are the 784 pixel values\n",
    "# We can also choose our activation function. `relu` is a common\n",
    "model2.add(Dense(units=100, input_shape=(48,48,1), activation=\"relu\"))\n",
    "model2.add(MaxPool2D(pool_size=(2,2)))\n",
    "\n",
    "# Add a second hidden layer\n",
    "model2.add(Dense(units=200, activation=\"relu\"))\n",
    "\n",
    "# # Add a third hidden layer\n",
    "model2.add(Dense(units=400, activation=\"relu\"))\n",
    "model2.add(MaxPool2D(pool_size=(2,2)))\n",
    "\n",
    "# STEP--3 FLattening\n",
    "model2.add(Flatten())\n",
    "\n",
    "# STEP--4 Fully Connected Neural Network\n",
    "model2.add(Dense(64, activation='relu'))\n",
    "\n",
    "# Add our final output layer where the number of nodes \n",
    "# corresponds to the number of y labels\n",
    "model2.add(Dense(face_classes, activation=\"softmax\"))\n",
    "\n",
    "# We can summarize our model\n",
    "model2.summary()"
   ]
  },
  {
   "cell_type": "code",
   "execution_count": 26,
   "metadata": {},
   "outputs": [
    {
     "name": "stdout",
     "output_type": "stream",
     "text": [
      "Epoch 1/5\n",
      "200/200 [==============================] - 62s 303ms/step - loss: 0.6429 - accuracy: 0.6282 - val_loss: 0.6661 - val_accuracy: 0.5917\n",
      "Epoch 2/5\n",
      "200/200 [==============================] - 60s 299ms/step - loss: 0.6360 - accuracy: 0.6389 - val_loss: 0.6335 - val_accuracy: 0.6429\n",
      "Epoch 3/5\n",
      "200/200 [==============================] - 58s 292ms/step - loss: 0.6232 - accuracy: 0.6504 - val_loss: 0.6501 - val_accuracy: 0.6254\n",
      "Epoch 4/5\n",
      "200/200 [==============================] - 59s 294ms/step - loss: 0.6325 - accuracy: 0.6343 - val_loss: 0.6494 - val_accuracy: 0.6312\n",
      "Epoch 5/5\n",
      "180/200 [==========================>...] - ETA: 5s - loss: 0.6109 - accuracy: 0.6588WARNING:tensorflow:Your input ran out of data; interrupting training. Make sure that your dataset or generator can generate at least `steps_per_epoch * epochs` batches (in this case, 1000 batches). You may need to use the repeat() function when building your dataset.\n",
      "200/200 [==============================] - 53s 265ms/step - loss: 0.6109 - accuracy: 0.6588 - val_loss: 0.6665 - val_accuracy: 0.6254\n"
     ]
    },
    {
     "data": {
      "text/plain": [
       "<keras.callbacks.History at 0x7fe6be019610>"
      ]
     },
     "execution_count": 26,
     "metadata": {},
     "output_type": "execute_result"
    }
   ],
   "source": [
    "# Use categorical crossentropy for categorical data and mean squared error for regression\n",
    "model2.compile(optimizer='adam',\n",
    "             loss='categorical_crossentropy',\n",
    "             metrics=['accuracy'])\n",
    "\n",
    "Fit (train) the model\n",
    "model2.fit(X_train, y_train,\n",
    "    validation_data=(X_test, y_test),\n",
    "    steps_per_epoch=100, epochs=7,\n",
    "    shuffle=True, verbose=1)\n",
    "\n",
    "model2.fit(X_train, y_train,\n",
    "    validation_data=(X_test, y_test),\n",
    "    steps_per_epoch=200, epochs=5,\n",
    "    shuffle=True, verbose=1)"
   ]
  },
  {
   "cell_type": "code",
   "execution_count": 27,
   "metadata": {},
   "outputs": [],
   "source": [
    "# Save the model\n",
    "model2.save(\"opt_b_trained.h5\")"
   ]
  },
  {
   "cell_type": "markdown",
   "metadata": {},
   "source": [
    "## Opt Model 3\n",
    "### Building, Compiling, Training our Model"
   ]
  },
  {
   "cell_type": "code",
   "execution_count": 23,
   "metadata": {},
   "outputs": [
    {
     "name": "stdout",
     "output_type": "stream",
     "text": [
      "Model: \"sequential_5\"\n",
      "_________________________________________________________________\n",
      " Layer (type)                Output Shape              Param #   \n",
      "=================================================================\n",
      " dense_19 (Dense)            (None, 48, 48, 48)        96        \n",
      "                                                                 \n",
      " conv2d_6 (Conv2D)           (None, 45, 45, 12)        9228      \n",
      "                                                                 \n",
      " max_pooling2d_12 (MaxPoolin  (None, 15, 15, 12)       0         \n",
      " g2D)                                                            \n",
      "                                                                 \n",
      " dense_20 (Dense)            (None, 15, 15, 24)        312       \n",
      "                                                                 \n",
      " conv2d_7 (Conv2D)           (None, 12, 12, 24)        9240      \n",
      "                                                                 \n",
      " max_pooling2d_13 (MaxPoolin  (None, 6, 6, 24)         0         \n",
      " g2D)                                                            \n",
      "                                                                 \n",
      " dense_21 (Dense)            (None, 6, 6, 12)          300       \n",
      "                                                                 \n",
      " conv2d_8 (Conv2D)           (None, 3, 3, 48)          9264      \n",
      "                                                                 \n",
      " max_pooling2d_14 (MaxPoolin  (None, 1, 1, 48)         0         \n",
      " g2D)                                                            \n",
      "                                                                 \n",
      " flatten_5 (Flatten)         (None, 48)                0         \n",
      "                                                                 \n",
      " dense_22 (Dense)            (None, 2)                 98        \n",
      "                                                                 \n",
      "=================================================================\n",
      "Total params: 28,538\n",
      "Trainable params: 28,538\n",
      "Non-trainable params: 0\n",
      "_________________________________________________________________\n"
     ]
    }
   ],
   "source": [
    "# Create an empty sequential model\n",
    "model3 = Sequential()\n",
    "\n",
    "# Add the first layer where the input shape is the 48, 48, 1 pixel values\n",
    "# We can also choose our activation function. `relu` is a common\n",
    "model3.add(Dense(48, input_shape=(48,48,1), activation=\"relu\"))\n",
    "model3.add(Conv2D(filters=12, kernel_size=4, strides=1, activation='relu', input_shape=(48,48,1)))\n",
    "model3.add(MaxPool2D(pool_size=(3,3)))\n",
    "\n",
    "# Add a second hidden layer\n",
    "model3.add(Dense(24, activation=\"relu\"))\n",
    "model3.add(Conv2D(filters=24, kernel_size=4, strides=1, activation='relu', input_shape=(48,48,1)))\n",
    "model3.add(MaxPool2D(pool_size=(2,2)))\n",
    "\n",
    "# Add a third hidden layer\n",
    "model3.add(Dense(12, activation=\"relu\"))\n",
    "model3.add(Conv2D(filters=48, kernel_size=4, strides=1, activation='relu', input_shape=(48,48,1)))\n",
    "model3.add(MaxPool2D(pool_size=(2,2)))\n",
    "\n",
    "# STEP--3 FLattening\n",
    "model3.add(Flatten())\n",
    "\n",
    "# Add our final output layer where the number of nodes \n",
    "# corresponds to the number of y labels\n",
    "model3.add(Dense(face_classes, activation=\"softmax\"))\n",
    "\n",
    "# We can summarize our model\n",
    "model3.summary()"
   ]
  },
  {
   "cell_type": "code",
   "execution_count": 30,
   "metadata": {},
   "outputs": [
    {
     "name": "stdout",
     "output_type": "stream",
     "text": [
      "Epoch 1/5\n",
      "100/100 [==============================] - 59s 578ms/step - loss: 0.4267 - accuracy: 0.7999 - val_loss: 0.5364 - val_accuracy: 0.7395\n",
      "Epoch 2/5\n",
      "100/100 [==============================] - 61s 609ms/step - loss: 0.3915 - accuracy: 0.8169 - val_loss: 0.5088 - val_accuracy: 0.7576\n",
      "Epoch 3/5\n",
      "100/100 [==============================] - 63s 634ms/step - loss: 0.3822 - accuracy: 0.8309 - val_loss: 0.5217 - val_accuracy: 0.7659\n",
      "Epoch 4/5\n",
      "100/100 [==============================] - 58s 585ms/step - loss: 0.3572 - accuracy: 0.8418 - val_loss: 0.5007 - val_accuracy: 0.7702\n",
      "Epoch 5/5\n",
      " 95/100 [===========================>..] - ETA: 2s - loss: 0.3509 - accuracy: 0.8471WARNING:tensorflow:Your input ran out of data; interrupting training. Make sure that your dataset or generator can generate at least `steps_per_epoch * epochs` batches (in this case, 500 batches). You may need to use the repeat() function when building your dataset.\n",
      "100/100 [==============================] - 54s 541ms/step - loss: 0.3509 - accuracy: 0.8471 - val_loss: 0.5226 - val_accuracy: 0.7707\n"
     ]
    },
    {
     "data": {
      "text/plain": [
       "<keras.callbacks.History at 0x7fe6bfc54790>"
      ]
     },
     "execution_count": 30,
     "metadata": {},
     "output_type": "execute_result"
    }
   ],
   "source": [
    "# Use categorical crossentropy for categorical data and mean squared error for regression\n",
    "model3.compile(optimizer='adam',\n",
    "             loss='categorical_crossentropy',\n",
    "             metrics=['accuracy'])\n",
    "\n",
    "Fit (train) the model\n",
    "model3.fit(X_train, y_train,\n",
    "           validation_data=(X_test, y_test),\n",
    "           steps_per_epoch=50, epochs=10, shuffle=True)\n",
    "\n",
    "model3.fit(X_train, y_train,\n",
    "           validation_data=(X_test, y_test),\n",
    "           steps_per_epoch=100, epochs=5, shuffle=True)"
   ]
  },
  {
   "cell_type": "code",
   "execution_count": 31,
   "metadata": {},
   "outputs": [],
   "source": [
    "# Save the model\n",
    "model3.save(\"opt_c_trained.h5\")"
   ]
  },
  {
   "cell_type": "markdown",
   "metadata": {},
   "source": [
    "## Evaluating the Models\n",
    "\n",
    "We use our testing data to validate our model. This is how we determine the validity of our model (i.e. the ability to predict new and previously unseen data points)"
   ]
  },
  {
   "cell_type": "code",
   "execution_count": 32,
   "metadata": {},
   "outputs": [
    {
     "name": "stdout",
     "output_type": "stream",
     "text": [
      "\u001b[1mModel 1\u001b[0m\n",
      "65/65 - 1s - loss: 1.3138 - accuracy: 0.8244 - 584ms/epoch - 9ms/step\n",
      "Loss: 1.3137544393539429, Accuracy: 0.8243902325630188\n",
      "\n",
      "\u001b[1mModel 2\u001b[0m\n",
      "65/65 - 4s - loss: 0.6665 - accuracy: 0.6254 - 4s/epoch - 68ms/step\n",
      "Loss: 0.6664939522743225, Accuracy: 0.6253658533096313\n",
      "\n",
      "\u001b[1mModel 3\u001b[0m\n",
      "65/65 - 2s - loss: 0.5226 - accuracy: 0.7707 - 2s/epoch - 34ms/step\n",
      "Loss: 0.5225715637207031, Accuracy: 0.7707316875457764\n"
     ]
    }
   ],
   "source": [
    "# Evaluate the modules using the training data \n",
    "print(f\"\\033[1mModel 1\\033[0m\")\n",
    "model_loss, model_accuracy = model.evaluate(X_test, y_test,verbose=2)\n",
    "print(f\"Loss: {model_loss}, Accuracy: {model_accuracy}\\n\")\n",
    "\n",
    "print(f\"\\033[1mModel 2\\033[0m\")\n",
    "model2_loss, model2_accuracy = model2.evaluate(X_test, y_test,verbose=2)\n",
    "print(f\"Loss: {model2_loss}, Accuracy: {model2_accuracy}\\n\")\n",
    "\n",
    "print(f\"\\033[1mModel 3\\033[0m\")\n",
    "model3_loss, model3_accuracy = model3.evaluate(X_test, y_test,verbose=2)\n",
    "print(f\"Loss: {model3_loss}, Accuracy: {model3_accuracy}\")"
   ]
  },
  {
   "cell_type": "markdown",
   "metadata": {},
   "source": [
    "## Making Predictions\n",
    "\n",
    "We can use our trained models to make predictions using `model.predict`"
   ]
  },
  {
   "cell_type": "code",
   "execution_count": null,
   "metadata": {},
   "outputs": [],
   "source": [
    "# # Labeling finding \"Happy\" or \"Sad\" \n",
    "# def happy_or_sad(x):\n",
    "#     score = np.argmax(predictions)\n",
    "#     if score == 1:\n",
    "#         return \"Sad\"\n",
    "#     return \"Happy\"\n",
    "# print('Predicted:', predictions, happy_or_sad(predictions))\n",
    "\n",
    "# # Labeling finding \"Happy\" or \"Sad\" \n",
    "# def happy_or_sad(x):\n",
    "#     predictions = x.predict(test)\n",
    "#     score = np.argmax(predictions)\n",
    "#     if score == 1:\n",
    "#         return \"Sad\"\n",
    "#     return \"Happy\"\n",
    "# print(f\"\\033[1mModel 1\\033[0m \\n Prediction: {predictions} \\n Image Emotion is: {happy_or_sad(model)} \\n\")\n"
   ]
  },
  {
   "cell_type": "code",
   "execution_count": 93,
   "metadata": {},
   "outputs": [],
   "source": [
    "# Labeling finding \"Happy\" or \"Sad\" \n",
    "def happy_or_sad(x):\n",
    "    predictions = x.predict(test)\n",
    "    score = np.argmax(predictions)\n",
    "    if score == 1:\n",
    "        return f\"Prediction: {predictions} \\nImage Emotion is: Sad\\n\"\n",
    "    return f\"Prediction: {predictions} \\nImage Emotion is: Happy\\n\""
   ]
  },
  {
   "cell_type": "code",
   "execution_count": 101,
   "metadata": {},
   "outputs": [
    {
     "data": {
      "text/plain": [
       "(1, 48, 48, 1)"
      ]
     },
     "execution_count": 101,
     "metadata": {},
     "output_type": "execute_result"
    }
   ],
   "source": [
    "# Grab just one data point to test with\n",
    "test = np.expand_dims(X_train[7], axis=0)\n",
    "test.shape"
   ]
  },
  {
   "cell_type": "code",
   "execution_count": 102,
   "metadata": {},
   "outputs": [
    {
     "name": "stdout",
     "output_type": "stream",
     "text": [
      "\u001b[1mModel 1\u001b[0m\n",
      "1/1 [==============================] - 0s 23ms/step\n",
      "Prediction: [[1.0000000e+00 6.1538516e-14]] \n",
      "Image Emotion is: Happy\n",
      "\n",
      "\u001b[1mModel 2\u001b[0m\n",
      "1/1 [==============================] - 0s 42ms/step\n",
      "Prediction: [[0.6757323  0.32426766]] \n",
      "Image Emotion is: Happy\n",
      "\n",
      "\u001b[1mModel 3\u001b[0m\n",
      "1/1 [==============================] - 0s 29ms/step\n",
      "Prediction: [[0.97109926 0.02890073]] \n",
      "Image Emotion is: Happy\n",
      "\n"
     ]
    },
    {
     "data": {
      "text/plain": [
       "<matplotlib.image.AxesImage at 0x7fe6c3b3e150>"
      ]
     },
     "execution_count": 102,
     "metadata": {},
     "output_type": "execute_result"
    },
    {
     "data": {
      "image/png": "[encoded data removed]",
      "text/plain": [
       "<Figure size 640x480 with 1 Axes>"
      ]
     },
     "metadata": {},
     "output_type": "display_data"
    }
   ],
   "source": [
    "print(f\"\\033[1mModel 1\\033[0m\")\n",
    "print(happy_or_sad(model))\n",
    "\n",
    "print(f\"\\033[1mModel 2\\033[0m\")\n",
    "print(happy_or_sad(model2))\n",
    "\n",
    "print(f\"\\033[1mModel 3\\033[0m\")\n",
    "print(happy_or_sad(model3))\n",
    "\n",
    "\n",
    "# print(f\"\\033[1mModel 1\\033[0m\")\n",
    "# print(f\"Prediction: {model.predict(test)} \\n\")\n",
    "\n",
    "# print(f\"\\033[1mModel 2\\033[0m\")\n",
    "# print(f\"Prediction: {model2.predict(test)} \\n\")\n",
    "\n",
    "# print(f\"\\033[1mModel 3\\033[0m\")\n",
    "# print(f\"Prediction: {model3.predict(test)} \\n\")\n",
    "\n",
    "test_img = test.reshape(48, 48)\n",
    "plt.imshow(test_img)"
   ]
  },
  {
   "cell_type": "code",
   "execution_count": 35,
   "metadata": {},
   "outputs": [
    {
     "name": "stdout",
     "output_type": "stream",
     "text": [
      "Original Dimensions: (356, 356)\n",
      "Resized Dimensions: (48, 48)\n"
     ]
    }
   ],
   "source": [
    "# Let's grab a picture from the internet and make a prediction\n",
    "from PIL import Image\n",
    "\n",
    "# Open the image file and check it's dimensions\n",
    "image = Image.open('resources/mona_lisa_sg.png')\n",
    "print(f\"Original Dimensions: {image.size}\") # 356,356\n",
    "\n",
    "# Resize the original file to our desired 48x48, confirm and save\n",
    "image_resized = image.resize((48, 48))\n",
    "image_resized.save('resources/mona_lisa_48.png')\n",
    "print(f\"Resized Dimensions: {image_resized.size}\") "
   ]
  },
  {
   "cell_type": "code",
   "execution_count": 99,
   "metadata": {},
   "outputs": [
    {
     "data": {
      "text/plain": [
       "(1, 48, 48, 1)"
      ]
     },
     "execution_count": 99,
     "metadata": {},
     "output_type": "execute_result"
    }
   ],
   "source": [
    "import cv2\n",
    "import matplotlib.pyplot as plt\n",
    "\n",
    "# Read the image file, convert to gray scale, reshape\n",
    "img = cv2.imread('resources/mona_lisa_48.png')\n",
    "gray_img = cv2.cvtColor(img, cv2.COLOR_BGR2GRAY)\n",
    "test = gray_img.reshape(-1, 48, 48, 1)\n",
    "test.shape"
   ]
  },
  {
   "cell_type": "code",
   "execution_count": 100,
   "metadata": {},
   "outputs": [
    {
     "name": "stdout",
     "output_type": "stream",
     "text": [
      "\u001b[1mModel 1\u001b[0m\n",
      "1/1 [==============================] - 0s 21ms/step\n",
      "Prediction: [[0.75270414 0.24729584]] \n",
      "Image Emotion is: Happy\n",
      "\n",
      "\u001b[1mModel 2\u001b[0m\n",
      "1/1 [==============================] - 0s 25ms/step\n",
      "Prediction: [[0.3062895 0.6937105]] \n",
      "Image Emotion is: Sad\n",
      "\n",
      "\u001b[1mModel 3\u001b[0m\n",
      "1/1 [==============================] - 0s 31ms/step\n",
      "Prediction: [[0.19371314 0.8062868 ]] \n",
      "Image Emotion is: Sad\n",
      "\n"
     ]
    },
    {
     "data": {
      "text/plain": [
       "<matplotlib.image.AxesImage at 0x7fe6c0e89e50>"
      ]
     },
     "execution_count": 100,
     "metadata": {},
     "output_type": "execute_result"
    },
    {
     "data": {
      "image/png": "[encoded data removed]",
      "text/plain": [
       "<Figure size 640x480 with 1 Axes>"
      ]
     },
     "metadata": {},
     "output_type": "display_data"
    }
   ],
   "source": [
    "# Make THE prediction\n",
    "print(f\"\\033[1mModel 1\\033[0m\")\n",
    "print(happy_or_sad(model))\n",
    "\n",
    "print(f\"\\033[1mModel 2\\033[0m\")\n",
    "print(happy_or_sad(model2))\n",
    "\n",
    "print(f\"\\033[1mModel 3\\033[0m\")\n",
    "print(happy_or_sad(model3))\n",
    "\n",
    "plt.imshow(gray_img)\n",
    "\n",
    "# print(f\"\\033[1mModel 1\\033[0m\")\n",
    "# print(f\"Prediction: {model.predict(test_img)} \\n\")\n",
    "\n",
    "# print(f\"\\033[1mModel 2\\033[0m\")\n",
    "# print(f\"Prediction: {model2.predict(test_img)} \\n\")\n",
    "\n",
    "# print(f\"\\033[1mModel 3\\033[0m\")\n",
    "# print(f\"Prediction: {model3.predict(test_img)} \\n\")"
   ]
  },
  {
   "cell_type": "code",
   "execution_count": 95,
   "metadata": {},
   "outputs": [
    {
     "name": "stdout",
     "output_type": "stream",
     "text": [
      "Original Dimensions: (452, 475)\n",
      "Resized Dimensions: (48, 48)\n"
     ]
    }
   ],
   "source": [
    "# Open the image file and check it's dimensions\n",
    "image = Image.open('resources/don_trump_sg.png')\n",
    "print(f\"Original Dimensions: {image.size}\") # 452,475\n",
    "\n",
    "# Resize the original file to our desired 48x48, confirm and save\n",
    "image_resized = image.resize((48, 48))\n",
    "image_resized.save('resources/don_trump_48.png')\n",
    "print(f\"Resized Dimensions: {image_resized.size}\") "
   ]
  },
  {
   "cell_type": "code",
   "execution_count": 96,
   "metadata": {},
   "outputs": [
    {
     "data": {
      "text/plain": [
       "(1, 48, 48, 1)"
      ]
     },
     "execution_count": 96,
     "metadata": {},
     "output_type": "execute_result"
    }
   ],
   "source": [
    "# Read the image file, convert to gray scale, reshape\n",
    "img = cv2.imread('resources/don_trump_48.png')\n",
    "gray_img = cv2.cvtColor(img, cv2.COLOR_BGR2GRAY)\n",
    "test_img = gray_img.reshape(-1, 48, 48, 1)\n",
    "test_img.shape"
   ]
  },
  {
   "cell_type": "code",
   "execution_count": 97,
   "metadata": {},
   "outputs": [
    {
     "name": "stdout",
     "output_type": "stream",
     "text": [
      "\u001b[1mModel 1\u001b[0m\n",
      "1/1 [==============================] - 0s 20ms/step\n",
      "Prediction: [[0.75270414 0.24729584]] \n",
      "Image Emotion is: Happy\n",
      "\n",
      "\u001b[1mModel 2\u001b[0m\n",
      "1/1 [==============================] - 0s 25ms/step\n",
      "Prediction: [[0.3062895 0.6937105]] \n",
      "Image Emotion is: Sad\n",
      "\n",
      "\u001b[1mModel 3\u001b[0m\n",
      "1/1 [==============================] - 0s 24ms/step\n",
      "Prediction: [[0.19371314 0.8062868 ]] \n",
      "Image Emotion is: Sad\n",
      "\n"
     ]
    },
    {
     "data": {
      "text/plain": [
       "<matplotlib.image.AxesImage at 0x7fe6c1f21f50>"
      ]
     },
     "execution_count": 97,
     "metadata": {},
     "output_type": "execute_result"
    },
    {
     "data": {
      "image/png": "[encoded data removed]",
      "text/plain": [
       "<Figure size 640x480 with 1 Axes>"
      ]
     },
     "metadata": {},
     "output_type": "display_data"
    }
   ],
   "source": [
    "# Make a lesser prediction\n",
    "print(f\"\\033[1mModel 1\\033[0m\")\n",
    "print(happy_or_sad(model))\n",
    "\n",
    "print(f\"\\033[1mModel 2\\033[0m\")\n",
    "print(happy_or_sad(model2))\n",
    "\n",
    "print(f\"\\033[1mModel 3\\033[0m\")\n",
    "print(happy_or_sad(model3))\n",
    "\n",
    "plt.imshow(gray_img)"
   ]
  },
  {
   "cell_type": "code",
   "execution_count": null,
   "metadata": {},
   "outputs": [],
   "source": []
  }
 ],
 "metadata": {
  "kernelspec": {
   "display_name": "Python 3 (ipykernel)",
   "language": "python",
   "name": "python3"
  },
  "language_info": {
   "codemirror_mode": {
    "name": "ipython",
    "version": 3
   },
   "file_extension": ".py",
   "mimetype": "text/x-python",
   "name": "python",
   "nbconvert_exporter": "python",
   "pygments_lexer": "ipython3",
   "version": "3.7.13"
  }
 },
 "nbformat": 4,
 "nbformat_minor": 4
}
