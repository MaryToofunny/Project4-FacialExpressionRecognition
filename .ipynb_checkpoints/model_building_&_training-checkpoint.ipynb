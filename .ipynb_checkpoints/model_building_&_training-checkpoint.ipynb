{
 "cells": [
  {
   "cell_type": "markdown",
   "metadata": {},
   "source": [
    "## Preprocessing"
   ]
  },
  {
   "cell_type": "code",
   "execution_count": 2,
   "metadata": {
    "scrolled": true
   },
   "outputs": [
    {
     "name": "stderr",
     "output_type": "stream",
     "text": [
      "2023-04-11 19:26:17.039879: I tensorflow/core/platform/cpu_feature_guard.cc:193] This TensorFlow binary is optimized with oneAPI Deep Neural Network Library (oneDNN) to use the following CPU instructions in performance-critical operations:  AVX2 FMA\n",
      "To enable them in other operations, rebuild TensorFlow with the appropriate compiler flags.\n"
     ]
    }
   ],
   "source": [
    "# Import our dependencies\n",
    "%matplotlib inline\n",
    "from sklearn.model_selection import train_test_split\n",
    "from sklearn.preprocessing import StandardScaler, MinMaxScaler, OneHotEncoder\n",
    "import pandas as pd\n",
    "import tensorflow as tf\n",
    "import os\n",
    "\n",
    "from IPython.display import Image, SVG\n",
    "import matplotlib.pyplot as plt\n",
    "import numpy as np\n",
    "np.random.seed(0)"
   ]
  },
  {
   "cell_type": "markdown",
   "metadata": {},
   "source": [
    "# Keras Specific Dependencies"
   ]
  },
  {
   "cell_type": "code",
   "execution_count": 2,
   "metadata": {},
   "outputs": [],
   "source": [
    "from tensorflow import keras\n",
    "from tensorflow.keras.preprocessing import image\n",
    "from tensorflow.keras.applications.vgg19 import (\n",
    "    VGG19, \n",
    "    preprocess_input, \n",
    "    decode_predictions\n",
    ")"
   ]
  },
  {
   "cell_type": "code",
   "execution_count": 13,
   "metadata": {},
   "outputs": [],
   "source": [
    "# Keras\n",
    "from tensorflow import keras\n",
    "from tensorflow.keras.models import Sequential\n",
    "from tensorflow.keras.utils import to_categorical\n",
    "from tensorflow.keras.layers import Dense\n",
    "from tensorflow.keras.datasets import mnist"
   ]
  },
  {
   "cell_type": "markdown",
   "metadata": {},
   "source": [
    "# Loading and Preprocessing our Data"
   ]
  },
  {
   "cell_type": "code",
   "execution_count": 13,
   "metadata": {
    "scrolled": true
   },
   "outputs": [
    {
     "data": {
      "text/html": [
       "<div>\n",
       "<style scoped>\n",
       "    .dataframe tbody tr th:only-of-type {\n",
       "        vertical-align: middle;\n",
       "    }\n",
       "\n",
       "    .dataframe tbody tr th {\n",
       "        vertical-align: top;\n",
       "    }\n",
       "\n",
       "    .dataframe thead th {\n",
       "        text-align: right;\n",
       "    }\n",
       "</style>\n",
       "<table border=\"1\" class=\"dataframe\">\n",
       "  <thead>\n",
       "    <tr style=\"text-align: right;\">\n",
       "      <th></th>\n",
       "      <th>0</th>\n",
       "      <th>1</th>\n",
       "      <th>2</th>\n",
       "      <th>3</th>\n",
       "      <th>4</th>\n",
       "      <th>5</th>\n",
       "      <th>6</th>\n",
       "      <th>7</th>\n",
       "      <th>8</th>\n",
       "      <th>9</th>\n",
       "      <th>...</th>\n",
       "      <th>2294</th>\n",
       "      <th>2295</th>\n",
       "      <th>2296</th>\n",
       "      <th>2297</th>\n",
       "      <th>2298</th>\n",
       "      <th>2299</th>\n",
       "      <th>2300</th>\n",
       "      <th>2301</th>\n",
       "      <th>2302</th>\n",
       "      <th>2303</th>\n",
       "    </tr>\n",
       "  </thead>\n",
       "  <tbody>\n",
       "    <tr>\n",
       "      <th>0</th>\n",
       "      <td>4,59</td>\n",
       "      <td>71</td>\n",
       "      <td>89</td>\n",
       "      <td>118</td>\n",
       "      <td>139</td>\n",
       "      <td>160</td>\n",
       "      <td>183</td>\n",
       "      <td>222</td>\n",
       "      <td>212</td>\n",
       "      <td>148</td>\n",
       "      <td>...</td>\n",
       "      <td>0</td>\n",
       "      <td>0</td>\n",
       "      <td>0</td>\n",
       "      <td>0</td>\n",
       "      <td>0</td>\n",
       "      <td>0</td>\n",
       "      <td>0</td>\n",
       "      <td>0</td>\n",
       "      <td>1</td>\n",
       "      <td>0,Sad</td>\n",
       "    </tr>\n",
       "    <tr>\n",
       "      <th>1</th>\n",
       "      <td>0,144</td>\n",
       "      <td>149</td>\n",
       "      <td>129</td>\n",
       "      <td>114</td>\n",
       "      <td>119</td>\n",
       "      <td>124</td>\n",
       "      <td>125</td>\n",
       "      <td>135</td>\n",
       "      <td>145</td>\n",
       "      <td>141</td>\n",
       "      <td>...</td>\n",
       "      <td>122</td>\n",
       "      <td>115</td>\n",
       "      <td>115</td>\n",
       "      <td>128</td>\n",
       "      <td>113</td>\n",
       "      <td>64</td>\n",
       "      <td>73</td>\n",
       "      <td>77</td>\n",
       "      <td>81</td>\n",
       "      <td>88,Angry</td>\n",
       "    </tr>\n",
       "    <tr>\n",
       "      <th>2</th>\n",
       "      <td>4,90</td>\n",
       "      <td>97</td>\n",
       "      <td>105</td>\n",
       "      <td>42</td>\n",
       "      <td>41</td>\n",
       "      <td>41</td>\n",
       "      <td>37</td>\n",
       "      <td>40</td>\n",
       "      <td>36</td>\n",
       "      <td>55</td>\n",
       "      <td>...</td>\n",
       "      <td>91</td>\n",
       "      <td>44</td>\n",
       "      <td>42</td>\n",
       "      <td>48</td>\n",
       "      <td>83</td>\n",
       "      <td>107</td>\n",
       "      <td>105</td>\n",
       "      <td>77</td>\n",
       "      <td>51</td>\n",
       "      <td>32,Sad</td>\n",
       "    </tr>\n",
       "    <tr>\n",
       "      <th>3</th>\n",
       "      <td>1,69</td>\n",
       "      <td>72</td>\n",
       "      <td>80</td>\n",
       "      <td>87</td>\n",
       "      <td>95</td>\n",
       "      <td>102</td>\n",
       "      <td>112</td>\n",
       "      <td>123</td>\n",
       "      <td>131</td>\n",
       "      <td>137</td>\n",
       "      <td>...</td>\n",
       "      <td>163</td>\n",
       "      <td>169</td>\n",
       "      <td>178</td>\n",
       "      <td>186</td>\n",
       "      <td>189</td>\n",
       "      <td>192</td>\n",
       "      <td>195</td>\n",
       "      <td>201</td>\n",
       "      <td>208</td>\n",
       "      <td>215,Disgust</td>\n",
       "    </tr>\n",
       "    <tr>\n",
       "      <th>4</th>\n",
       "      <td>0,134</td>\n",
       "      <td>135</td>\n",
       "      <td>136</td>\n",
       "      <td>137</td>\n",
       "      <td>142</td>\n",
       "      <td>122</td>\n",
       "      <td>46</td>\n",
       "      <td>47</td>\n",
       "      <td>36</td>\n",
       "      <td>25</td>\n",
       "      <td>...</td>\n",
       "      <td>171</td>\n",
       "      <td>173</td>\n",
       "      <td>180</td>\n",
       "      <td>109</td>\n",
       "      <td>1</td>\n",
       "      <td>4</td>\n",
       "      <td>5</td>\n",
       "      <td>6</td>\n",
       "      <td>5</td>\n",
       "      <td>5,Angry</td>\n",
       "    </tr>\n",
       "  </tbody>\n",
       "</table>\n",
       "<p>5 rows × 2304 columns</p>\n",
       "</div>"
      ],
      "text/plain": [
       "    0     1     2     3     4     5     6     7     8     9     ...  2294  \\\n",
       "0   4,59    71    89   118   139   160   183   222   212   148  ...     0   \n",
       "1  0,144   149   129   114   119   124   125   135   145   141  ...   122   \n",
       "2   4,90    97   105    42    41    41    37    40    36    55  ...    91   \n",
       "3   1,69    72    80    87    95   102   112   123   131   137  ...   163   \n",
       "4  0,134   135   136   137   142   122    46    47    36    25  ...   171   \n",
       "\n",
       "   2295  2296  2297  2298  2299  2300  2301  2302         2303  \n",
       "0     0     0     0     0     0     0     0     1        0,Sad  \n",
       "1   115   115   128   113    64    73    77    81     88,Angry  \n",
       "2    44    42    48    83   107   105    77    51       32,Sad  \n",
       "3   169   178   186   189   192   195   201   208  215,Disgust  \n",
       "4   173   180   109     1     4     5     6     5      5,Angry  \n",
       "\n",
       "[5 rows x 2304 columns]"
      ]
     },
     "execution_count": 13,
     "metadata": {},
     "output_type": "execute_result"
    }
   ],
   "source": [
    "metadata_df = pd.read_csv(\"resources/metadata.csv\", header=None, delimiter=\" \")\n",
    "metadata_df.head()"
   ]
  },
  {
   "cell_type": "code",
   "execution_count": 14,
   "metadata": {
    "scrolled": true
   },
   "outputs": [],
   "source": [
    "emotions = metadata_df[2303].str.split(\",\", expand = True)\n",
    "labels = metadata_df[0].str.split(\",\", expand = True)"
   ]
  },
  {
   "cell_type": "code",
   "execution_count": 15,
   "metadata": {},
   "outputs": [
    {
     "data": {
      "text/html": [
       "<div>\n",
       "<style scoped>\n",
       "    .dataframe tbody tr th:only-of-type {\n",
       "        vertical-align: middle;\n",
       "    }\n",
       "\n",
       "    .dataframe tbody tr th {\n",
       "        vertical-align: top;\n",
       "    }\n",
       "\n",
       "    .dataframe thead th {\n",
       "        text-align: right;\n",
       "    }\n",
       "</style>\n",
       "<table border=\"1\" class=\"dataframe\">\n",
       "  <thead>\n",
       "    <tr style=\"text-align: right;\">\n",
       "      <th></th>\n",
       "      <th>0</th>\n",
       "      <th>1</th>\n",
       "      <th>2</th>\n",
       "      <th>3</th>\n",
       "      <th>4</th>\n",
       "      <th>5</th>\n",
       "      <th>6</th>\n",
       "      <th>7</th>\n",
       "      <th>8</th>\n",
       "      <th>9</th>\n",
       "      <th>...</th>\n",
       "      <th>2296</th>\n",
       "      <th>2297</th>\n",
       "      <th>2298</th>\n",
       "      <th>2299</th>\n",
       "      <th>2300</th>\n",
       "      <th>2301</th>\n",
       "      <th>2302</th>\n",
       "      <th>2303</th>\n",
       "      <th>Labels</th>\n",
       "      <th>Emotions</th>\n",
       "    </tr>\n",
       "  </thead>\n",
       "  <tbody>\n",
       "    <tr>\n",
       "      <th>0</th>\n",
       "      <td>59</td>\n",
       "      <td>71</td>\n",
       "      <td>89</td>\n",
       "      <td>118</td>\n",
       "      <td>139</td>\n",
       "      <td>160</td>\n",
       "      <td>183</td>\n",
       "      <td>222</td>\n",
       "      <td>212</td>\n",
       "      <td>148</td>\n",
       "      <td>...</td>\n",
       "      <td>0</td>\n",
       "      <td>0</td>\n",
       "      <td>0</td>\n",
       "      <td>0</td>\n",
       "      <td>0</td>\n",
       "      <td>0</td>\n",
       "      <td>1</td>\n",
       "      <td>0</td>\n",
       "      <td>4</td>\n",
       "      <td>Sad</td>\n",
       "    </tr>\n",
       "    <tr>\n",
       "      <th>1</th>\n",
       "      <td>144</td>\n",
       "      <td>149</td>\n",
       "      <td>129</td>\n",
       "      <td>114</td>\n",
       "      <td>119</td>\n",
       "      <td>124</td>\n",
       "      <td>125</td>\n",
       "      <td>135</td>\n",
       "      <td>145</td>\n",
       "      <td>141</td>\n",
       "      <td>...</td>\n",
       "      <td>115</td>\n",
       "      <td>128</td>\n",
       "      <td>113</td>\n",
       "      <td>64</td>\n",
       "      <td>73</td>\n",
       "      <td>77</td>\n",
       "      <td>81</td>\n",
       "      <td>88</td>\n",
       "      <td>0</td>\n",
       "      <td>Angry</td>\n",
       "    </tr>\n",
       "    <tr>\n",
       "      <th>2</th>\n",
       "      <td>90</td>\n",
       "      <td>97</td>\n",
       "      <td>105</td>\n",
       "      <td>42</td>\n",
       "      <td>41</td>\n",
       "      <td>41</td>\n",
       "      <td>37</td>\n",
       "      <td>40</td>\n",
       "      <td>36</td>\n",
       "      <td>55</td>\n",
       "      <td>...</td>\n",
       "      <td>42</td>\n",
       "      <td>48</td>\n",
       "      <td>83</td>\n",
       "      <td>107</td>\n",
       "      <td>105</td>\n",
       "      <td>77</td>\n",
       "      <td>51</td>\n",
       "      <td>32</td>\n",
       "      <td>4</td>\n",
       "      <td>Sad</td>\n",
       "    </tr>\n",
       "    <tr>\n",
       "      <th>3</th>\n",
       "      <td>69</td>\n",
       "      <td>72</td>\n",
       "      <td>80</td>\n",
       "      <td>87</td>\n",
       "      <td>95</td>\n",
       "      <td>102</td>\n",
       "      <td>112</td>\n",
       "      <td>123</td>\n",
       "      <td>131</td>\n",
       "      <td>137</td>\n",
       "      <td>...</td>\n",
       "      <td>178</td>\n",
       "      <td>186</td>\n",
       "      <td>189</td>\n",
       "      <td>192</td>\n",
       "      <td>195</td>\n",
       "      <td>201</td>\n",
       "      <td>208</td>\n",
       "      <td>215</td>\n",
       "      <td>1</td>\n",
       "      <td>Disgust</td>\n",
       "    </tr>\n",
       "    <tr>\n",
       "      <th>4</th>\n",
       "      <td>134</td>\n",
       "      <td>135</td>\n",
       "      <td>136</td>\n",
       "      <td>137</td>\n",
       "      <td>142</td>\n",
       "      <td>122</td>\n",
       "      <td>46</td>\n",
       "      <td>47</td>\n",
       "      <td>36</td>\n",
       "      <td>25</td>\n",
       "      <td>...</td>\n",
       "      <td>180</td>\n",
       "      <td>109</td>\n",
       "      <td>1</td>\n",
       "      <td>4</td>\n",
       "      <td>5</td>\n",
       "      <td>6</td>\n",
       "      <td>5</td>\n",
       "      <td>5</td>\n",
       "      <td>0</td>\n",
       "      <td>Angry</td>\n",
       "    </tr>\n",
       "  </tbody>\n",
       "</table>\n",
       "<p>5 rows × 2306 columns</p>\n",
       "</div>"
      ],
      "text/plain": [
       "     0    1    2    3    4    5    6    7    8    9  ...  2296  2297  2298  \\\n",
       "0   59   71   89  118  139  160  183  222  212  148  ...     0     0     0   \n",
       "1  144  149  129  114  119  124  125  135  145  141  ...   115   128   113   \n",
       "2   90   97  105   42   41   41   37   40   36   55  ...    42    48    83   \n",
       "3   69   72   80   87   95  102  112  123  131  137  ...   178   186   189   \n",
       "4  134  135  136  137  142  122   46   47   36   25  ...   180   109     1   \n",
       "\n",
       "   2299  2300  2301  2302  2303  Labels  Emotions  \n",
       "0     0     0     0     1     0       4       Sad  \n",
       "1    64    73    77    81    88       0     Angry  \n",
       "2   107   105    77    51    32       4       Sad  \n",
       "3   192   195   201   208   215       1   Disgust  \n",
       "4     4     5     6     5     5       0     Angry  \n",
       "\n",
       "[5 rows x 2306 columns]"
      ]
     },
     "execution_count": 15,
     "metadata": {},
     "output_type": "execute_result"
    }
   ],
   "source": [
    "# Create a copy of our metadata dataframe\n",
    "data_cleaned = metadata_df.copy()\n",
    "\n",
    "# Drop the now extraneous columns\n",
    "data_cleaned.drop(data_cleaned.columns[[0, 2303]], axis=1, inplace=True)\n",
    "\n",
    "# Insert the split columns into their appropriate locations\n",
    "data_cleaned.insert(loc = 0, column = 0, value = labels[1])\n",
    "data_cleaned.insert(loc = 2303, column = 2303, value = emotions[0])\n",
    "data_cleaned.insert(loc = 2304, column = 'Labels', value = labels[0])\n",
    "data_cleaned.insert(loc = 2305, column = 'Emotions', value = emotions[1])\n",
    "\n",
    "# Convert the new columns to int\n",
    "data_cleaned = data_cleaned.astype({0:'int', 2303:'int'})\n",
    "data_cleaned.head()"
   ]
  },
  {
   "cell_type": "code",
   "execution_count": 16,
   "metadata": {
    "scrolled": false
   },
   "outputs": [
    {
     "data": {
      "text/plain": [
       "0            int64\n",
       "1            int64\n",
       "2            int64\n",
       "3            int64\n",
       "4            int64\n",
       "             ...  \n",
       "2301         int64\n",
       "2302         int64\n",
       "2303         int64\n",
       "Labels      object\n",
       "Emotions    object\n",
       "Length: 2306, dtype: object"
      ]
     },
     "execution_count": 16,
     "metadata": {},
     "output_type": "execute_result"
    }
   ],
   "source": [
    "# Check and confirm our dtypes\n",
    "data_cleaned.dtypes"
   ]
  },
  {
   "cell_type": "code",
   "execution_count": 17,
   "metadata": {},
   "outputs": [],
   "source": [
    "# Save cleaned dataframe to .csv\n",
    "data_cleaned.to_csv('resources/data_cleaned.csv', index=False)"
   ]
  },
  {
   "cell_type": "code",
   "execution_count": 3,
   "metadata": {
    "scrolled": true
   },
   "outputs": [
    {
     "data": {
      "text/html": [
       "<div>\n",
       "<style scoped>\n",
       "    .dataframe tbody tr th:only-of-type {\n",
       "        vertical-align: middle;\n",
       "    }\n",
       "\n",
       "    .dataframe tbody tr th {\n",
       "        vertical-align: top;\n",
       "    }\n",
       "\n",
       "    .dataframe thead th {\n",
       "        text-align: right;\n",
       "    }\n",
       "</style>\n",
       "<table border=\"1\" class=\"dataframe\">\n",
       "  <thead>\n",
       "    <tr style=\"text-align: right;\">\n",
       "      <th></th>\n",
       "      <th>0</th>\n",
       "      <th>1</th>\n",
       "      <th>2</th>\n",
       "      <th>3</th>\n",
       "      <th>4</th>\n",
       "      <th>5</th>\n",
       "      <th>6</th>\n",
       "      <th>7</th>\n",
       "      <th>8</th>\n",
       "      <th>9</th>\n",
       "      <th>...</th>\n",
       "      <th>2296</th>\n",
       "      <th>2297</th>\n",
       "      <th>2298</th>\n",
       "      <th>2299</th>\n",
       "      <th>2300</th>\n",
       "      <th>2301</th>\n",
       "      <th>2302</th>\n",
       "      <th>2303</th>\n",
       "      <th>Labels</th>\n",
       "      <th>Emotions</th>\n",
       "    </tr>\n",
       "  </thead>\n",
       "  <tbody>\n",
       "    <tr>\n",
       "      <th>0</th>\n",
       "      <td>59</td>\n",
       "      <td>71</td>\n",
       "      <td>89</td>\n",
       "      <td>118</td>\n",
       "      <td>139</td>\n",
       "      <td>160</td>\n",
       "      <td>183</td>\n",
       "      <td>222</td>\n",
       "      <td>212</td>\n",
       "      <td>148</td>\n",
       "      <td>...</td>\n",
       "      <td>0</td>\n",
       "      <td>0</td>\n",
       "      <td>0</td>\n",
       "      <td>0</td>\n",
       "      <td>0</td>\n",
       "      <td>0</td>\n",
       "      <td>1</td>\n",
       "      <td>0</td>\n",
       "      <td>4</td>\n",
       "      <td>Sad</td>\n",
       "    </tr>\n",
       "    <tr>\n",
       "      <th>1</th>\n",
       "      <td>144</td>\n",
       "      <td>149</td>\n",
       "      <td>129</td>\n",
       "      <td>114</td>\n",
       "      <td>119</td>\n",
       "      <td>124</td>\n",
       "      <td>125</td>\n",
       "      <td>135</td>\n",
       "      <td>145</td>\n",
       "      <td>141</td>\n",
       "      <td>...</td>\n",
       "      <td>115</td>\n",
       "      <td>128</td>\n",
       "      <td>113</td>\n",
       "      <td>64</td>\n",
       "      <td>73</td>\n",
       "      <td>77</td>\n",
       "      <td>81</td>\n",
       "      <td>88</td>\n",
       "      <td>0</td>\n",
       "      <td>Angry</td>\n",
       "    </tr>\n",
       "    <tr>\n",
       "      <th>2</th>\n",
       "      <td>90</td>\n",
       "      <td>97</td>\n",
       "      <td>105</td>\n",
       "      <td>42</td>\n",
       "      <td>41</td>\n",
       "      <td>41</td>\n",
       "      <td>37</td>\n",
       "      <td>40</td>\n",
       "      <td>36</td>\n",
       "      <td>55</td>\n",
       "      <td>...</td>\n",
       "      <td>42</td>\n",
       "      <td>48</td>\n",
       "      <td>83</td>\n",
       "      <td>107</td>\n",
       "      <td>105</td>\n",
       "      <td>77</td>\n",
       "      <td>51</td>\n",
       "      <td>32</td>\n",
       "      <td>4</td>\n",
       "      <td>Sad</td>\n",
       "    </tr>\n",
       "    <tr>\n",
       "      <th>3</th>\n",
       "      <td>69</td>\n",
       "      <td>72</td>\n",
       "      <td>80</td>\n",
       "      <td>87</td>\n",
       "      <td>95</td>\n",
       "      <td>102</td>\n",
       "      <td>112</td>\n",
       "      <td>123</td>\n",
       "      <td>131</td>\n",
       "      <td>137</td>\n",
       "      <td>...</td>\n",
       "      <td>178</td>\n",
       "      <td>186</td>\n",
       "      <td>189</td>\n",
       "      <td>192</td>\n",
       "      <td>195</td>\n",
       "      <td>201</td>\n",
       "      <td>208</td>\n",
       "      <td>215</td>\n",
       "      <td>1</td>\n",
       "      <td>Disgust</td>\n",
       "    </tr>\n",
       "    <tr>\n",
       "      <th>4</th>\n",
       "      <td>134</td>\n",
       "      <td>135</td>\n",
       "      <td>136</td>\n",
       "      <td>137</td>\n",
       "      <td>142</td>\n",
       "      <td>122</td>\n",
       "      <td>46</td>\n",
       "      <td>47</td>\n",
       "      <td>36</td>\n",
       "      <td>25</td>\n",
       "      <td>...</td>\n",
       "      <td>180</td>\n",
       "      <td>109</td>\n",
       "      <td>1</td>\n",
       "      <td>4</td>\n",
       "      <td>5</td>\n",
       "      <td>6</td>\n",
       "      <td>5</td>\n",
       "      <td>5</td>\n",
       "      <td>0</td>\n",
       "      <td>Angry</td>\n",
       "    </tr>\n",
       "  </tbody>\n",
       "</table>\n",
       "<p>5 rows × 2306 columns</p>\n",
       "</div>"
      ],
      "text/plain": [
       "     0    1    2    3    4    5    6    7    8    9  ...  2296  2297  2298  \\\n",
       "0   59   71   89  118  139  160  183  222  212  148  ...     0     0     0   \n",
       "1  144  149  129  114  119  124  125  135  145  141  ...   115   128   113   \n",
       "2   90   97  105   42   41   41   37   40   36   55  ...    42    48    83   \n",
       "3   69   72   80   87   95  102  112  123  131  137  ...   178   186   189   \n",
       "4  134  135  136  137  142  122   46   47   36   25  ...   180   109     1   \n",
       "\n",
       "   2299  2300  2301  2302  2303  Labels  Emotions  \n",
       "0     0     0     0     1     0       4       Sad  \n",
       "1    64    73    77    81    88       0     Angry  \n",
       "2   107   105    77    51    32       4       Sad  \n",
       "3   192   195   201   208   215       1   Disgust  \n",
       "4     4     5     6     5     5       0     Angry  \n",
       "\n",
       "[5 rows x 2306 columns]"
      ]
     },
     "execution_count": 3,
     "metadata": {},
     "output_type": "execute_result"
    }
   ],
   "source": [
    "data_cleaned = pd.read_csv(\"resources/mid_sample_data.csv\", header=0, delimiter=\",\")\n",
    "data_cleaned.head()"
   ]
  },
  {
   "cell_type": "code",
   "execution_count": 4,
   "metadata": {},
   "outputs": [
    {
     "name": "stdout",
     "output_type": "stream",
     "text": [
      "Image Data Shape: (299, 2304)\n",
      "Image Labels Shape: (299,)\n"
     ]
    },
    {
     "name": "stderr",
     "output_type": "stream",
     "text": [
      "/Users/terryschoch/opt/anaconda3/envs/PythonData/lib/python3.7/site-packages/ipykernel_launcher.py:2: FutureWarning: In a future version of pandas all arguments of DataFrame.drop except for the argument 'labels' will be keyword-only\n",
      "  \n"
     ]
    }
   ],
   "source": [
    "# Split our preprocessed data into our features and target arrays\n",
    "X = data_cleaned.drop(['Labels', 'Emotions'],1).values\n",
    "y = data_cleaned['Labels'].values\n",
    "\n",
    "# Verify the shape of our features (X) dataset and labels (y) datasets, ensuring the images are flattened (48 x 48 = 2304)\n",
    "print(\"Image Data Shape:\", X.shape)\n",
    "print(\"Image Labels Shape:\", y.shape)"
   ]
  },
  {
   "cell_type": "code",
   "execution_count": 5,
   "metadata": {},
   "outputs": [
    {
     "data": {
      "image/png": "[encoded data removed]",
      "text/plain": [
       "<Figure size 640x480 with 1 Axes>"
      ]
     },
     "metadata": {},
     "output_type": "display_data"
    }
   ],
   "source": [
    "# Image Check: Create a copy of our data_cleaned dataframe with just the image features and convert a row to an array and resize to a 3 dimensional image in order to display via plt.show function\n",
    "image_data_df = data_cleaned.copy()\n",
    "image_data_df.drop(image_data_df.columns[[2304, 2305]], axis=1, inplace=True)\n",
    "\n",
    "arr = image_data_df.iloc[4].to_numpy()\n",
    "arr_test = np.resize(arr, (48, 48))\n",
    "plt.imshow(arr_test)\n",
    "plt.show()"
   ]
  },
  {
   "cell_type": "code",
   "execution_count": 6,
   "metadata": {},
   "outputs": [
    {
     "name": "stdout",
     "output_type": "stream",
     "text": [
      "Training Data Info\n",
      "Training Data Shape: (224, 2304)\n",
      "Training Data Shape: (224,)\n",
      "Test Data Info\n",
      "Training Data Shape: (75, 2304)\n",
      "Training Data Shape: (75,)\n"
     ]
    }
   ],
   "source": [
    "# Split the preprocessed data into a training and testing dataset\n",
    "X_train, X_test, y_train, y_test = train_test_split(X, \n",
    "                                                    y,\n",
    "                                                    random_state=1,\n",
    "                                                    stratify=y)\n",
    "\n",
    "# Check the shape of our split data\n",
    "print(\"Training Data Info\")\n",
    "print(\"Training Data Shape:\", X_train.shape)\n",
    "print(\"Training Data Shape:\", y_train.shape)\n",
    "\n",
    "print(\"Test Data Info\")\n",
    "print(\"Training Data Shape:\", X_test.shape)\n",
    "print(\"Training Data Shape:\", y_test.shape)"
   ]
  },
  {
   "cell_type": "code",
   "execution_count": 7,
   "metadata": {},
   "outputs": [
    {
     "data": {
      "text/plain": [
       "(48, 48, 1)"
      ]
     },
     "execution_count": 7,
     "metadata": {},
     "output_type": "execute_result"
    }
   ],
   "source": [
    "new_train = np.resize(X_train[1], (48, 48, 1))\n",
    "new_train.shape"
   ]
  },
  {
   "cell_type": "code",
   "execution_count": 11,
   "metadata": {},
   "outputs": [
    {
     "ename": "IndexError",
     "evalue": "index 225 is out of bounds for axis 0 with size 224",
     "output_type": "error",
     "traceback": [
      "\u001b[0;31m---------------------------------------------------------------------------\u001b[0m",
      "\u001b[0;31mIndexError\u001b[0m                                Traceback (most recent call last)",
      "\u001b[0;32m/var/folders/f_/gtsdwfmx7s384m5wp2qkks000000gn/T/ipykernel_1165/3552731838.py\u001b[0m in \u001b[0;36m<module>\u001b[0;34m\u001b[0m\n\u001b[1;32m      1\u001b[0m \u001b[0mnew_X_train\u001b[0m \u001b[0;34m=\u001b[0m \u001b[0;34m[\u001b[0m\u001b[0;34m]\u001b[0m\u001b[0;34m\u001b[0m\u001b[0;34m\u001b[0m\u001b[0m\n\u001b[1;32m      2\u001b[0m \u001b[0;32mfor\u001b[0m \u001b[0mi\u001b[0m \u001b[0;32min\u001b[0m \u001b[0mX_train\u001b[0m\u001b[0;34m:\u001b[0m\u001b[0;34m\u001b[0m\u001b[0;34m\u001b[0m\u001b[0m\n\u001b[0;32m----> 3\u001b[0;31m     \u001b[0mimg_resized\u001b[0m \u001b[0;34m=\u001b[0m \u001b[0mnp\u001b[0m\u001b[0;34m.\u001b[0m\u001b[0mresize\u001b[0m\u001b[0;34m(\u001b[0m\u001b[0mX_train\u001b[0m\u001b[0;34m[\u001b[0m\u001b[0mi\u001b[0m\u001b[0;34m]\u001b[0m\u001b[0;34m,\u001b[0m \u001b[0;34m(\u001b[0m\u001b[0;36m48\u001b[0m\u001b[0;34m,\u001b[0m \u001b[0;36m48\u001b[0m\u001b[0;34m,\u001b[0m \u001b[0;36m1\u001b[0m\u001b[0;34m)\u001b[0m\u001b[0;34m)\u001b[0m\u001b[0;34m\u001b[0m\u001b[0;34m\u001b[0m\u001b[0m\n\u001b[0m\u001b[1;32m      4\u001b[0m     \u001b[0mnew_X_train\u001b[0m\u001b[0;34m.\u001b[0m\u001b[0mappend\u001b[0m\u001b[0;34m(\u001b[0m\u001b[0mimg_resized\u001b[0m\u001b[0;34m)\u001b[0m\u001b[0;34m\u001b[0m\u001b[0;34m\u001b[0m\u001b[0m\n",
      "\u001b[0;31mIndexError\u001b[0m: index 225 is out of bounds for axis 0 with size 224"
     ]
    }
   ],
   "source": [
    "new_X_train = []\n",
    "for i in X_train:\n",
    "    img_resized = np.resize(X_train[i], (48, 48, 1))\n",
    "    new_X_train.append(img_resized)"
   ]
  },
  {
   "cell_type": "code",
   "execution_count": 63,
   "metadata": {},
   "outputs": [
    {
     "data": {
      "text/plain": [
       "array([[ 48],\n",
       "       [ 37],\n",
       "       [100],\n",
       "       [212],\n",
       "       [208],\n",
       "       [211],\n",
       "       [210],\n",
       "       [203],\n",
       "       [191],\n",
       "       [183],\n",
       "       [191],\n",
       "       [205],\n",
       "       [209],\n",
       "       [210],\n",
       "       [211],\n",
       "       [212],\n",
       "       [210],\n",
       "       [212],\n",
       "       [214],\n",
       "       [214],\n",
       "       [208],\n",
       "       [196],\n",
       "       [186],\n",
       "       [185],\n",
       "       [183],\n",
       "       [173],\n",
       "       [166],\n",
       "       [154],\n",
       "       [136],\n",
       "       [113],\n",
       "       [ 88],\n",
       "       [ 63],\n",
       "       [ 44],\n",
       "       [ 38],\n",
       "       [ 34],\n",
       "       [ 31],\n",
       "       [ 30],\n",
       "       [ 28],\n",
       "       [ 28],\n",
       "       [ 28],\n",
       "       [ 28],\n",
       "       [ 27],\n",
       "       [ 27],\n",
       "       [ 27],\n",
       "       [ 27],\n",
       "       [ 27],\n",
       "       [ 26],\n",
       "       [ 29]])"
      ]
     },
     "execution_count": 63,
     "metadata": {},
     "output_type": "execute_result"
    }
   ],
   "source": [
    "new_X_train[47]"
   ]
  },
  {
   "cell_type": "markdown",
   "metadata": {},
   "source": [
    "# Scaling and Normalization \n",
    "**We use Sklearn's MinMaxScaler to normalize our data between 0 and 1**"
   ]
  },
  {
   "cell_type": "code",
   "execution_count": 10,
   "metadata": {},
   "outputs": [],
   "source": [
    "# Normalize the training data to be between 0 and 1\n",
    "scaler = MinMaxScaler().fit(X_train)\n",
    "\n",
    "X_train = scaler.transform(X_train)\n",
    "X_test = scaler.transform(X_test)"
   ]
  },
  {
   "cell_type": "code",
   "execution_count": null,
   "metadata": {},
   "outputs": [],
   "source": [
    "# # Alternative way to normalize this dataset since we know that the max pixel value is 255\n",
    "# X_train = X_train.astype(\"float32\")\n",
    "# X_test = X_test.astype(\"float32\")\n",
    "# X_train /= 255.0\n",
    "# X_test /= 255.0"
   ]
  },
  {
   "cell_type": "markdown",
   "metadata": {},
   "source": [
    "# One-Hot Encoding\n",
    "\n",
    "**We need to one-hot encode our integer labels using the `to_categorical` helper function**"
   ]
  },
  {
   "cell_type": "code",
   "execution_count": 11,
   "metadata": {},
   "outputs": [
    {
     "data": {
      "text/plain": [
       "array(['2', '4', '1', '6', '4', '1', '2', '1', '0', '6', '6', '0', '1',\n",
       "       '1', '4', '3', '0', '1', '2', '5'], dtype=object)"
      ]
     },
     "execution_count": 11,
     "metadata": {},
     "output_type": "execute_result"
    }
   ],
   "source": [
    "# Our Training and Testing labels are integer encoded from 0 to 6. Look at the first 20 training labels.\n",
    "y_train[:20]"
   ]
  },
  {
   "cell_type": "code",
   "execution_count": 14,
   "metadata": {},
   "outputs": [
    {
     "data": {
      "text/plain": [
       "array([0., 0., 1., 0., 0., 0., 0.], dtype=float32)"
      ]
     },
     "execution_count": 14,
     "metadata": {},
     "output_type": "execute_result"
    }
   ],
   "source": [
    "# We need to convert our target labels (expected values) to categorical data\n",
    "face_classes = 7\n",
    "y_train = to_categorical(y_train, face_classes)\n",
    "y_test = to_categorical(y_test, face_classes)\n",
    "# Our first row label [0] of `2` is one-hot encoded as `0010000`\n",
    "y_train[0]"
   ]
  },
  {
   "cell_type": "markdown",
   "metadata": {},
   "source": [
    "# Building our Model\n",
    "\n",
    "**In this example, we are going to build a Deep Multi-Layer Perceptron model with 2 hidden layers.**"
   ]
  },
  {
   "cell_type": "code",
   "execution_count": 38,
   "metadata": {},
   "outputs": [],
   "source": [
    "# from tensorflow.keras.models import Sequential\n",
    "# from tensorflow.keras.layers import Conv2D\n",
    "# from tensorflow.keras.layers import MaxPooling2D\n",
    "# from tensorflow.keras.layers import BatchNormalization\n",
    "# from tensorflow.keras.layers import Activation\n",
    "# from tensorflow.keras.layers import Flatten\n",
    "# from tensorflow.keras.layers import Dropout\n",
    "# from tensorflow.keras.layers import Dense\n",
    "# from tensorflow.keras.regularizers import l2\n",
    "# from tensorflow.keras import backend"
   ]
  },
  {
   "cell_type": "code",
   "execution_count": 41,
   "metadata": {},
   "outputs": [],
   "source": [
    "# ### Source: https://www.kaggle.com/code/gxy19980906/320203298minivgg11\n",
    "# class MiniVGG11Net:\n",
    "#     @staticmethod\n",
    "#     def build(width, height, channel, classes, reg=0.0002):\n",
    "#         model = Sequential(name=\"MiniVGG13\")\n",
    "        \n",
    "#         shape = (height, width, channel)\n",
    "#         channel_dimension = -1\n",
    "\n",
    "#         if backend.image_data_format() == \"channels_first\":\n",
    "#             shape = (channel, height, width)\n",
    "#             channel_dimension = 1\n",
    "        \n",
    "#         model.add(Conv2D(64, (3, 3), input_shape=shape, padding=\"same\", kernel_regularizer=l2(reg)))\n",
    "#         model.add(Activation(\"relu\"))\n",
    "#         model.add(BatchNormalization(axis=channel_dimension))\n",
    "#         model.add(MaxPooling2D(pool_size=(2, 2), strides=(2, 2)))\n",
    "        \n",
    "#         model.add(Conv2D(128, (3, 3), padding=\"same\", kernel_regularizer=l2(reg)))\n",
    "#         model.add(Activation(\"relu\"))\n",
    "#         model.add(BatchNormalization(axis=channel_dimension))\n",
    "#         model.add(MaxPooling2D(pool_size=(2, 2), strides=(2, 2)))\n",
    "        \n",
    "#         model.add(Conv2D(256, (3, 3), padding=\"same\", kernel_regularizer=l2(reg)))\n",
    "#         model.add(Activation(\"relu\"))\n",
    "#         model.add(Conv2D(256, (3, 3), padding=\"same\", kernel_regularizer=l2(reg)))\n",
    "#         model.add(Activation(\"relu\"))\n",
    "#         model.add(BatchNormalization(axis=channel_dimension))\n",
    "#         model.add(MaxPooling2D(pool_size=(2, 2), strides=(2, 2)))\n",
    "        \n",
    "#         model.add(Conv2D(512, (3, 3), padding=\"same\", kernel_regularizer=l2(reg)))\n",
    "#         model.add(Activation(\"relu\"))\n",
    "#         model.add(Conv2D(512, (3, 3), padding=\"same\", kernel_regularizer=l2(reg)))\n",
    "#         model.add(Activation(\"relu\"))\n",
    "#         model.add(BatchNormalization(axis=channel_dimension))\n",
    "#         model.add(MaxPooling2D(pool_size=(2, 2), strides=(2, 2)))\n",
    "\n",
    "#          # 第一全连接层\n",
    "#         model.add(Flatten())\n",
    "#         model.add(Dense(1024, kernel_regularizer=l2(reg)))\n",
    "#         model.add(Activation(\"relu\"))\n",
    "#         model.add(Dropout(0.5))\n",
    "#         # model.add(BatchNormalization(axis=channel_dimension))\n",
    "\n",
    "#         # 第二全连接层\n",
    "#         model.add(Dense(256, kernel_regularizer=l2(reg)))\n",
    "#         model.add(Activation(\"relu\"))\n",
    "#         model.add(Dropout(0.5))\n",
    "#         # model.add(BatchNormalization(axis=channel_dimension))\n",
    "\n",
    "#         # 第三全连接层\n",
    "#         model.add(Dense(classes, kernel_regularizer=l2(reg)))\n",
    "#         model.add(Activation(\"softmax\"))\n",
    "\n",
    "#         return model"
   ]
  },
  {
   "cell_type": "code",
   "execution_count": 42,
   "metadata": {},
   "outputs": [
    {
     "name": "stdout",
     "output_type": "stream",
     "text": [
      "Model: \"MiniVGG13\"\n",
      "_________________________________________________________________\n",
      " Layer (type)                Output Shape              Param #   \n",
      "=================================================================\n",
      " conv2d (Conv2D)             (None, 48, 48, 64)        640       \n",
      "                                                                 \n",
      " activation (Activation)     (None, 48, 48, 64)        0         \n",
      "                                                                 \n",
      " batch_normalization (BatchN  (None, 48, 48, 64)       256       \n",
      " ormalization)                                                   \n",
      "                                                                 \n",
      " max_pooling2d (MaxPooling2D  (None, 24, 24, 64)       0         \n",
      " )                                                               \n",
      "                                                                 \n",
      " conv2d_1 (Conv2D)           (None, 24, 24, 128)       73856     \n",
      "                                                                 \n",
      " activation_1 (Activation)   (None, 24, 24, 128)       0         \n",
      "                                                                 \n",
      " batch_normalization_1 (Batc  (None, 24, 24, 128)      512       \n",
      " hNormalization)                                                 \n",
      "                                                                 \n",
      " max_pooling2d_1 (MaxPooling  (None, 12, 12, 128)      0         \n",
      " 2D)                                                             \n",
      "                                                                 \n",
      " conv2d_2 (Conv2D)           (None, 12, 12, 256)       295168    \n",
      "                                                                 \n",
      " activation_2 (Activation)   (None, 12, 12, 256)       0         \n",
      "                                                                 \n",
      " conv2d_3 (Conv2D)           (None, 12, 12, 256)       590080    \n",
      "                                                                 \n",
      " activation_3 (Activation)   (None, 12, 12, 256)       0         \n",
      "                                                                 \n",
      " batch_normalization_2 (Batc  (None, 12, 12, 256)      1024      \n",
      " hNormalization)                                                 \n",
      "                                                                 \n",
      " max_pooling2d_2 (MaxPooling  (None, 6, 6, 256)        0         \n",
      " 2D)                                                             \n",
      "                                                                 \n",
      " conv2d_4 (Conv2D)           (None, 6, 6, 512)         1180160   \n",
      "                                                                 \n",
      " activation_4 (Activation)   (None, 6, 6, 512)         0         \n",
      "                                                                 \n",
      " conv2d_5 (Conv2D)           (None, 6, 6, 512)         2359808   \n",
      "                                                                 \n",
      " activation_5 (Activation)   (None, 6, 6, 512)         0         \n",
      "                                                                 \n",
      " batch_normalization_3 (Batc  (None, 6, 6, 512)        2048      \n",
      " hNormalization)                                                 \n",
      "                                                                 \n",
      " max_pooling2d_3 (MaxPooling  (None, 3, 3, 512)        0         \n",
      " 2D)                                                             \n",
      "                                                                 \n",
      " flatten (Flatten)           (None, 4608)              0         \n",
      "                                                                 \n",
      " dense_12 (Dense)            (None, 1024)              4719616   \n",
      "                                                                 \n",
      " activation_6 (Activation)   (None, 1024)              0         \n",
      "                                                                 \n",
      " dropout (Dropout)           (None, 1024)              0         \n",
      "                                                                 \n",
      " dense_13 (Dense)            (None, 256)               262400    \n",
      "                                                                 \n",
      " activation_7 (Activation)   (None, 256)               0         \n",
      "                                                                 \n",
      " dropout_1 (Dropout)         (None, 256)               0         \n",
      "                                                                 \n",
      " dense_14 (Dense)            (None, 7)                 1799      \n",
      "                                                                 \n",
      " activation_8 (Activation)   (None, 7)                 0         \n",
      "                                                                 \n",
      "=================================================================\n",
      "Total params: 9,487,367\n",
      "Trainable params: 9,485,447\n",
      "Non-trainable params: 1,920\n",
      "_________________________________________________________________\n",
      "None\n"
     ]
    }
   ],
   "source": [
    "# ### Source: https://www.kaggle.com/code/gxy19980906/320203298minivgg11\n",
    "# # 测试MiniVGG13类实例化并输出MiniVGG13模型的概要信息\n",
    "# if __name__ == \"__main__\":\n",
    "#     model = MiniVGG11Net.build(width=48, height=48, channel=1, classes=7, reg=0.0002)\n",
    "#     print(model.summary())"
   ]
  },
  {
   "cell_type": "code",
   "execution_count": 58,
   "metadata": {},
   "outputs": [],
   "source": [
    "# # Create an empty sequential model\n",
    "# model = Sequential(name=\"MiniVGG13\")\n",
    "\n",
    "# reg = 0.0002\n",
    "# shape = (48, 48, 1)\n",
    "# channel_dimension = -1\n",
    "\n",
    "# if backend.image_data_format() == \"channels_first\":\n",
    "#     shape = (1, 48, 48)\n",
    "#     channel_dimension = 1\n",
    "\n",
    "# model.add(Conv2D(64, (3, 3), input_shape=shape, padding=\"same\", kernel_regularizer=l2(reg)))\n",
    "# model.add(Activation(\"relu\"))\n",
    "# model.add(BatchNormalization(axis=channel_dimension))\n",
    "# model.add(MaxPooling2D(pool_size=(2, 2), strides=(2, 2)))\n",
    "\n",
    "# model.add(Conv2D(128, (3, 3), padding=\"same\", kernel_regularizer=l2(reg)))\n",
    "# model.add(Activation(\"relu\"))\n",
    "# model.add(BatchNormalization(axis=channel_dimension))\n",
    "# model.add(MaxPooling2D(pool_size=(2, 2), strides=(2, 2)))\n",
    "\n",
    "# model.add(Conv2D(256, (3, 3), padding=\"same\", kernel_regularizer=l2(reg)))\n",
    "# model.add(Activation(\"relu\"))\n",
    "# model.add(Conv2D(256, (3, 3), padding=\"same\", kernel_regularizer=l2(reg)))\n",
    "# model.add(Activation(\"relu\"))\n",
    "# model.add(BatchNormalization(axis=channel_dimension))\n",
    "# model.add(MaxPooling2D(pool_size=(2, 2), strides=(2, 2)))\n",
    "\n",
    "# model.add(Conv2D(512, (3, 3), padding=\"same\", kernel_regularizer=l2(reg)))\n",
    "# model.add(Activation(\"relu\"))\n",
    "# model.add(Conv2D(512, (3, 3), padding=\"same\", kernel_regularizer=l2(reg)))\n",
    "# model.add(Activation(\"relu\"))\n",
    "# model.add(BatchNormalization(axis=channel_dimension))\n",
    "# model.add(MaxPooling2D(pool_size=(2, 2), strides=(2, 2)))\n",
    "\n",
    "#  # 第一全连接层\n",
    "# model.add(Flatten())\n",
    "# model.add(Dense(1024, kernel_regularizer=l2(reg)))\n",
    "# model.add(Activation(\"relu\"))\n",
    "# model.add(Dropout(0.5))\n",
    "# # model.add(BatchNormalization(axis=channel_dimension))\n",
    "\n",
    "# # 第二全连接层\n",
    "# model.add(Dense(256, kernel_regularizer=l2(reg)))\n",
    "# model.add(Activation(\"relu\"))\n",
    "# model.add(Dropout(0.5))\n",
    "# # model.add(BatchNormalization(axis=channel_dimension))\n",
    "\n",
    "# # 第三全连接层\n",
    "# model.add(Dense(face_classes, kernel_regularizer=l2(reg)))\n",
    "# model.add(Activation(\"softmax\"))"
   ]
  },
  {
   "cell_type": "code",
   "execution_count": 25,
   "metadata": {},
   "outputs": [
    {
     "name": "stdout",
     "output_type": "stream",
     "text": [
      "Found 244 images belonging to 16 classes.\n",
      "Found 244 images belonging to 16 classes.\n"
     ]
    },
    {
     "data": {
      "text/plain": [
       "{'face1': 0,\n",
       " 'face10': 1,\n",
       " 'face11': 2,\n",
       " 'face12': 3,\n",
       " 'face13': 4,\n",
       " 'face14': 5,\n",
       " 'face15': 6,\n",
       " 'face16': 7,\n",
       " 'face2': 8,\n",
       " 'face3': 9,\n",
       " 'face4': 10,\n",
       " 'face5': 11,\n",
       " 'face6': 12,\n",
       " 'face7': 13,\n",
       " 'face8': 14,\n",
       " 'face9': 15}"
      ]
     },
     "execution_count": 25,
     "metadata": {},
     "output_type": "execute_result"
    }
   ],
   "source": [
    "####### IMAGE PRE-PROCESSING for TRAINING and TESTING data\n",
    " \n",
    "# Specifying the folder where images are present\n",
    "TrainingImagePath='resources/Face Images/Final Training Images'\n",
    " \n",
    "from keras.preprocessing.image import ImageDataGenerator\n",
    "# Understand more about ImageDataGenerator at below link\n",
    "# https://blog.keras.io/building-powerful-image-classification-models-using-very-little-data.html\n",
    " \n",
    "# Defining pre-processing transformations on raw images of training data\n",
    "# These hyper parameters helps to generate slightly twisted versions\n",
    "# of the original image, which leads to a better model, since it learns\n",
    "# on the good and bad mix of images\n",
    "train_datagen = ImageDataGenerator(\n",
    "        shear_range=0.1,\n",
    "        zoom_range=0.1,\n",
    "        horizontal_flip=True)\n",
    "\n",
    "# Defining pre-processing transformations on raw images of testing data\n",
    "# No transformations are done on the testing images\n",
    "test_datagen = ImageDataGenerator()\n",
    " \n",
    "# Generating the Training Data\n",
    "training_set = train_datagen.flow_from_directory(\n",
    "        TrainingImagePath,\n",
    "        target_size=(48, 48),\n",
    "        batch_size=32,\n",
    "        class_mode='categorical')\n",
    " \n",
    " \n",
    "# Generating the Testing Data\n",
    "test_set = test_datagen.flow_from_directory(\n",
    "        TrainingImagePath,\n",
    "        target_size=(48, 48),\n",
    "        batch_size=32,\n",
    "        class_mode='categorical')\n",
    " \n",
    "# Printing class labels for each face\n",
    "test_set.class_indices"
   ]
  },
  {
   "cell_type": "code",
   "execution_count": null,
   "metadata": {},
   "outputs": [],
   "source": [
    "# ####### IMAGE PRE-PROCESSING for TRAINING and TESTING data\n",
    " \n",
    "# # Specifying the folder where images are present\n",
    "# TrainingImagePath='resources/Face Images/Final Training Images'\n",
    " \n",
    "# from keras.preprocessing.image import ImageDataGenerator\n",
    "# # Understand more about ImageDataGenerator at below link\n",
    "# # https://blog.keras.io/building-powerful-image-classification-models-using-very-little-data.html\n",
    " \n",
    "# # Defining pre-processing transformations on raw images of training data\n",
    "# # These hyper parameters helps to generate slightly twisted versions\n",
    "# # of the original image, which leads to a better model, since it learns\n",
    "# # on the good and bad mix of images\n",
    "# train_datagen = ImageDataGenerator(\n",
    "#         shear_range=0.1,\n",
    "#         zoom_range=0.1,\n",
    "#         horizontal_flip=True)\n",
    " \n",
    "# # Defining pre-processing transformations on raw images of testing data\n",
    "# # No transformations are done on the testing images\n",
    "# test_datagen = ImageDataGenerator()\n",
    " \n",
    "# # Generating the Training Data\n",
    "# training_set = train_datagen.flow_from_directory(\n",
    "#         TrainingImagePath,\n",
    "#         target_size=(64, 64),\n",
    "#         batch_size=32,\n",
    "#         class_mode='categorical')\n",
    " \n",
    " \n",
    "# # Generating the Testing Data\n",
    "# test_set = test_datagen.flow_from_directory(\n",
    "#         TrainingImagePath,\n",
    "#         target_size=(64, 64),\n",
    "#         batch_size=32,\n",
    "#         class_mode='categorical')\n",
    " \n",
    "# # Printing class labels for each face\n",
    "# test_set.class_indices"
   ]
  },
  {
   "cell_type": "code",
   "execution_count": 26,
   "metadata": {},
   "outputs": [
    {
     "name": "stdout",
     "output_type": "stream",
     "text": [
      "Mapping of Face and its ID {0: 'face1', 1: 'face10', 2: 'face11', 3: 'face12', 4: 'face13', 5: 'face14', 6: 'face15', 7: 'face16', 8: 'face2', 9: 'face3', 10: 'face4', 11: 'face5', 12: 'face6', 13: 'face7', 14: 'face8', 15: 'face9'}\n",
      "\n",
      " The Number of output neurons:  16\n"
     ]
    }
   ],
   "source": [
    "########### Creating lookup table for all faces\n",
    "# class_indices have the numeric tag for each face\n",
    "TrainClasses=training_set.class_indices\n",
    " \n",
    "# Storing the face and the numeric tag for future reference\n",
    "ResultMap={}\n",
    "for faceValue,faceName in zip(TrainClasses.values(),TrainClasses.keys()):\n",
    "    ResultMap[faceValue]=faceName\n",
    " \n",
    "# Saving the face map for future reference\n",
    "import pickle\n",
    "with open(\"ResultsMap.pkl\", 'wb') as fileWriteStream:\n",
    "    pickle.dump(ResultMap, fileWriteStream)\n",
    " \n",
    "# The model will give answer as a numeric tag\n",
    "# This mapping will help to get the corresponding face name for it\n",
    "print(\"Mapping of Face and its ID\",ResultMap)\n",
    " \n",
    "# The number of neurons for the output layer is equal to the number of faces\n",
    "OutputNeurons=len(ResultMap)\n",
    "print('\\n The Number of output neurons: ', OutputNeurons)"
   ]
  },
  {
   "cell_type": "code",
   "execution_count": 27,
   "metadata": {},
   "outputs": [],
   "source": [
    "# Import the Keras\n",
    "from keras.models import Sequential\n",
    "from keras.layers import Convolution2D\n",
    "from keras.layers import MaxPool2D\n",
    "from keras.layers import Flatten\n",
    "from keras.layers import Dense"
   ]
  },
  {
   "cell_type": "code",
   "execution_count": 46,
   "metadata": {},
   "outputs": [],
   "source": [
    "#  SOURCE: https://thinkingneuron.com/face-recognition-using-deep-learning-cnn-in-python/\n",
    "# Create and empty sequential model, initializing the Convolution Neural Network\n",
    "face_model = Sequential()\n",
    "\n",
    "## STEP--1 Convolution\n",
    "# Adding the first layer of CNN\n",
    "# we are using the format (48,48,1) because we are using TensorFlow backend\n",
    "# It means 1 matrix of size (48X48) pixels representing grayscale components of pixels\n",
    "face_model.add(Convolution2D(32, kernel_size=(5, 5), strides=(1, 1), input_shape=(48,48,3), activation='relu'))\n",
    "\n",
    "# STEP--2 MAX Pooling\n",
    "face_model.add(MaxPool2D(pool_size=(2,2)))\n",
    "\n",
    "## ADDITIONAL LAYER of CONVOLUTION for better accuracy\n",
    "face_model.add(Convolution2D(64, kernel_size=(5, 5), strides=(1, 1), activation='relu'))\n",
    "face_model.add(MaxPool2D(pool_size=(2,2)))\n",
    "\n",
    "# STEP--3 FLattening\n",
    "face_model.add(Flatten())\n",
    "\n",
    "# STEP--4 Fully Connected Neural Network\n",
    "face_model.add(Dense(64, activation='relu'))\n",
    "\n",
    "face_model.add(Dense(OutputNeurons, activation='softmax'))"
   ]
  },
  {
   "cell_type": "code",
   "execution_count": 30,
   "metadata": {},
   "outputs": [],
   "source": [
    "# Compiling the CNN\n",
    "# faceifier.compile(loss='binary_crossentropy', \n",
    "#                    optimizer='adam', \n",
    "#                    metrics=['accuracy'])\n",
    "face_model.compile(loss='categorical_crossentropy', \n",
    "                   optimizer = 'adam', \n",
    "                   metrics=[\"accuracy\"])"
   ]
  },
  {
   "cell_type": "code",
   "execution_count": 31,
   "metadata": {},
   "outputs": [],
   "source": [
    "import time\n",
    "# Measuring the time taken by the model to train\n",
    "StartTime=time.time()"
   ]
  },
  {
   "cell_type": "code",
   "execution_count": 39,
   "metadata": {},
   "outputs": [
    {
     "name": "stdout",
     "output_type": "stream",
     "text": [
      "Epoch 1/10\n"
     ]
    },
    {
     "name": "stderr",
     "output_type": "stream",
     "text": [
      "/Users/terryschoch/opt/anaconda3/envs/PythonData/lib/python3.7/site-packages/ipykernel_launcher.py:8: UserWarning: `Model.fit_generator` is deprecated and will be removed in a future version. Please use `Model.fit`, which supports generators.\n",
      "  \n"
     ]
    },
    {
     "ename": "ValueError",
     "evalue": "in user code:\n\n    File \"/Users/terryschoch/opt/anaconda3/envs/PythonData/lib/python3.7/site-packages/keras/engine/training.py\", line 1249, in train_function  *\n        return step_function(self, iterator)\n    File \"/Users/terryschoch/opt/anaconda3/envs/PythonData/lib/python3.7/site-packages/keras/engine/training.py\", line 1233, in step_function  **\n        outputs = model.distribute_strategy.run(run_step, args=(data,))\n    File \"/Users/terryschoch/opt/anaconda3/envs/PythonData/lib/python3.7/site-packages/keras/engine/training.py\", line 1222, in run_step  **\n        outputs = model.train_step(data)\n    File \"/Users/terryschoch/opt/anaconda3/envs/PythonData/lib/python3.7/site-packages/keras/engine/training.py\", line 1023, in train_step\n        y_pred = self(x, training=True)\n    File \"/Users/terryschoch/opt/anaconda3/envs/PythonData/lib/python3.7/site-packages/keras/utils/traceback_utils.py\", line 70, in error_handler\n        raise e.with_traceback(filtered_tb) from None\n    File \"/Users/terryschoch/opt/anaconda3/envs/PythonData/lib/python3.7/site-packages/keras/engine/input_spec.py\", line 296, in assert_input_compatibility\n        f'Input {input_index} of layer \"{layer_name}\" is '\n\n    ValueError: Input 0 of layer \"sequential_1\" is incompatible with the layer: expected shape=(None, 48, 48, 3), found shape=(None, 2304)\n",
     "output_type": "error",
     "traceback": [
      "\u001b[0;31m---------------------------------------------------------------------------\u001b[0m",
      "\u001b[0;31mValueError\u001b[0m                                Traceback (most recent call last)",
      "\u001b[0;32m/var/folders/f_/gtsdwfmx7s384m5wp2qkks000000gn/T/ipykernel_1865/4080250097.py\u001b[0m in \u001b[0;36m<module>\u001b[0;34m\u001b[0m\n\u001b[1;32m      6\u001b[0m                     \u001b[0mepochs\u001b[0m\u001b[0;34m=\u001b[0m\u001b[0;36m10\u001b[0m\u001b[0;34m,\u001b[0m\u001b[0;34m\u001b[0m\u001b[0;34m\u001b[0m\u001b[0m\n\u001b[1;32m      7\u001b[0m                     \u001b[0mvalidation_data\u001b[0m\u001b[0;34m=\u001b[0m\u001b[0mtest_set\u001b[0m\u001b[0;34m,\u001b[0m\u001b[0;34m\u001b[0m\u001b[0;34m\u001b[0m\u001b[0m\n\u001b[0;32m----> 8\u001b[0;31m                     validation_steps=10)\n\u001b[0m\u001b[1;32m      9\u001b[0m \u001b[0;34m\u001b[0m\u001b[0m\n\u001b[1;32m     10\u001b[0m \u001b[0mEndTime\u001b[0m\u001b[0;34m=\u001b[0m\u001b[0mtime\u001b[0m\u001b[0;34m.\u001b[0m\u001b[0mtime\u001b[0m\u001b[0;34m(\u001b[0m\u001b[0;34m)\u001b[0m\u001b[0;34m\u001b[0m\u001b[0;34m\u001b[0m\u001b[0m\n",
      "\u001b[0;32m~/opt/anaconda3/envs/PythonData/lib/python3.7/site-packages/keras/engine/training.py\u001b[0m in \u001b[0;36mfit_generator\u001b[0;34m(self, generator, steps_per_epoch, epochs, verbose, callbacks, validation_data, validation_steps, validation_freq, class_weight, max_queue_size, workers, use_multiprocessing, shuffle, initial_epoch)\u001b[0m\n\u001b[1;32m   2616\u001b[0m             \u001b[0muse_multiprocessing\u001b[0m\u001b[0;34m=\u001b[0m\u001b[0muse_multiprocessing\u001b[0m\u001b[0;34m,\u001b[0m\u001b[0;34m\u001b[0m\u001b[0;34m\u001b[0m\u001b[0m\n\u001b[1;32m   2617\u001b[0m             \u001b[0mshuffle\u001b[0m\u001b[0;34m=\u001b[0m\u001b[0mshuffle\u001b[0m\u001b[0;34m,\u001b[0m\u001b[0;34m\u001b[0m\u001b[0;34m\u001b[0m\u001b[0m\n\u001b[0;32m-> 2618\u001b[0;31m             \u001b[0minitial_epoch\u001b[0m\u001b[0;34m=\u001b[0m\u001b[0minitial_epoch\u001b[0m\u001b[0;34m,\u001b[0m\u001b[0;34m\u001b[0m\u001b[0;34m\u001b[0m\u001b[0m\n\u001b[0m\u001b[1;32m   2619\u001b[0m         )\n\u001b[1;32m   2620\u001b[0m \u001b[0;34m\u001b[0m\u001b[0m\n",
      "\u001b[0;32m~/opt/anaconda3/envs/PythonData/lib/python3.7/site-packages/keras/utils/traceback_utils.py\u001b[0m in \u001b[0;36merror_handler\u001b[0;34m(*args, **kwargs)\u001b[0m\n\u001b[1;32m     68\u001b[0m             \u001b[0;31m# To get the full stack trace, call:\u001b[0m\u001b[0;34m\u001b[0m\u001b[0;34m\u001b[0m\u001b[0;34m\u001b[0m\u001b[0m\n\u001b[1;32m     69\u001b[0m             \u001b[0;31m# `tf.debugging.disable_traceback_filtering()`\u001b[0m\u001b[0;34m\u001b[0m\u001b[0;34m\u001b[0m\u001b[0;34m\u001b[0m\u001b[0m\n\u001b[0;32m---> 70\u001b[0;31m             \u001b[0;32mraise\u001b[0m \u001b[0me\u001b[0m\u001b[0;34m.\u001b[0m\u001b[0mwith_traceback\u001b[0m\u001b[0;34m(\u001b[0m\u001b[0mfiltered_tb\u001b[0m\u001b[0;34m)\u001b[0m \u001b[0;32mfrom\u001b[0m \u001b[0;32mNone\u001b[0m\u001b[0;34m\u001b[0m\u001b[0;34m\u001b[0m\u001b[0m\n\u001b[0m\u001b[1;32m     71\u001b[0m         \u001b[0;32mfinally\u001b[0m\u001b[0;34m:\u001b[0m\u001b[0;34m\u001b[0m\u001b[0;34m\u001b[0m\u001b[0m\n\u001b[1;32m     72\u001b[0m             \u001b[0;32mdel\u001b[0m \u001b[0mfiltered_tb\u001b[0m\u001b[0;34m\u001b[0m\u001b[0;34m\u001b[0m\u001b[0m\n",
      "\u001b[0;32m~/opt/anaconda3/envs/PythonData/lib/python3.7/site-packages/keras/engine/training.py\u001b[0m in \u001b[0;36mtf__train_function\u001b[0;34m(iterator)\u001b[0m\n\u001b[1;32m     13\u001b[0m                 \u001b[0;32mtry\u001b[0m\u001b[0;34m:\u001b[0m\u001b[0;34m\u001b[0m\u001b[0;34m\u001b[0m\u001b[0m\n\u001b[1;32m     14\u001b[0m                     \u001b[0mdo_return\u001b[0m \u001b[0;34m=\u001b[0m \u001b[0;32mTrue\u001b[0m\u001b[0;34m\u001b[0m\u001b[0;34m\u001b[0m\u001b[0m\n\u001b[0;32m---> 15\u001b[0;31m                     \u001b[0mretval_\u001b[0m \u001b[0;34m=\u001b[0m \u001b[0mag__\u001b[0m\u001b[0;34m.\u001b[0m\u001b[0mconverted_call\u001b[0m\u001b[0;34m(\u001b[0m\u001b[0mag__\u001b[0m\u001b[0;34m.\u001b[0m\u001b[0mld\u001b[0m\u001b[0;34m(\u001b[0m\u001b[0mstep_function\u001b[0m\u001b[0;34m)\u001b[0m\u001b[0;34m,\u001b[0m \u001b[0;34m(\u001b[0m\u001b[0mag__\u001b[0m\u001b[0;34m.\u001b[0m\u001b[0mld\u001b[0m\u001b[0;34m(\u001b[0m\u001b[0mself\u001b[0m\u001b[0;34m)\u001b[0m\u001b[0;34m,\u001b[0m \u001b[0mag__\u001b[0m\u001b[0;34m.\u001b[0m\u001b[0mld\u001b[0m\u001b[0;34m(\u001b[0m\u001b[0miterator\u001b[0m\u001b[0;34m)\u001b[0m\u001b[0;34m)\u001b[0m\u001b[0;34m,\u001b[0m \u001b[0;32mNone\u001b[0m\u001b[0;34m,\u001b[0m \u001b[0mfscope\u001b[0m\u001b[0;34m)\u001b[0m\u001b[0;34m\u001b[0m\u001b[0;34m\u001b[0m\u001b[0m\n\u001b[0m\u001b[1;32m     16\u001b[0m                 \u001b[0;32mexcept\u001b[0m\u001b[0;34m:\u001b[0m\u001b[0;34m\u001b[0m\u001b[0;34m\u001b[0m\u001b[0m\n\u001b[1;32m     17\u001b[0m                     \u001b[0mdo_return\u001b[0m \u001b[0;34m=\u001b[0m \u001b[0;32mFalse\u001b[0m\u001b[0;34m\u001b[0m\u001b[0;34m\u001b[0m\u001b[0m\n",
      "\u001b[0;31mValueError\u001b[0m: in user code:\n\n    File \"/Users/terryschoch/opt/anaconda3/envs/PythonData/lib/python3.7/site-packages/keras/engine/training.py\", line 1249, in train_function  *\n        return step_function(self, iterator)\n    File \"/Users/terryschoch/opt/anaconda3/envs/PythonData/lib/python3.7/site-packages/keras/engine/training.py\", line 1233, in step_function  **\n        outputs = model.distribute_strategy.run(run_step, args=(data,))\n    File \"/Users/terryschoch/opt/anaconda3/envs/PythonData/lib/python3.7/site-packages/keras/engine/training.py\", line 1222, in run_step  **\n        outputs = model.train_step(data)\n    File \"/Users/terryschoch/opt/anaconda3/envs/PythonData/lib/python3.7/site-packages/keras/engine/training.py\", line 1023, in train_step\n        y_pred = self(x, training=True)\n    File \"/Users/terryschoch/opt/anaconda3/envs/PythonData/lib/python3.7/site-packages/keras/utils/traceback_utils.py\", line 70, in error_handler\n        raise e.with_traceback(filtered_tb) from None\n    File \"/Users/terryschoch/opt/anaconda3/envs/PythonData/lib/python3.7/site-packages/keras/engine/input_spec.py\", line 296, in assert_input_compatibility\n        f'Input {input_index} of layer \"{layer_name}\" is '\n\n    ValueError: Input 0 of layer \"sequential_1\" is incompatible with the layer: expected shape=(None, 48, 48, 3), found shape=(None, 2304)\n"
     ]
    }
   ],
   "source": [
    "# Starting the model training\n",
    "face_model.fit_generator(\n",
    "                    X_train,\n",
    "#                     training_set,\n",
    "                    steps_per_epoch=3,\n",
    "                    epochs=10,\n",
    "                    validation_data=test_set,\n",
    "                    validation_steps=10)\n",
    " \n",
    "EndTime=time.time()\n",
    "print(\"###### Total Time Taken: \", round((EndTime-StartTime)/60), 'Minutes ######')"
   ]
  },
  {
   "cell_type": "code",
   "execution_count": 30,
   "metadata": {},
   "outputs": [],
   "source": [
    "# # Create an empty sequential model\n",
    "# model = tf.keras.models.Sequential()"
   ]
  },
  {
   "cell_type": "code",
   "execution_count": 31,
   "metadata": {},
   "outputs": [],
   "source": [
    "# # Add the first layer where the input dimensions are the 2304 pixel values\n",
    "# # We can also choose our activation function. `relu` is a common\n",
    "# model.add(tf.keras.layers.Dense(units=349, input_dim=2304, activation=\"relu\"))"
   ]
  },
  {
   "cell_type": "code",
   "execution_count": 32,
   "metadata": {},
   "outputs": [],
   "source": [
    "# # Add a second hidden layer\n",
    "# model.add(tf.keras.layers.Dense(units=865, activation=\"relu\"))"
   ]
  },
  {
   "cell_type": "code",
   "execution_count": 33,
   "metadata": {},
   "outputs": [],
   "source": [
    "# # Add a third hidden layer\n",
    "# model.add(tf.keras.layers.Dense(units=337, activation=\"relu\"))"
   ]
  },
  {
   "cell_type": "code",
   "execution_count": 34,
   "metadata": {},
   "outputs": [],
   "source": [
    "# # Add our final output layer where the number of nodes \n",
    "# # corresponds to the number of y labels\n",
    "# model.add(tf.keras.layers.Dense(face_classes, activation=\"softmax\"))"
   ]
  },
  {
   "cell_type": "code",
   "execution_count": 61,
   "metadata": {},
   "outputs": [
    {
     "name": "stdout",
     "output_type": "stream",
     "text": [
      "Model: \"MiniVGG13\"\n",
      "_________________________________________________________________\n",
      " Layer (type)                Output Shape              Param #   \n",
      "=================================================================\n",
      " conv2d_21 (Conv2D)          (None, 48, 48, 64)        640       \n",
      "                                                                 \n",
      " activation_26 (Activation)  (None, 48, 48, 64)        0         \n",
      "                                                                 \n",
      " batch_normalization_12 (Bat  (None, 48, 48, 64)       256       \n",
      " chNormalization)                                                \n",
      "                                                                 \n",
      " max_pooling2d_12 (MaxPoolin  (None, 24, 24, 64)       0         \n",
      " g2D)                                                            \n",
      "                                                                 \n",
      " conv2d_22 (Conv2D)          (None, 24, 24, 128)       73856     \n",
      "                                                                 \n",
      " activation_27 (Activation)  (None, 24, 24, 128)       0         \n",
      "                                                                 \n",
      " batch_normalization_13 (Bat  (None, 24, 24, 128)      512       \n",
      " chNormalization)                                                \n",
      "                                                                 \n",
      " max_pooling2d_13 (MaxPoolin  (None, 12, 12, 128)      0         \n",
      " g2D)                                                            \n",
      "                                                                 \n",
      " conv2d_23 (Conv2D)          (None, 12, 12, 256)       295168    \n",
      "                                                                 \n",
      " activation_28 (Activation)  (None, 12, 12, 256)       0         \n",
      "                                                                 \n",
      " conv2d_24 (Conv2D)          (None, 12, 12, 256)       590080    \n",
      "                                                                 \n",
      " activation_29 (Activation)  (None, 12, 12, 256)       0         \n",
      "                                                                 \n",
      " batch_normalization_14 (Bat  (None, 12, 12, 256)      1024      \n",
      " chNormalization)                                                \n",
      "                                                                 \n",
      " max_pooling2d_14 (MaxPoolin  (None, 6, 6, 256)        0         \n",
      " g2D)                                                            \n",
      "                                                                 \n",
      " conv2d_25 (Conv2D)          (None, 6, 6, 512)         1180160   \n",
      "                                                                 \n",
      " activation_30 (Activation)  (None, 6, 6, 512)         0         \n",
      "                                                                 \n",
      " conv2d_26 (Conv2D)          (None, 6, 6, 512)         2359808   \n",
      "                                                                 \n",
      " activation_31 (Activation)  (None, 6, 6, 512)         0         \n",
      "                                                                 \n",
      " batch_normalization_15 (Bat  (None, 6, 6, 512)        2048      \n",
      " chNormalization)                                                \n",
      "                                                                 \n",
      " max_pooling2d_15 (MaxPoolin  (None, 3, 3, 512)        0         \n",
      " g2D)                                                            \n",
      "                                                                 \n",
      " flatten_3 (Flatten)         (None, 4608)              0         \n",
      "                                                                 \n",
      " dense_20 (Dense)            (None, 1024)              4719616   \n",
      "                                                                 \n",
      " activation_32 (Activation)  (None, 1024)              0         \n",
      "                                                                 \n",
      " dropout_6 (Dropout)         (None, 1024)              0         \n",
      "                                                                 \n",
      " dense_21 (Dense)            (None, 256)               262400    \n",
      "                                                                 \n",
      " activation_33 (Activation)  (None, 256)               0         \n",
      "                                                                 \n",
      " dropout_7 (Dropout)         (None, 256)               0         \n",
      "                                                                 \n",
      " dense_22 (Dense)            (None, 7)                 1799      \n",
      "                                                                 \n",
      " activation_34 (Activation)  (None, 7)                 0         \n",
      "                                                                 \n",
      "=================================================================\n",
      "Total params: 9,487,367\n",
      "Trainable params: 9,485,447\n",
      "Non-trainable params: 1,920\n",
      "_________________________________________________________________\n"
     ]
    }
   ],
   "source": [
    "# We can summarize our model\n",
    "model.summary()"
   ]
  },
  {
   "cell_type": "markdown",
   "metadata": {},
   "source": [
    "# Compile and Train our Model\n",
    "\n",
    "Now that we have our model architecture defined, we must compile the model using a loss function and optimizer. We can also specify additional training metrics such as accuracy."
   ]
  },
  {
   "cell_type": "code",
   "execution_count": null,
   "metadata": {},
   "outputs": [],
   "source": [
    "# model = MiniVGG11Net.build(width=48,height=48,channel=1,classes=NUM_CLASSES)\n",
    "\n",
    "# model.compile(loss=\"categorical_crossentropy\",\n",
    "#               optimizer='adam',\n",
    "#               metrics=[\"accuracy\"])"
   ]
  },
  {
   "cell_type": "code",
   "execution_count": null,
   "metadata": {},
   "outputs": [],
   "source": [
    "# fig_path = os.path.sep.join([OUTPUT_PATH, \"{}.png\".format(os.getpid())])\n",
    "# json_path = os.path.sep.join([OUTPUT_PATH,\"MiniVGG11.json\"])\n",
    "# callbacks = [TrainingMonitor(fig_path=fig_path)]\n",
    "# model.fit_generator(train_gen.generator(),\n",
    "#                     steps_per_epoch=train_gen.numImages//BATCH_SIZE,\n",
    "#                     validation_data=val_gen.generator(),\n",
    "#                     validation_steps=val_gen.numImages // BATCH_SIZE,\n",
    "#                     epochs=50,\n",
    "#                     max_queue_size=BATCH_SIZE*2,\n",
    "#                     callbacks=callbacks,\n",
    "#                     verbose=1)\n",
    "# print(\"[信息] 保存模型...\")\n",
    "# model.save(MODEL_FILE,overwrite=True)\n",
    "# train_gen.close()\n",
    "# val_gen.close()"
   ]
  },
  {
   "cell_type": "code",
   "execution_count": 63,
   "metadata": {},
   "outputs": [],
   "source": [
    "# Use categorical crossentropy for categorical data and mean squared error for regression\n",
    "model.compile(optimizer='adam',\n",
    "             loss='categorical_crossentropy',\n",
    "             metrics=['accuracy'])"
   ]
  },
  {
   "cell_type": "code",
   "execution_count": 67,
   "metadata": {},
   "outputs": [
    {
     "name": "stdout",
     "output_type": "stream",
     "text": [
      "Epoch 1/50\n",
      "WARNING:tensorflow:Model was constructed with shape (None, 48, 48, 1) for input KerasTensor(type_spec=TensorSpec(shape=(None, 48, 48, 1), dtype=tf.float32, name='conv2d_21_input'), name='conv2d_21_input', description=\"created by layer 'conv2d_21_input'\"), but it was called on an input with incompatible shape (None, 48).\n"
     ]
    },
    {
     "ename": "ValueError",
     "evalue": "in user code:\n\n    File \"/Users/terryschoch/opt/anaconda3/envs/PythonData/lib/python3.7/site-packages/keras/engine/training.py\", line 1249, in train_function  *\n        return step_function(self, iterator)\n    File \"/Users/terryschoch/opt/anaconda3/envs/PythonData/lib/python3.7/site-packages/keras/engine/training.py\", line 1233, in step_function  **\n        outputs = model.distribute_strategy.run(run_step, args=(data,))\n    File \"/Users/terryschoch/opt/anaconda3/envs/PythonData/lib/python3.7/site-packages/keras/engine/training.py\", line 1222, in run_step  **\n        outputs = model.train_step(data)\n    File \"/Users/terryschoch/opt/anaconda3/envs/PythonData/lib/python3.7/site-packages/keras/engine/training.py\", line 1023, in train_step\n        y_pred = self(x, training=True)\n    File \"/Users/terryschoch/opt/anaconda3/envs/PythonData/lib/python3.7/site-packages/keras/utils/traceback_utils.py\", line 70, in error_handler\n        raise e.with_traceback(filtered_tb) from None\n    File \"/Users/terryschoch/opt/anaconda3/envs/PythonData/lib/python3.7/site-packages/keras/engine/input_spec.py\", line 251, in assert_input_compatibility\n        f'Input {input_index} of layer \"{layer_name}\" '\n\n    ValueError: Exception encountered when calling layer 'MiniVGG13' (type Sequential).\n    \n    Input 0 of layer \"conv2d_21\" is incompatible with the layer: expected min_ndim=4, found ndim=2. Full shape received: (None, 48)\n    \n    Call arguments received by layer 'MiniVGG13' (type Sequential):\n      • inputs=tf.Tensor(shape=(None, 48), dtype=int64)\n      • training=True\n      • mask=None\n",
     "output_type": "error",
     "traceback": [
      "\u001b[0;31m---------------------------------------------------------------------------\u001b[0m",
      "\u001b[0;31mValueError\u001b[0m                                Traceback (most recent call last)",
      "\u001b[0;32m/var/folders/f_/gtsdwfmx7s384m5wp2qkks000000gn/T/ipykernel_1011/2755797279.py\u001b[0m in \u001b[0;36m<module>\u001b[0;34m\u001b[0m\n\u001b[1;32m      4\u001b[0m     \u001b[0marr_test\u001b[0m\u001b[0;34m,\u001b[0m\u001b[0;34m\u001b[0m\u001b[0;34m\u001b[0m\u001b[0m\n\u001b[1;32m      5\u001b[0m     \u001b[0mepochs\u001b[0m\u001b[0;34m=\u001b[0m\u001b[0;36m50\u001b[0m\u001b[0;34m,\u001b[0m\u001b[0;34m\u001b[0m\u001b[0;34m\u001b[0m\u001b[0m\n\u001b[0;32m----> 6\u001b[0;31m     \u001b[0mshuffle\u001b[0m\u001b[0;34m=\u001b[0m\u001b[0;32mTrue\u001b[0m\u001b[0;34m\u001b[0m\u001b[0;34m\u001b[0m\u001b[0m\n\u001b[0m\u001b[1;32m      7\u001b[0m \u001b[0;31m#     verbose=2\u001b[0m\u001b[0;34m\u001b[0m\u001b[0;34m\u001b[0m\u001b[0;34m\u001b[0m\u001b[0m\n\u001b[1;32m      8\u001b[0m )\n",
      "\u001b[0;32m~/opt/anaconda3/envs/PythonData/lib/python3.7/site-packages/keras/utils/traceback_utils.py\u001b[0m in \u001b[0;36merror_handler\u001b[0;34m(*args, **kwargs)\u001b[0m\n\u001b[1;32m     68\u001b[0m             \u001b[0;31m# To get the full stack trace, call:\u001b[0m\u001b[0;34m\u001b[0m\u001b[0;34m\u001b[0m\u001b[0;34m\u001b[0m\u001b[0m\n\u001b[1;32m     69\u001b[0m             \u001b[0;31m# `tf.debugging.disable_traceback_filtering()`\u001b[0m\u001b[0;34m\u001b[0m\u001b[0;34m\u001b[0m\u001b[0;34m\u001b[0m\u001b[0m\n\u001b[0;32m---> 70\u001b[0;31m             \u001b[0;32mraise\u001b[0m \u001b[0me\u001b[0m\u001b[0;34m.\u001b[0m\u001b[0mwith_traceback\u001b[0m\u001b[0;34m(\u001b[0m\u001b[0mfiltered_tb\u001b[0m\u001b[0;34m)\u001b[0m \u001b[0;32mfrom\u001b[0m \u001b[0;32mNone\u001b[0m\u001b[0;34m\u001b[0m\u001b[0;34m\u001b[0m\u001b[0m\n\u001b[0m\u001b[1;32m     71\u001b[0m         \u001b[0;32mfinally\u001b[0m\u001b[0;34m:\u001b[0m\u001b[0;34m\u001b[0m\u001b[0;34m\u001b[0m\u001b[0m\n\u001b[1;32m     72\u001b[0m             \u001b[0;32mdel\u001b[0m \u001b[0mfiltered_tb\u001b[0m\u001b[0;34m\u001b[0m\u001b[0;34m\u001b[0m\u001b[0m\n",
      "\u001b[0;32m~/opt/anaconda3/envs/PythonData/lib/python3.7/site-packages/keras/engine/training.py\u001b[0m in \u001b[0;36mtf__train_function\u001b[0;34m(iterator)\u001b[0m\n\u001b[1;32m     13\u001b[0m                 \u001b[0;32mtry\u001b[0m\u001b[0;34m:\u001b[0m\u001b[0;34m\u001b[0m\u001b[0;34m\u001b[0m\u001b[0m\n\u001b[1;32m     14\u001b[0m                     \u001b[0mdo_return\u001b[0m \u001b[0;34m=\u001b[0m \u001b[0;32mTrue\u001b[0m\u001b[0;34m\u001b[0m\u001b[0;34m\u001b[0m\u001b[0m\n\u001b[0;32m---> 15\u001b[0;31m                     \u001b[0mretval_\u001b[0m \u001b[0;34m=\u001b[0m \u001b[0mag__\u001b[0m\u001b[0;34m.\u001b[0m\u001b[0mconverted_call\u001b[0m\u001b[0;34m(\u001b[0m\u001b[0mag__\u001b[0m\u001b[0;34m.\u001b[0m\u001b[0mld\u001b[0m\u001b[0;34m(\u001b[0m\u001b[0mstep_function\u001b[0m\u001b[0;34m)\u001b[0m\u001b[0;34m,\u001b[0m \u001b[0;34m(\u001b[0m\u001b[0mag__\u001b[0m\u001b[0;34m.\u001b[0m\u001b[0mld\u001b[0m\u001b[0;34m(\u001b[0m\u001b[0mself\u001b[0m\u001b[0;34m)\u001b[0m\u001b[0;34m,\u001b[0m \u001b[0mag__\u001b[0m\u001b[0;34m.\u001b[0m\u001b[0mld\u001b[0m\u001b[0;34m(\u001b[0m\u001b[0miterator\u001b[0m\u001b[0;34m)\u001b[0m\u001b[0;34m)\u001b[0m\u001b[0;34m,\u001b[0m \u001b[0;32mNone\u001b[0m\u001b[0;34m,\u001b[0m \u001b[0mfscope\u001b[0m\u001b[0;34m)\u001b[0m\u001b[0;34m\u001b[0m\u001b[0;34m\u001b[0m\u001b[0m\n\u001b[0m\u001b[1;32m     16\u001b[0m                 \u001b[0;32mexcept\u001b[0m\u001b[0;34m:\u001b[0m\u001b[0;34m\u001b[0m\u001b[0;34m\u001b[0m\u001b[0m\n\u001b[1;32m     17\u001b[0m                     \u001b[0mdo_return\u001b[0m \u001b[0;34m=\u001b[0m \u001b[0;32mFalse\u001b[0m\u001b[0;34m\u001b[0m\u001b[0;34m\u001b[0m\u001b[0m\n",
      "\u001b[0;31mValueError\u001b[0m: in user code:\n\n    File \"/Users/terryschoch/opt/anaconda3/envs/PythonData/lib/python3.7/site-packages/keras/engine/training.py\", line 1249, in train_function  *\n        return step_function(self, iterator)\n    File \"/Users/terryschoch/opt/anaconda3/envs/PythonData/lib/python3.7/site-packages/keras/engine/training.py\", line 1233, in step_function  **\n        outputs = model.distribute_strategy.run(run_step, args=(data,))\n    File \"/Users/terryschoch/opt/anaconda3/envs/PythonData/lib/python3.7/site-packages/keras/engine/training.py\", line 1222, in run_step  **\n        outputs = model.train_step(data)\n    File \"/Users/terryschoch/opt/anaconda3/envs/PythonData/lib/python3.7/site-packages/keras/engine/training.py\", line 1023, in train_step\n        y_pred = self(x, training=True)\n    File \"/Users/terryschoch/opt/anaconda3/envs/PythonData/lib/python3.7/site-packages/keras/utils/traceback_utils.py\", line 70, in error_handler\n        raise e.with_traceback(filtered_tb) from None\n    File \"/Users/terryschoch/opt/anaconda3/envs/PythonData/lib/python3.7/site-packages/keras/engine/input_spec.py\", line 251, in assert_input_compatibility\n        f'Input {input_index} of layer \"{layer_name}\" '\n\n    ValueError: Exception encountered when calling layer 'MiniVGG13' (type Sequential).\n    \n    Input 0 of layer \"conv2d_21\" is incompatible with the layer: expected min_ndim=4, found ndim=2. Full shape received: (None, 48)\n    \n    Call arguments received by layer 'MiniVGG13' (type Sequential):\n      • inputs=tf.Tensor(shape=(None, 48), dtype=int64)\n      • training=True\n      • mask=None\n"
     ]
    }
   ],
   "source": [
    "# Fit (train) the model\n",
    "model.fit(\n",
    "    X_train,\n",
    "    y_train,\n",
    "    epochs=50,\n",
    "    shuffle=True,\n",
    "    verbose=2\n",
    ")"
   ]
  },
  {
   "cell_type": "code",
   "execution_count": null,
   "metadata": {},
   "outputs": [],
   "source": [
    "# Save the model\n",
    "model.save(\"mnist_trained.h5\")"
   ]
  },
  {
   "cell_type": "markdown",
   "metadata": {},
   "source": [
    "# Evaluating the Model\n",
    "\n",
    "We use our testing data to validate our model. This is how we determine the validity of our model (i.e. the ability to predict new and previously unseen data points)"
   ]
  },
  {
   "cell_type": "code",
   "execution_count": null,
   "metadata": {},
   "outputs": [],
   "source": [
    "# Evaluate the model using the training data \n",
    "model_loss, model_accuracy = model.evaluate(X_test, y_test,verbose=2)\n",
    "print(f\"Loss: {model_loss}, Accuracy: {model_accuracy}\")"
   ]
  },
  {
   "cell_type": "markdown",
   "metadata": {},
   "source": [
    "# Making Predictions\n",
    "\n",
    "We can use our trained model to make predictions using `model.predict`"
   ]
  },
  {
   "cell_type": "code",
   "execution_count": null,
   "metadata": {},
   "outputs": [],
   "source": [
    "# Grab just one data point to test with\n",
    "test = np.expand_dims(X_train[0], axis=0)\n",
    "test.shape"
   ]
  },
  {
   "cell_type": "code",
   "execution_count": null,
   "metadata": {},
   "outputs": [],
   "source": [
    "predictions = model.predict(test)\n",
    "print('Predicted:', predictions)\n",
    "\n",
    "test_img = X_train[0].reshape(48, 48)\n",
    "plt.imshow(test_img)"
   ]
  }
 ],
 "metadata": {
  "kernelspec": {
   "display_name": "Python 3 (ipykernel)",
   "language": "python",
   "name": "python3"
  },
  "language_info": {
   "codemirror_mode": {
    "name": "ipython",
    "version": 3
   },
   "file_extension": ".py",
   "mimetype": "text/x-python",
   "name": "python",
   "nbconvert_exporter": "python",
   "pygments_lexer": "ipython3",
   "version": "3.7.13"
  }
 },
 "nbformat": 4,
 "nbformat_minor": 4
}
